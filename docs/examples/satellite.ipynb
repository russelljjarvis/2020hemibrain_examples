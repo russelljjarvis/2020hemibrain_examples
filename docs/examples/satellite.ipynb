{
  "cells": [
    {
      "cell_type": "markdown",
      "metadata": {
        "id": "UiAYGNwWhQS4"
      },
      "source": [
        "# Segment Anything Model for Geospatial Data\n",
        "\n",
        "[![image](https://studiolab.sagemaker.aws/studiolab.svg)](https://studiolab.sagemaker.aws/import/github/opengeos/segment-geospatial/blob/main/docs/examples/satellite.ipynb)\n",
        "[![image](https://colab.research.google.com/assets/colab-badge.svg)](https://colab.research.google.com/github/opengeos/segment-geospatial/blob/main/docs/examples/satellite.ipynb)\n",
        "\n",
        "This notebook shows how to use segment satellite imagery using the Segment Anything Model (SAM) with a few lines of code.\n",
        "\n",
        "Make sure you use GPU runtime for this notebook. For Google Colab, go to `Runtime` -> `Change runtime type` and select `GPU` as the hardware accelerator."
      ]
    },
    {
      "cell_type": "markdown",
      "metadata": {
        "id": "HKuvUSzThQS7"
      },
      "source": [
        "## Install dependencies\n",
        "\n",
        "Uncomment and run the following cell to install the required dependencies.\n"
      ]
    },
    {
      "cell_type": "code",
      "execution_count": 7,
      "metadata": {
        "colab": {
          "base_uri": "https://localhost:8080/",
          "height": 1000
        },
        "outputId": "6fd7154e-5d41-466f-d6d3-2befadb00c82",
        "id": "iIr8ynxlhQS8"
      },
      "outputs": [
        {
          "output_type": "stream",
          "name": "stdout",
          "text": [
            "Collecting segment-geospatial\n",
            "  Downloading segment_geospatial-0.12.4-py2.py3-none-any.whl.metadata (11 kB)\n",
            "Collecting fiona (from segment-geospatial)\n",
            "  Downloading fiona-1.10.1-cp311-cp311-manylinux_2_17_x86_64.manylinux2014_x86_64.whl.metadata (56 kB)\n",
            "\u001b[2K     \u001b[90m━━━━━━━━━━━━━━━━━━━━━━━━━━━━━━━━━━━━━━━━\u001b[0m \u001b[32m56.6/56.6 kB\u001b[0m \u001b[31m2.3 MB/s\u001b[0m eta \u001b[36m0:00:00\u001b[0m\n",
            "\u001b[?25hRequirement already satisfied: gdown in /usr/local/lib/python3.11/dist-packages (from segment-geospatial) (5.2.0)\n",
            "Requirement already satisfied: geopandas in /usr/local/lib/python3.11/dist-packages (from segment-geospatial) (1.0.1)\n",
            "Requirement already satisfied: huggingface_hub in /usr/local/lib/python3.11/dist-packages (from segment-geospatial) (0.29.3)\n",
            "Collecting ipympl (from segment-geospatial)\n",
            "  Downloading ipympl-0.9.7-py3-none-any.whl.metadata (8.7 kB)\n",
            "Collecting leafmap (from segment-geospatial)\n",
            "  Downloading leafmap-0.43.0-py2.py3-none-any.whl.metadata (16 kB)\n",
            "Collecting localtileserver (from segment-geospatial)\n",
            "  Downloading localtileserver-0.10.6-py3-none-any.whl.metadata (5.2 kB)\n",
            "Requirement already satisfied: matplotlib in /usr/local/lib/python3.11/dist-packages (from segment-geospatial) (3.10.0)\n",
            "Requirement already satisfied: opencv-python-headless in /usr/local/lib/python3.11/dist-packages (from segment-geospatial) (4.11.0.86)\n",
            "Collecting patool (from segment-geospatial)\n",
            "  Downloading patool-4.0.0-py2.py3-none-any.whl.metadata (4.5 kB)\n",
            "Requirement already satisfied: pycocotools in /usr/local/lib/python3.11/dist-packages (from segment-geospatial) (2.0.8)\n",
            "Requirement already satisfied: pyproj in /usr/local/lib/python3.11/dist-packages (from segment-geospatial) (3.7.1)\n",
            "Collecting rasterio (from segment-geospatial)\n",
            "  Downloading rasterio-1.4.3-cp311-cp311-manylinux_2_17_x86_64.manylinux2014_x86_64.whl.metadata (9.1 kB)\n",
            "Collecting rioxarray (from segment-geospatial)\n",
            "  Downloading rioxarray-0.18.2-py3-none-any.whl.metadata (5.4 kB)\n",
            "Collecting sam2 (from segment-geospatial)\n",
            "  Downloading sam2-1.1.0.tar.gz (152 kB)\n",
            "\u001b[2K     \u001b[90m━━━━━━━━━━━━━━━━━━━━━━━━━━━━━━━━━━━━━━━━\u001b[0m \u001b[32m152.8/152.8 kB\u001b[0m \u001b[31m8.0 MB/s\u001b[0m eta \u001b[36m0:00:00\u001b[0m\n",
            "\u001b[?25h  Installing build dependencies ... \u001b[?25l\u001b[?25hdone\n",
            "  Getting requirements to build wheel ... \u001b[?25l\u001b[?25hdone\n",
            "  Preparing metadata (pyproject.toml) ... \u001b[?25l\u001b[?25hdone\n",
            "Requirement already satisfied: scikit-image in /usr/local/lib/python3.11/dist-packages (from segment-geospatial) (0.25.2)\n",
            "Requirement already satisfied: scikit-learn in /usr/local/lib/python3.11/dist-packages (from segment-geospatial) (1.6.1)\n",
            "Collecting segment-anything-hq (from segment-geospatial)\n",
            "  Downloading segment_anything_hq-0.3-py3-none-any.whl.metadata (17 kB)\n",
            "Collecting segment-anything-py (from segment-geospatial)\n",
            "  Downloading segment_anything_py-1.0.1-py3-none-any.whl.metadata (11 kB)\n",
            "Requirement already satisfied: timm in /usr/local/lib/python3.11/dist-packages (from segment-geospatial) (1.0.15)\n",
            "Requirement already satisfied: tqdm in /usr/local/lib/python3.11/dist-packages (from segment-geospatial) (4.67.1)\n",
            "Requirement already satisfied: xarray in /usr/local/lib/python3.11/dist-packages (from segment-geospatial) (2025.1.2)\n",
            "Requirement already satisfied: xyzservices in /usr/local/lib/python3.11/dist-packages (from segment-geospatial) (2025.1.0)\n",
            "Requirement already satisfied: attrs>=19.2.0 in /usr/local/lib/python3.11/dist-packages (from fiona->segment-geospatial) (25.3.0)\n",
            "Requirement already satisfied: certifi in /usr/local/lib/python3.11/dist-packages (from fiona->segment-geospatial) (2025.1.31)\n",
            "Requirement already satisfied: click~=8.0 in /usr/local/lib/python3.11/dist-packages (from fiona->segment-geospatial) (8.1.8)\n",
            "Collecting click-plugins>=1.0 (from fiona->segment-geospatial)\n",
            "  Downloading click_plugins-1.1.1-py2.py3-none-any.whl.metadata (6.4 kB)\n",
            "Collecting cligj>=0.5 (from fiona->segment-geospatial)\n",
            "  Downloading cligj-0.7.2-py3-none-any.whl.metadata (5.0 kB)\n",
            "Requirement already satisfied: beautifulsoup4 in /usr/local/lib/python3.11/dist-packages (from gdown->segment-geospatial) (4.13.3)\n",
            "Requirement already satisfied: filelock in /usr/local/lib/python3.11/dist-packages (from gdown->segment-geospatial) (3.18.0)\n",
            "Requirement already satisfied: requests[socks] in /usr/local/lib/python3.11/dist-packages (from gdown->segment-geospatial) (2.32.3)\n",
            "Requirement already satisfied: numpy>=1.22 in /usr/local/lib/python3.11/dist-packages (from geopandas->segment-geospatial) (2.0.2)\n",
            "Requirement already satisfied: pyogrio>=0.7.2 in /usr/local/lib/python3.11/dist-packages (from geopandas->segment-geospatial) (0.10.0)\n",
            "Requirement already satisfied: packaging in /usr/local/lib/python3.11/dist-packages (from geopandas->segment-geospatial) (24.2)\n",
            "Requirement already satisfied: pandas>=1.4.0 in /usr/local/lib/python3.11/dist-packages (from geopandas->segment-geospatial) (2.2.2)\n",
            "Requirement already satisfied: shapely>=2.0.0 in /usr/local/lib/python3.11/dist-packages (from geopandas->segment-geospatial) (2.0.7)\n",
            "Requirement already satisfied: fsspec>=2023.5.0 in /usr/local/lib/python3.11/dist-packages (from huggingface_hub->segment-geospatial) (2025.3.0)\n",
            "Requirement already satisfied: pyyaml>=5.1 in /usr/local/lib/python3.11/dist-packages (from huggingface_hub->segment-geospatial) (6.0.2)\n",
            "Requirement already satisfied: typing-extensions>=3.7.4.3 in /usr/local/lib/python3.11/dist-packages (from huggingface_hub->segment-geospatial) (4.13.0)\n",
            "Requirement already satisfied: ipython<10 in /usr/local/lib/python3.11/dist-packages (from ipympl->segment-geospatial) (7.34.0)\n",
            "Requirement already satisfied: ipywidgets<9,>=7.6.0 in /usr/local/lib/python3.11/dist-packages (from ipympl->segment-geospatial) (7.7.1)\n",
            "Requirement already satisfied: pillow in /usr/local/lib/python3.11/dist-packages (from ipympl->segment-geospatial) (11.1.0)\n",
            "Requirement already satisfied: traitlets<6 in /usr/local/lib/python3.11/dist-packages (from ipympl->segment-geospatial) (5.7.1)\n",
            "Requirement already satisfied: contourpy>=1.0.1 in /usr/local/lib/python3.11/dist-packages (from matplotlib->segment-geospatial) (1.3.1)\n",
            "Requirement already satisfied: cycler>=0.10 in /usr/local/lib/python3.11/dist-packages (from matplotlib->segment-geospatial) (0.12.1)\n",
            "Requirement already satisfied: fonttools>=4.22.0 in /usr/local/lib/python3.11/dist-packages (from matplotlib->segment-geospatial) (4.56.0)\n",
            "Requirement already satisfied: kiwisolver>=1.3.1 in /usr/local/lib/python3.11/dist-packages (from matplotlib->segment-geospatial) (1.4.8)\n",
            "Requirement already satisfied: pyparsing>=2.3.1 in /usr/local/lib/python3.11/dist-packages (from matplotlib->segment-geospatial) (3.2.3)\n",
            "Requirement already satisfied: python-dateutil>=2.7 in /usr/local/lib/python3.11/dist-packages (from matplotlib->segment-geospatial) (2.8.2)\n",
            "Collecting anywidget (from leafmap->segment-geospatial)\n",
            "  Downloading anywidget-0.9.18-py3-none-any.whl.metadata (8.9 kB)\n",
            "Requirement already satisfied: bqplot in /usr/local/lib/python3.11/dist-packages (from leafmap->segment-geospatial) (0.12.44)\n",
            "Requirement already satisfied: colour in /usr/local/lib/python3.11/dist-packages (from leafmap->segment-geospatial) (0.1.5)\n",
            "Requirement already satisfied: duckdb in /usr/local/lib/python3.11/dist-packages (from leafmap->segment-geospatial) (1.2.1)\n",
            "Requirement already satisfied: folium in /usr/local/lib/python3.11/dist-packages (from leafmap->segment-geospatial) (0.19.5)\n",
            "Collecting geojson (from leafmap->segment-geospatial)\n",
            "  Downloading geojson-3.2.0-py3-none-any.whl.metadata (16 kB)\n",
            "Requirement already satisfied: ipyevents in /usr/local/lib/python3.11/dist-packages (from leafmap->segment-geospatial) (2.0.2)\n",
            "Requirement already satisfied: ipyfilechooser in /usr/local/lib/python3.11/dist-packages (from leafmap->segment-geospatial) (0.6.0)\n",
            "Requirement already satisfied: ipyleaflet in /usr/local/lib/python3.11/dist-packages (from leafmap->segment-geospatial) (0.19.2)\n",
            "Collecting ipyvuetify (from leafmap->segment-geospatial)\n",
            "  Downloading ipyvuetify-1.11.1-py2.py3-none-any.whl.metadata (7.5 kB)\n",
            "Requirement already satisfied: plotly in /usr/local/lib/python3.11/dist-packages (from leafmap->segment-geospatial) (5.24.1)\n",
            "Requirement already satisfied: psutil in /usr/local/lib/python3.11/dist-packages (from leafmap->segment-geospatial) (5.9.5)\n",
            "Requirement already satisfied: pyshp in /usr/local/lib/python3.11/dist-packages (from leafmap->segment-geospatial) (2.3.1)\n",
            "Collecting pystac-client (from leafmap->segment-geospatial)\n",
            "  Downloading pystac_client-0.8.6-py3-none-any.whl.metadata (3.0 kB)\n",
            "Requirement already satisfied: python-box in /usr/local/lib/python3.11/dist-packages (from leafmap->segment-geospatial) (7.3.2)\n",
            "Requirement already satisfied: scooby in /usr/local/lib/python3.11/dist-packages (from leafmap->segment-geospatial) (0.10.0)\n",
            "Collecting whiteboxgui (from leafmap->segment-geospatial)\n",
            "  Downloading whiteboxgui-2.3.0-py2.py3-none-any.whl.metadata (5.7 kB)\n",
            "Requirement already satisfied: flask<4,>=2.0.0 in /usr/local/lib/python3.11/dist-packages (from localtileserver->segment-geospatial) (3.1.0)\n",
            "Collecting Flask-Caching (from localtileserver->segment-geospatial)\n",
            "  Downloading Flask_Caching-2.3.1-py3-none-any.whl.metadata (2.2 kB)\n",
            "Collecting flask-cors (from localtileserver->segment-geospatial)\n",
            "  Downloading flask_cors-5.0.1-py3-none-any.whl.metadata (961 bytes)\n",
            "Collecting flask-restx>=1.3.0 (from localtileserver->segment-geospatial)\n",
            "  Downloading flask_restx-1.3.0-py2.py3-none-any.whl.metadata (9.3 kB)\n",
            "Collecting rio-tiler (from localtileserver->segment-geospatial)\n",
            "  Downloading rio_tiler-7.6.0-py3-none-any.whl.metadata (12 kB)\n",
            "Collecting rio-cogeo (from localtileserver->segment-geospatial)\n",
            "  Downloading rio_cogeo-5.4.1-py3-none-any.whl.metadata (4.7 kB)\n",
            "Collecting server-thread (from localtileserver->segment-geospatial)\n",
            "  Downloading server_thread-0.3.0-py3-none-any.whl.metadata (5.3 kB)\n",
            "Requirement already satisfied: werkzeug in /usr/local/lib/python3.11/dist-packages (from localtileserver->segment-geospatial) (3.1.3)\n",
            "Collecting affine (from rasterio->segment-geospatial)\n",
            "  Downloading affine-2.4.0-py3-none-any.whl.metadata (4.0 kB)\n",
            "Requirement already satisfied: torch>=2.5.1 in /usr/local/lib/python3.11/dist-packages (from sam2->segment-geospatial) (2.6.0+cu124)\n",
            "Requirement already satisfied: torchvision>=0.20.1 in /usr/local/lib/python3.11/dist-packages (from sam2->segment-geospatial) (0.21.0+cu124)\n",
            "Collecting hydra-core>=1.3.2 (from sam2->segment-geospatial)\n",
            "  Downloading hydra_core-1.3.2-py3-none-any.whl.metadata (5.5 kB)\n",
            "Collecting iopath>=0.1.10 (from sam2->segment-geospatial)\n",
            "  Downloading iopath-0.1.10.tar.gz (42 kB)\n",
            "\u001b[2K     \u001b[90m━━━━━━━━━━━━━━━━━━━━━━━━━━━━━━━━━━━━━━━━\u001b[0m \u001b[32m42.2/42.2 kB\u001b[0m \u001b[31m3.9 MB/s\u001b[0m eta \u001b[36m0:00:00\u001b[0m\n",
            "\u001b[?25h  Preparing metadata (setup.py) ... \u001b[?25l\u001b[?25hdone\n",
            "Requirement already satisfied: scipy>=1.11.4 in /usr/local/lib/python3.11/dist-packages (from scikit-image->segment-geospatial) (1.14.1)\n",
            "Requirement already satisfied: networkx>=3.0 in /usr/local/lib/python3.11/dist-packages (from scikit-image->segment-geospatial) (3.4.2)\n",
            "Requirement already satisfied: imageio!=2.35.0,>=2.33 in /usr/local/lib/python3.11/dist-packages (from scikit-image->segment-geospatial) (2.37.0)\n",
            "Requirement already satisfied: tifffile>=2022.8.12 in /usr/local/lib/python3.11/dist-packages (from scikit-image->segment-geospatial) (2025.3.13)\n",
            "Requirement already satisfied: lazy-loader>=0.4 in /usr/local/lib/python3.11/dist-packages (from scikit-image->segment-geospatial) (0.4)\n",
            "Requirement already satisfied: joblib>=1.2.0 in /usr/local/lib/python3.11/dist-packages (from scikit-learn->segment-geospatial) (1.4.2)\n",
            "Requirement already satisfied: threadpoolctl>=3.1.0 in /usr/local/lib/python3.11/dist-packages (from scikit-learn->segment-geospatial) (3.6.0)\n",
            "Requirement already satisfied: safetensors in /usr/local/lib/python3.11/dist-packages (from timm->segment-geospatial) (0.5.3)\n",
            "Requirement already satisfied: Jinja2>=3.1.2 in /usr/local/lib/python3.11/dist-packages (from flask<4,>=2.0.0->localtileserver->segment-geospatial) (3.1.6)\n",
            "Requirement already satisfied: itsdangerous>=2.2 in /usr/local/lib/python3.11/dist-packages (from flask<4,>=2.0.0->localtileserver->segment-geospatial) (2.2.0)\n",
            "Requirement already satisfied: blinker>=1.9 in /usr/local/lib/python3.11/dist-packages (from flask<4,>=2.0.0->localtileserver->segment-geospatial) (1.9.0)\n",
            "Collecting aniso8601>=0.82 (from flask-restx>=1.3.0->localtileserver->segment-geospatial)\n",
            "  Downloading aniso8601-10.0.0-py2.py3-none-any.whl.metadata (23 kB)\n",
            "Requirement already satisfied: jsonschema in /usr/local/lib/python3.11/dist-packages (from flask-restx>=1.3.0->localtileserver->segment-geospatial) (4.23.0)\n",
            "Requirement already satisfied: pytz in /usr/local/lib/python3.11/dist-packages (from flask-restx>=1.3.0->localtileserver->segment-geospatial) (2025.2)\n",
            "Requirement already satisfied: importlib-resources in /usr/local/lib/python3.11/dist-packages (from flask-restx>=1.3.0->localtileserver->segment-geospatial) (6.5.2)\n",
            "Collecting omegaconf<2.4,>=2.2 (from hydra-core>=1.3.2->sam2->segment-geospatial)\n",
            "  Downloading omegaconf-2.3.0-py3-none-any.whl.metadata (3.9 kB)\n",
            "Collecting antlr4-python3-runtime==4.9.* (from hydra-core>=1.3.2->sam2->segment-geospatial)\n",
            "  Downloading antlr4-python3-runtime-4.9.3.tar.gz (117 kB)\n",
            "\u001b[2K     \u001b[90m━━━━━━━━━━━━━━━━━━━━━━━━━━━━━━━━━━━━━━━━\u001b[0m \u001b[32m117.0/117.0 kB\u001b[0m \u001b[31m11.2 MB/s\u001b[0m eta \u001b[36m0:00:00\u001b[0m\n",
            "\u001b[?25h  Preparing metadata (setup.py) ... \u001b[?25l\u001b[?25hdone\n",
            "Collecting portalocker (from iopath>=0.1.10->sam2->segment-geospatial)\n",
            "  Downloading portalocker-3.1.1-py3-none-any.whl.metadata (8.6 kB)\n",
            "Requirement already satisfied: setuptools>=18.5 in /usr/local/lib/python3.11/dist-packages (from ipython<10->ipympl->segment-geospatial) (75.2.0)\n",
            "Collecting jedi>=0.16 (from ipython<10->ipympl->segment-geospatial)\n",
            "  Downloading jedi-0.19.2-py2.py3-none-any.whl.metadata (22 kB)\n",
            "Requirement already satisfied: decorator in /usr/local/lib/python3.11/dist-packages (from ipython<10->ipympl->segment-geospatial) (4.4.2)\n",
            "Requirement already satisfied: pickleshare in /usr/local/lib/python3.11/dist-packages (from ipython<10->ipympl->segment-geospatial) (0.7.5)\n",
            "Requirement already satisfied: prompt-toolkit!=3.0.0,!=3.0.1,<3.1.0,>=2.0.0 in /usr/local/lib/python3.11/dist-packages (from ipython<10->ipympl->segment-geospatial) (3.0.50)\n",
            "Requirement already satisfied: pygments in /usr/local/lib/python3.11/dist-packages (from ipython<10->ipympl->segment-geospatial) (2.18.0)\n",
            "Requirement already satisfied: backcall in /usr/local/lib/python3.11/dist-packages (from ipython<10->ipympl->segment-geospatial) (0.2.0)\n",
            "Requirement already satisfied: matplotlib-inline in /usr/local/lib/python3.11/dist-packages (from ipython<10->ipympl->segment-geospatial) (0.1.7)\n",
            "Requirement already satisfied: pexpect>4.3 in /usr/local/lib/python3.11/dist-packages (from ipython<10->ipympl->segment-geospatial) (4.9.0)\n",
            "Requirement already satisfied: ipykernel>=4.5.1 in /usr/local/lib/python3.11/dist-packages (from ipywidgets<9,>=7.6.0->ipympl->segment-geospatial) (6.17.1)\n",
            "Requirement already satisfied: ipython-genutils~=0.2.0 in /usr/local/lib/python3.11/dist-packages (from ipywidgets<9,>=7.6.0->ipympl->segment-geospatial) (0.2.0)\n",
            "Requirement already satisfied: widgetsnbextension~=3.6.0 in /usr/local/lib/python3.11/dist-packages (from ipywidgets<9,>=7.6.0->ipympl->segment-geospatial) (3.6.10)\n",
            "Requirement already satisfied: jupyterlab-widgets>=1.0.0 in /usr/local/lib/python3.11/dist-packages (from ipywidgets<9,>=7.6.0->ipympl->segment-geospatial) (3.0.13)\n",
            "Requirement already satisfied: tzdata>=2022.7 in /usr/local/lib/python3.11/dist-packages (from pandas>=1.4.0->geopandas->segment-geospatial) (2025.2)\n",
            "Requirement already satisfied: six>=1.5 in /usr/local/lib/python3.11/dist-packages (from python-dateutil>=2.7->matplotlib->segment-geospatial) (1.17.0)\n",
            "Collecting nvidia-cuda-nvrtc-cu12==12.4.127 (from torch>=2.5.1->sam2->segment-geospatial)\n",
            "  Using cached nvidia_cuda_nvrtc_cu12-12.4.127-py3-none-manylinux2014_x86_64.whl.metadata (1.5 kB)\n",
            "Collecting nvidia-cuda-runtime-cu12==12.4.127 (from torch>=2.5.1->sam2->segment-geospatial)\n",
            "  Using cached nvidia_cuda_runtime_cu12-12.4.127-py3-none-manylinux2014_x86_64.whl.metadata (1.5 kB)\n",
            "Collecting nvidia-cuda-cupti-cu12==12.4.127 (from torch>=2.5.1->sam2->segment-geospatial)\n",
            "  Using cached nvidia_cuda_cupti_cu12-12.4.127-py3-none-manylinux2014_x86_64.whl.metadata (1.6 kB)\n",
            "Collecting nvidia-cudnn-cu12==9.1.0.70 (from torch>=2.5.1->sam2->segment-geospatial)\n",
            "  Using cached nvidia_cudnn_cu12-9.1.0.70-py3-none-manylinux2014_x86_64.whl.metadata (1.6 kB)\n",
            "Collecting nvidia-cublas-cu12==12.4.5.8 (from torch>=2.5.1->sam2->segment-geospatial)\n",
            "  Using cached nvidia_cublas_cu12-12.4.5.8-py3-none-manylinux2014_x86_64.whl.metadata (1.5 kB)\n",
            "Collecting nvidia-cufft-cu12==11.2.1.3 (from torch>=2.5.1->sam2->segment-geospatial)\n",
            "  Using cached nvidia_cufft_cu12-11.2.1.3-py3-none-manylinux2014_x86_64.whl.metadata (1.5 kB)\n",
            "Collecting nvidia-curand-cu12==10.3.5.147 (from torch>=2.5.1->sam2->segment-geospatial)\n",
            "  Using cached nvidia_curand_cu12-10.3.5.147-py3-none-manylinux2014_x86_64.whl.metadata (1.5 kB)\n",
            "Collecting nvidia-cusolver-cu12==11.6.1.9 (from torch>=2.5.1->sam2->segment-geospatial)\n",
            "  Using cached nvidia_cusolver_cu12-11.6.1.9-py3-none-manylinux2014_x86_64.whl.metadata (1.6 kB)\n",
            "Collecting nvidia-cusparse-cu12==12.3.1.170 (from torch>=2.5.1->sam2->segment-geospatial)\n",
            "  Using cached nvidia_cusparse_cu12-12.3.1.170-py3-none-manylinux2014_x86_64.whl.metadata (1.6 kB)\n",
            "Requirement already satisfied: nvidia-cusparselt-cu12==0.6.2 in /usr/local/lib/python3.11/dist-packages (from torch>=2.5.1->sam2->segment-geospatial) (0.6.2)\n",
            "Requirement already satisfied: nvidia-nccl-cu12==2.21.5 in /usr/local/lib/python3.11/dist-packages (from torch>=2.5.1->sam2->segment-geospatial) (2.21.5)\n",
            "Requirement already satisfied: nvidia-nvtx-cu12==12.4.127 in /usr/local/lib/python3.11/dist-packages (from torch>=2.5.1->sam2->segment-geospatial) (12.4.127)\n",
            "Collecting nvidia-nvjitlink-cu12==12.4.127 (from torch>=2.5.1->sam2->segment-geospatial)\n",
            "  Using cached nvidia_nvjitlink_cu12-12.4.127-py3-none-manylinux2014_x86_64.whl.metadata (1.5 kB)\n",
            "Requirement already satisfied: triton==3.2.0 in /usr/local/lib/python3.11/dist-packages (from torch>=2.5.1->sam2->segment-geospatial) (3.2.0)\n",
            "Requirement already satisfied: sympy==1.13.1 in /usr/local/lib/python3.11/dist-packages (from torch>=2.5.1->sam2->segment-geospatial) (1.13.1)\n",
            "Requirement already satisfied: mpmath<1.4,>=1.1.0 in /usr/local/lib/python3.11/dist-packages (from sympy==1.13.1->torch>=2.5.1->sam2->segment-geospatial) (1.3.0)\n",
            "Requirement already satisfied: MarkupSafe>=2.1.1 in /usr/local/lib/python3.11/dist-packages (from werkzeug->localtileserver->segment-geospatial) (3.0.2)\n",
            "Collecting psygnal>=0.8.1 (from anywidget->leafmap->segment-geospatial)\n",
            "  Downloading psygnal-0.12.0-cp311-cp311-manylinux_2_17_x86_64.manylinux2014_x86_64.whl.metadata (7.7 kB)\n",
            "Requirement already satisfied: soupsieve>1.2 in /usr/local/lib/python3.11/dist-packages (from beautifulsoup4->gdown->segment-geospatial) (2.6)\n",
            "Requirement already satisfied: traittypes>=0.0.6 in /usr/local/lib/python3.11/dist-packages (from bqplot->leafmap->segment-geospatial) (0.2.1)\n",
            "Collecting cachelib>=0.9.0 (from Flask-Caching->localtileserver->segment-geospatial)\n",
            "  Downloading cachelib-0.13.0-py3-none-any.whl.metadata (2.0 kB)\n",
            "Requirement already satisfied: branca>=0.6.0 in /usr/local/lib/python3.11/dist-packages (from folium->leafmap->segment-geospatial) (0.8.1)\n",
            "Requirement already satisfied: jupyter-leaflet<0.20,>=0.19 in /usr/local/lib/python3.11/dist-packages (from ipyleaflet->leafmap->segment-geospatial) (0.19.2)\n",
            "Collecting ipyvue<2,>=1.7 (from ipyvuetify->leafmap->segment-geospatial)\n",
            "  Downloading ipyvue-1.11.2-py2.py3-none-any.whl.metadata (1.1 kB)\n",
            "Requirement already satisfied: tenacity>=6.2.0 in /usr/local/lib/python3.11/dist-packages (from plotly->leafmap->segment-geospatial) (9.0.0)\n",
            "Collecting pystac>=1.10.0 (from pystac[validation]>=1.10.0->pystac-client->leafmap->segment-geospatial)\n",
            "  Downloading pystac-1.12.2-py3-none-any.whl.metadata (4.6 kB)\n",
            "Requirement already satisfied: charset-normalizer<4,>=2 in /usr/local/lib/python3.11/dist-packages (from requests[socks]->gdown->segment-geospatial) (3.4.1)\n",
            "Requirement already satisfied: idna<4,>=2.5 in /usr/local/lib/python3.11/dist-packages (from requests[socks]->gdown->segment-geospatial) (3.10)\n",
            "Requirement already satisfied: urllib3<3,>=1.21.1 in /usr/local/lib/python3.11/dist-packages (from requests[socks]->gdown->segment-geospatial) (2.3.0)\n",
            "Requirement already satisfied: PySocks!=1.5.7,>=1.5.6 in /usr/local/lib/python3.11/dist-packages (from requests[socks]->gdown->segment-geospatial) (1.7.1)\n",
            "Collecting morecantile<7.0,>=5.0 (from rio-cogeo->localtileserver->segment-geospatial)\n",
            "  Downloading morecantile-6.2.0-py3-none-any.whl.metadata (7.3 kB)\n",
            "Requirement already satisfied: pydantic~=2.0 in /usr/local/lib/python3.11/dist-packages (from rio-cogeo->localtileserver->segment-geospatial) (2.11.0)\n",
            "Requirement already satisfied: cachetools in /usr/local/lib/python3.11/dist-packages (from rio-tiler->localtileserver->segment-geospatial) (5.5.2)\n",
            "Collecting color-operations (from rio-tiler->localtileserver->segment-geospatial)\n",
            "  Downloading color_operations-0.2.0-cp311-cp311-manylinux_2_5_x86_64.manylinux1_x86_64.manylinux_2_17_x86_64.manylinux2014_x86_64.whl.metadata (6.3 kB)\n",
            "Requirement already satisfied: httpx in /usr/local/lib/python3.11/dist-packages (from rio-tiler->localtileserver->segment-geospatial) (0.28.1)\n",
            "Requirement already satisfied: numexpr in /usr/local/lib/python3.11/dist-packages (from rio-tiler->localtileserver->segment-geospatial) (2.10.2)\n",
            "Collecting uvicorn (from server-thread->localtileserver->segment-geospatial)\n",
            "  Downloading uvicorn-0.34.0-py3-none-any.whl.metadata (6.5 kB)\n",
            "Requirement already satisfied: ipytree in /usr/local/lib/python3.11/dist-packages (from whiteboxgui->leafmap->segment-geospatial) (0.2.2)\n",
            "Collecting whitebox (from whiteboxgui->leafmap->segment-geospatial)\n",
            "  Downloading whitebox-2.3.6-py2.py3-none-any.whl.metadata (11 kB)\n",
            "Requirement already satisfied: debugpy>=1.0 in /usr/local/lib/python3.11/dist-packages (from ipykernel>=4.5.1->ipywidgets<9,>=7.6.0->ipympl->segment-geospatial) (1.8.0)\n",
            "Requirement already satisfied: jupyter-client>=6.1.12 in /usr/local/lib/python3.11/dist-packages (from ipykernel>=4.5.1->ipywidgets<9,>=7.6.0->ipympl->segment-geospatial) (6.1.12)\n",
            "Requirement already satisfied: nest-asyncio in /usr/local/lib/python3.11/dist-packages (from ipykernel>=4.5.1->ipywidgets<9,>=7.6.0->ipympl->segment-geospatial) (1.6.0)\n",
            "Requirement already satisfied: pyzmq>=17 in /usr/local/lib/python3.11/dist-packages (from ipykernel>=4.5.1->ipywidgets<9,>=7.6.0->ipympl->segment-geospatial) (24.0.1)\n",
            "Requirement already satisfied: tornado>=6.1 in /usr/local/lib/python3.11/dist-packages (from ipykernel>=4.5.1->ipywidgets<9,>=7.6.0->ipympl->segment-geospatial) (6.4.2)\n",
            "Requirement already satisfied: parso<0.9.0,>=0.8.4 in /usr/local/lib/python3.11/dist-packages (from jedi>=0.16->ipython<10->ipympl->segment-geospatial) (0.8.4)\n",
            "Requirement already satisfied: ptyprocess>=0.5 in /usr/local/lib/python3.11/dist-packages (from pexpect>4.3->ipython<10->ipympl->segment-geospatial) (0.7.0)\n",
            "Requirement already satisfied: wcwidth in /usr/local/lib/python3.11/dist-packages (from prompt-toolkit!=3.0.0,!=3.0.1,<3.1.0,>=2.0.0->ipython<10->ipympl->segment-geospatial) (0.2.13)\n",
            "Requirement already satisfied: annotated-types>=0.6.0 in /usr/local/lib/python3.11/dist-packages (from pydantic~=2.0->rio-cogeo->localtileserver->segment-geospatial) (0.7.0)\n",
            "Requirement already satisfied: pydantic-core==2.33.0 in /usr/local/lib/python3.11/dist-packages (from pydantic~=2.0->rio-cogeo->localtileserver->segment-geospatial) (2.33.0)\n",
            "Requirement already satisfied: typing-inspection>=0.4.0 in /usr/local/lib/python3.11/dist-packages (from pydantic~=2.0->rio-cogeo->localtileserver->segment-geospatial) (0.4.0)\n",
            "Requirement already satisfied: jsonschema-specifications>=2023.03.6 in /usr/local/lib/python3.11/dist-packages (from jsonschema->flask-restx>=1.3.0->localtileserver->segment-geospatial) (2024.10.1)\n",
            "Requirement already satisfied: referencing>=0.28.4 in /usr/local/lib/python3.11/dist-packages (from jsonschema->flask-restx>=1.3.0->localtileserver->segment-geospatial) (0.36.2)\n",
            "Requirement already satisfied: rpds-py>=0.7.1 in /usr/local/lib/python3.11/dist-packages (from jsonschema->flask-restx>=1.3.0->localtileserver->segment-geospatial) (0.24.0)\n",
            "Requirement already satisfied: notebook>=4.4.1 in /usr/local/lib/python3.11/dist-packages (from widgetsnbextension~=3.6.0->ipywidgets<9,>=7.6.0->ipympl->segment-geospatial) (6.5.7)\n",
            "Requirement already satisfied: anyio in /usr/local/lib/python3.11/dist-packages (from httpx->rio-tiler->localtileserver->segment-geospatial) (4.9.0)\n",
            "Requirement already satisfied: httpcore==1.* in /usr/local/lib/python3.11/dist-packages (from httpx->rio-tiler->localtileserver->segment-geospatial) (1.0.7)\n",
            "Requirement already satisfied: h11<0.15,>=0.13 in /usr/local/lib/python3.11/dist-packages (from httpcore==1.*->httpx->rio-tiler->localtileserver->segment-geospatial) (0.14.0)\n",
            "Requirement already satisfied: jupyter-core>=4.6.0 in /usr/local/lib/python3.11/dist-packages (from jupyter-client>=6.1.12->ipykernel>=4.5.1->ipywidgets<9,>=7.6.0->ipympl->segment-geospatial) (5.7.2)\n",
            "Requirement already satisfied: argon2-cffi in /usr/local/lib/python3.11/dist-packages (from notebook>=4.4.1->widgetsnbextension~=3.6.0->ipywidgets<9,>=7.6.0->ipympl->segment-geospatial) (23.1.0)\n",
            "Requirement already satisfied: nbformat in /usr/local/lib/python3.11/dist-packages (from notebook>=4.4.1->widgetsnbextension~=3.6.0->ipywidgets<9,>=7.6.0->ipympl->segment-geospatial) (5.10.4)\n",
            "Requirement already satisfied: nbconvert>=5 in /usr/local/lib/python3.11/dist-packages (from notebook>=4.4.1->widgetsnbextension~=3.6.0->ipywidgets<9,>=7.6.0->ipympl->segment-geospatial) (7.16.6)\n",
            "Requirement already satisfied: Send2Trash>=1.8.0 in /usr/local/lib/python3.11/dist-packages (from notebook>=4.4.1->widgetsnbextension~=3.6.0->ipywidgets<9,>=7.6.0->ipympl->segment-geospatial) (1.8.3)\n",
            "Requirement already satisfied: terminado>=0.8.3 in /usr/local/lib/python3.11/dist-packages (from notebook>=4.4.1->widgetsnbextension~=3.6.0->ipywidgets<9,>=7.6.0->ipympl->segment-geospatial) (0.18.1)\n",
            "Requirement already satisfied: prometheus-client in /usr/local/lib/python3.11/dist-packages (from notebook>=4.4.1->widgetsnbextension~=3.6.0->ipywidgets<9,>=7.6.0->ipympl->segment-geospatial) (0.21.1)\n",
            "Requirement already satisfied: nbclassic>=0.4.7 in /usr/local/lib/python3.11/dist-packages (from notebook>=4.4.1->widgetsnbextension~=3.6.0->ipywidgets<9,>=7.6.0->ipympl->segment-geospatial) (1.2.0)\n",
            "Requirement already satisfied: sniffio>=1.1 in /usr/local/lib/python3.11/dist-packages (from anyio->httpx->rio-tiler->localtileserver->segment-geospatial) (1.3.1)\n",
            "Requirement already satisfied: platformdirs>=2.5 in /usr/local/lib/python3.11/dist-packages (from jupyter-core>=4.6.0->jupyter-client>=6.1.12->ipykernel>=4.5.1->ipywidgets<9,>=7.6.0->ipympl->segment-geospatial) (4.3.7)\n",
            "Requirement already satisfied: notebook-shim>=0.2.3 in /usr/local/lib/python3.11/dist-packages (from nbclassic>=0.4.7->notebook>=4.4.1->widgetsnbextension~=3.6.0->ipywidgets<9,>=7.6.0->ipympl->segment-geospatial) (0.2.4)\n",
            "Requirement already satisfied: bleach!=5.0.0 in /usr/local/lib/python3.11/dist-packages (from bleach[css]!=5.0.0->nbconvert>=5->notebook>=4.4.1->widgetsnbextension~=3.6.0->ipywidgets<9,>=7.6.0->ipympl->segment-geospatial) (6.2.0)\n",
            "Requirement already satisfied: defusedxml in /usr/local/lib/python3.11/dist-packages (from nbconvert>=5->notebook>=4.4.1->widgetsnbextension~=3.6.0->ipywidgets<9,>=7.6.0->ipympl->segment-geospatial) (0.7.1)\n",
            "Requirement already satisfied: jupyterlab-pygments in /usr/local/lib/python3.11/dist-packages (from nbconvert>=5->notebook>=4.4.1->widgetsnbextension~=3.6.0->ipywidgets<9,>=7.6.0->ipympl->segment-geospatial) (0.3.0)\n",
            "Requirement already satisfied: mistune<4,>=2.0.3 in /usr/local/lib/python3.11/dist-packages (from nbconvert>=5->notebook>=4.4.1->widgetsnbextension~=3.6.0->ipywidgets<9,>=7.6.0->ipympl->segment-geospatial) (3.1.3)\n",
            "Requirement already satisfied: nbclient>=0.5.0 in /usr/local/lib/python3.11/dist-packages (from nbconvert>=5->notebook>=4.4.1->widgetsnbextension~=3.6.0->ipywidgets<9,>=7.6.0->ipympl->segment-geospatial) (0.10.2)\n",
            "Requirement already satisfied: pandocfilters>=1.4.1 in /usr/local/lib/python3.11/dist-packages (from nbconvert>=5->notebook>=4.4.1->widgetsnbextension~=3.6.0->ipywidgets<9,>=7.6.0->ipympl->segment-geospatial) (1.5.1)\n",
            "Requirement already satisfied: fastjsonschema>=2.15 in /usr/local/lib/python3.11/dist-packages (from nbformat->notebook>=4.4.1->widgetsnbextension~=3.6.0->ipywidgets<9,>=7.6.0->ipympl->segment-geospatial) (2.21.1)\n",
            "Requirement already satisfied: argon2-cffi-bindings in /usr/local/lib/python3.11/dist-packages (from argon2-cffi->notebook>=4.4.1->widgetsnbextension~=3.6.0->ipywidgets<9,>=7.6.0->ipympl->segment-geospatial) (21.2.0)\n",
            "Requirement already satisfied: webencodings in /usr/local/lib/python3.11/dist-packages (from bleach!=5.0.0->bleach[css]!=5.0.0->nbconvert>=5->notebook>=4.4.1->widgetsnbextension~=3.6.0->ipywidgets<9,>=7.6.0->ipympl->segment-geospatial) (0.5.1)\n",
            "Requirement already satisfied: tinycss2<1.5,>=1.1.0 in /usr/local/lib/python3.11/dist-packages (from bleach[css]!=5.0.0->nbconvert>=5->notebook>=4.4.1->widgetsnbextension~=3.6.0->ipywidgets<9,>=7.6.0->ipympl->segment-geospatial) (1.4.0)\n",
            "Requirement already satisfied: jupyter-server<3,>=1.8 in /usr/local/lib/python3.11/dist-packages (from notebook-shim>=0.2.3->nbclassic>=0.4.7->notebook>=4.4.1->widgetsnbextension~=3.6.0->ipywidgets<9,>=7.6.0->ipympl->segment-geospatial) (1.16.0)\n",
            "Requirement already satisfied: cffi>=1.0.1 in /usr/local/lib/python3.11/dist-packages (from argon2-cffi-bindings->argon2-cffi->notebook>=4.4.1->widgetsnbextension~=3.6.0->ipywidgets<9,>=7.6.0->ipympl->segment-geospatial) (1.17.1)\n",
            "Requirement already satisfied: pycparser in /usr/local/lib/python3.11/dist-packages (from cffi>=1.0.1->argon2-cffi-bindings->argon2-cffi->notebook>=4.4.1->widgetsnbextension~=3.6.0->ipywidgets<9,>=7.6.0->ipympl->segment-geospatial) (2.22)\n",
            "Requirement already satisfied: websocket-client in /usr/local/lib/python3.11/dist-packages (from jupyter-server<3,>=1.8->notebook-shim>=0.2.3->nbclassic>=0.4.7->notebook>=4.4.1->widgetsnbextension~=3.6.0->ipywidgets<9,>=7.6.0->ipympl->segment-geospatial) (1.8.0)\n",
            "Downloading segment_geospatial-0.12.4-py2.py3-none-any.whl (73 kB)\n",
            "\u001b[2K   \u001b[90m━━━━━━━━━━━━━━━━━━━━━━━━━━━━━━━━━━━━━━━━\u001b[0m \u001b[32m73.8/73.8 kB\u001b[0m \u001b[31m7.2 MB/s\u001b[0m eta \u001b[36m0:00:00\u001b[0m\n",
            "\u001b[?25hDownloading fiona-1.10.1-cp311-cp311-manylinux_2_17_x86_64.manylinux2014_x86_64.whl (17.3 MB)\n",
            "\u001b[2K   \u001b[90m━━━━━━━━━━━━━━━━━━━━━━━━━━━━━━━━━━━━━━━━\u001b[0m \u001b[32m17.3/17.3 MB\u001b[0m \u001b[31m91.8 MB/s\u001b[0m eta \u001b[36m0:00:00\u001b[0m\n",
            "\u001b[?25hDownloading ipympl-0.9.7-py3-none-any.whl (515 kB)\n",
            "\u001b[2K   \u001b[90m━━━━━━━━━━━━━━━━━━━━━━━━━━━━━━━━━━━━━━━━\u001b[0m \u001b[32m515.7/515.7 kB\u001b[0m \u001b[31m40.6 MB/s\u001b[0m eta \u001b[36m0:00:00\u001b[0m\n",
            "\u001b[?25hDownloading leafmap-0.43.0-py2.py3-none-any.whl (523 kB)\n",
            "\u001b[2K   \u001b[90m━━━━━━━━━━━━━━━━━━━━━━━━━━━━━━━━━━━━━━━━\u001b[0m \u001b[32m523.8/523.8 kB\u001b[0m \u001b[31m42.0 MB/s\u001b[0m eta \u001b[36m0:00:00\u001b[0m\n",
            "\u001b[?25hDownloading localtileserver-0.10.6-py3-none-any.whl (17.1 MB)\n",
            "\u001b[2K   \u001b[90m━━━━━━━━━━━━━━━━━━━━━━━━━━━━━━━━━━━━━━━━\u001b[0m \u001b[32m17.1/17.1 MB\u001b[0m \u001b[31m55.2 MB/s\u001b[0m eta \u001b[36m0:00:00\u001b[0m\n",
            "\u001b[?25hDownloading patool-4.0.0-py2.py3-none-any.whl (86 kB)\n",
            "\u001b[2K   \u001b[90m━━━━━━━━━━━━━━━━━━━━━━━━━━━━━━━━━━━━━━━━\u001b[0m \u001b[32m86.3/86.3 kB\u001b[0m \u001b[31m6.8 MB/s\u001b[0m eta \u001b[36m0:00:00\u001b[0m\n",
            "\u001b[?25hDownloading rasterio-1.4.3-cp311-cp311-manylinux_2_17_x86_64.manylinux2014_x86_64.whl (22.2 MB)\n",
            "\u001b[2K   \u001b[90m━━━━━━━━━━━━━━━━━━━━━━━━━━━━━━━━━━━━━━━━\u001b[0m \u001b[32m22.2/22.2 MB\u001b[0m \u001b[31m90.3 MB/s\u001b[0m eta \u001b[36m0:00:00\u001b[0m\n",
            "\u001b[?25hDownloading rioxarray-0.18.2-py3-none-any.whl (61 kB)\n",
            "\u001b[2K   \u001b[90m━━━━━━━━━━━━━━━━━━━━━━━━━━━━━━━━━━━━━━━━\u001b[0m \u001b[32m61.9/61.9 kB\u001b[0m \u001b[31m6.2 MB/s\u001b[0m eta \u001b[36m0:00:00\u001b[0m\n",
            "\u001b[?25hDownloading segment_anything_hq-0.3-py3-none-any.whl (52 kB)\n",
            "\u001b[2K   \u001b[90m━━━━━━━━━━━━━━━━━━━━━━━━━━━━━━━━━━━━━━━━\u001b[0m \u001b[32m53.0/53.0 kB\u001b[0m \u001b[31m5.4 MB/s\u001b[0m eta \u001b[36m0:00:00\u001b[0m\n",
            "\u001b[?25hDownloading segment_anything_py-1.0.1-py3-none-any.whl (40 kB)\n",
            "\u001b[2K   \u001b[90m━━━━━━━━━━━━━━━━━━━━━━━━━━━━━━━━━━━━━━━━\u001b[0m \u001b[32m40.5/40.5 kB\u001b[0m \u001b[31m4.1 MB/s\u001b[0m eta \u001b[36m0:00:00\u001b[0m\n",
            "\u001b[?25hDownloading click_plugins-1.1.1-py2.py3-none-any.whl (7.5 kB)\n",
            "Downloading cligj-0.7.2-py3-none-any.whl (7.1 kB)\n",
            "Downloading flask_restx-1.3.0-py2.py3-none-any.whl (2.8 MB)\n",
            "\u001b[2K   \u001b[90m━━━━━━━━━━━━━━━━━━━━━━━━━━━━━━━━━━━━━━━━\u001b[0m \u001b[32m2.8/2.8 MB\u001b[0m \u001b[31m72.1 MB/s\u001b[0m eta \u001b[36m0:00:00\u001b[0m\n",
            "\u001b[?25hDownloading hydra_core-1.3.2-py3-none-any.whl (154 kB)\n",
            "\u001b[2K   \u001b[90m━━━━━━━━━━━━━━━━━━━━━━━━━━━━━━━━━━━━━━━━\u001b[0m \u001b[32m154.5/154.5 kB\u001b[0m \u001b[31m17.2 MB/s\u001b[0m eta \u001b[36m0:00:00\u001b[0m\n",
            "\u001b[?25hUsing cached nvidia_cublas_cu12-12.4.5.8-py3-none-manylinux2014_x86_64.whl (363.4 MB)\n",
            "Using cached nvidia_cuda_cupti_cu12-12.4.127-py3-none-manylinux2014_x86_64.whl (13.8 MB)\n",
            "Using cached nvidia_cuda_nvrtc_cu12-12.4.127-py3-none-manylinux2014_x86_64.whl (24.6 MB)\n",
            "Using cached nvidia_cuda_runtime_cu12-12.4.127-py3-none-manylinux2014_x86_64.whl (883 kB)\n",
            "Using cached nvidia_cudnn_cu12-9.1.0.70-py3-none-manylinux2014_x86_64.whl (664.8 MB)\n",
            "Using cached nvidia_cufft_cu12-11.2.1.3-py3-none-manylinux2014_x86_64.whl (211.5 MB)\n",
            "Using cached nvidia_curand_cu12-10.3.5.147-py3-none-manylinux2014_x86_64.whl (56.3 MB)\n",
            "Using cached nvidia_cusolver_cu12-11.6.1.9-py3-none-manylinux2014_x86_64.whl (127.9 MB)\n",
            "Using cached nvidia_cusparse_cu12-12.3.1.170-py3-none-manylinux2014_x86_64.whl (207.5 MB)\n",
            "Using cached nvidia_nvjitlink_cu12-12.4.127-py3-none-manylinux2014_x86_64.whl (21.1 MB)\n",
            "Downloading affine-2.4.0-py3-none-any.whl (15 kB)\n",
            "Downloading anywidget-0.9.18-py3-none-any.whl (220 kB)\n",
            "\u001b[2K   \u001b[90m━━━━━━━━━━━━━━━━━━━━━━━━━━━━━━━━━━━━━━━━\u001b[0m \u001b[32m220.7/220.7 kB\u001b[0m \u001b[31m19.9 MB/s\u001b[0m eta \u001b[36m0:00:00\u001b[0m\n",
            "\u001b[?25hDownloading Flask_Caching-2.3.1-py3-none-any.whl (28 kB)\n",
            "Downloading flask_cors-5.0.1-py3-none-any.whl (11 kB)\n",
            "Downloading geojson-3.2.0-py3-none-any.whl (15 kB)\n",
            "Downloading ipyvuetify-1.11.1-py2.py3-none-any.whl (7.7 MB)\n",
            "\u001b[2K   \u001b[90m━━━━━━━━━━━━━━━━━━━━━━━━━━━━━━━━━━━━━━━━\u001b[0m \u001b[32m7.7/7.7 MB\u001b[0m \u001b[31m91.8 MB/s\u001b[0m eta \u001b[36m0:00:00\u001b[0m\n",
            "\u001b[?25hDownloading pystac_client-0.8.6-py3-none-any.whl (41 kB)\n",
            "\u001b[2K   \u001b[90m━━━━━━━━━━━━━━━━━━━━━━━━━━━━━━━━━━━━━━━━\u001b[0m \u001b[32m41.4/41.4 kB\u001b[0m \u001b[31m3.4 MB/s\u001b[0m eta \u001b[36m0:00:00\u001b[0m\n",
            "\u001b[?25hDownloading rio_cogeo-5.4.1-py3-none-any.whl (20 kB)\n",
            "Downloading rio_tiler-7.6.0-py3-none-any.whl (268 kB)\n",
            "\u001b[2K   \u001b[90m━━━━━━━━━━━━━━━━━━━━━━━━━━━━━━━━━━━━━━━━\u001b[0m \u001b[32m268.2/268.2 kB\u001b[0m \u001b[31m22.3 MB/s\u001b[0m eta \u001b[36m0:00:00\u001b[0m\n",
            "\u001b[?25hDownloading server_thread-0.3.0-py3-none-any.whl (6.6 kB)\n",
            "Downloading whiteboxgui-2.3.0-py2.py3-none-any.whl (108 kB)\n",
            "\u001b[2K   \u001b[90m━━━━━━━━━━━━━━━━━━━━━━━━━━━━━━━━━━━━━━━━\u001b[0m \u001b[32m108.6/108.6 kB\u001b[0m \u001b[31m10.3 MB/s\u001b[0m eta \u001b[36m0:00:00\u001b[0m\n",
            "\u001b[?25hDownloading aniso8601-10.0.0-py2.py3-none-any.whl (52 kB)\n",
            "\u001b[2K   \u001b[90m━━━━━━━━━━━━━━━━━━━━━━━━━━━━━━━━━━━━━━━━\u001b[0m \u001b[32m52.8/52.8 kB\u001b[0m \u001b[31m5.0 MB/s\u001b[0m eta \u001b[36m0:00:00\u001b[0m\n",
            "\u001b[?25hDownloading cachelib-0.13.0-py3-none-any.whl (20 kB)\n",
            "Downloading ipyvue-1.11.2-py2.py3-none-any.whl (2.7 MB)\n",
            "\u001b[2K   \u001b[90m━━━━━━━━━━━━━━━━━━━━━━━━━━━━━━━━━━━━━━━━\u001b[0m \u001b[32m2.7/2.7 MB\u001b[0m \u001b[31m87.5 MB/s\u001b[0m eta \u001b[36m0:00:00\u001b[0m\n",
            "\u001b[?25hDownloading jedi-0.19.2-py2.py3-none-any.whl (1.6 MB)\n",
            "\u001b[2K   \u001b[90m━━━━━━━━━━━━━━━━━━━━━━━━━━━━━━━━━━━━━━━━\u001b[0m \u001b[32m1.6/1.6 MB\u001b[0m \u001b[31m70.3 MB/s\u001b[0m eta \u001b[36m0:00:00\u001b[0m\n",
            "\u001b[?25hDownloading morecantile-6.2.0-py3-none-any.whl (49 kB)\n",
            "\u001b[2K   \u001b[90m━━━━━━━━━━━━━━━━━━━━━━━━━━━━━━━━━━━━━━━━\u001b[0m \u001b[32m49.5/49.5 kB\u001b[0m \u001b[31m4.6 MB/s\u001b[0m eta \u001b[36m0:00:00\u001b[0m\n",
            "\u001b[?25hDownloading omegaconf-2.3.0-py3-none-any.whl (79 kB)\n",
            "\u001b[2K   \u001b[90m━━━━━━━━━━━━━━━━━━━━━━━━━━━━━━━━━━━━━━━━\u001b[0m \u001b[32m79.5/79.5 kB\u001b[0m \u001b[31m7.9 MB/s\u001b[0m eta \u001b[36m0:00:00\u001b[0m\n",
            "\u001b[?25hDownloading psygnal-0.12.0-cp311-cp311-manylinux_2_17_x86_64.manylinux2014_x86_64.whl (765 kB)\n",
            "\u001b[2K   \u001b[90m━━━━━━━━━━━━━━━━━━━━━━━━━━━━━━━━━━━━━━━━\u001b[0m \u001b[32m765.5/765.5 kB\u001b[0m \u001b[31m50.1 MB/s\u001b[0m eta \u001b[36m0:00:00\u001b[0m\n",
            "\u001b[?25hDownloading pystac-1.12.2-py3-none-any.whl (194 kB)\n",
            "\u001b[2K   \u001b[90m━━━━━━━━━━━━━━━━━━━━━━━━━━━━━━━━━━━━━━━━\u001b[0m \u001b[32m194.2/194.2 kB\u001b[0m \u001b[31m18.3 MB/s\u001b[0m eta \u001b[36m0:00:00\u001b[0m\n",
            "\u001b[?25hDownloading color_operations-0.2.0-cp311-cp311-manylinux_2_5_x86_64.manylinux1_x86_64.manylinux_2_17_x86_64.manylinux2014_x86_64.whl (195 kB)\n",
            "\u001b[2K   \u001b[90m━━━━━━━━━━━━━━━━━━━━━━━━━━━━━━━━━━━━━━━━\u001b[0m \u001b[32m195.2/195.2 kB\u001b[0m \u001b[31m18.8 MB/s\u001b[0m eta \u001b[36m0:00:00\u001b[0m\n",
            "\u001b[?25hDownloading portalocker-3.1.1-py3-none-any.whl (19 kB)\n",
            "Downloading uvicorn-0.34.0-py3-none-any.whl (62 kB)\n",
            "\u001b[2K   \u001b[90m━━━━━━━━━━━━━━━━━━━━━━━━━━━━━━━━━━━━━━━━\u001b[0m \u001b[32m62.3/62.3 kB\u001b[0m \u001b[31m5.9 MB/s\u001b[0m eta \u001b[36m0:00:00\u001b[0m\n",
            "\u001b[?25hDownloading whitebox-2.3.6-py2.py3-none-any.whl (74 kB)\n",
            "\u001b[2K   \u001b[90m━━━━━━━━━━━━━━━━━━━━━━━━━━━━━━━━━━━━━━━━\u001b[0m \u001b[32m74.0/74.0 kB\u001b[0m \u001b[31m7.1 MB/s\u001b[0m eta \u001b[36m0:00:00\u001b[0m\n",
            "\u001b[?25hBuilding wheels for collected packages: sam2, antlr4-python3-runtime, iopath\n",
            "  Building wheel for sam2 (pyproject.toml) ... \u001b[?25l\u001b[?25hdone\n",
            "  Created wheel for sam2: filename=sam2-1.1.0-cp311-cp311-linux_x86_64.whl size=471080 sha256=d51cdd39d0e94df3bd998514cbac0822210df23581e8dc66226f6619de19078c\n",
            "  Stored in directory: /root/.cache/pip/wheels/d5/c6/ed/164df00d6a31203bc2cd1f65385761825e32a77417b90cc3c7\n",
            "  Building wheel for antlr4-python3-runtime (setup.py) ... \u001b[?25l\u001b[?25hdone\n",
            "  Created wheel for antlr4-python3-runtime: filename=antlr4_python3_runtime-4.9.3-py3-none-any.whl size=144554 sha256=2a5e3f7a105ce9665bd765495cc7c13e2d5b78f976faece7a6373ed0f3fd48d3\n",
            "  Stored in directory: /root/.cache/pip/wheels/1a/97/32/461f837398029ad76911109f07047fde1d7b661a147c7c56d1\n",
            "  Building wheel for iopath (setup.py) ... \u001b[?25l\u001b[?25hdone\n",
            "  Created wheel for iopath: filename=iopath-0.1.10-py3-none-any.whl size=31527 sha256=2fdf7f3d059e1327dbb3738632802126d8c85c271801635ff162a79cab62e40c\n",
            "  Stored in directory: /root/.cache/pip/wheels/ba/5e/16/6117f8fe7e9c0c161a795e10d94645ebcf301ccbd01f66d8ec\n",
            "Successfully built sam2 antlr4-python3-runtime iopath\n",
            "Installing collected packages: antlr4-python3-runtime, aniso8601, whitebox, uvicorn, psygnal, portalocker, patool, omegaconf, nvidia-nvjitlink-cu12, nvidia-curand-cu12, nvidia-cufft-cu12, nvidia-cuda-runtime-cu12, nvidia-cuda-nvrtc-cu12, nvidia-cuda-cupti-cu12, nvidia-cublas-cu12, jedi, geojson, color-operations, cligj, click-plugins, cachelib, affine, server-thread, rasterio, pystac, nvidia-cusparse-cu12, nvidia-cudnn-cu12, iopath, hydra-core, fiona, nvidia-cusolver-cu12, morecantile, flask-cors, Flask-Caching, rioxarray, rio-tiler, rio-cogeo, flask-restx, pystac-client, localtileserver, segment-anything-py, segment-anything-hq, sam2, ipyvue, ipympl, anywidget, whiteboxgui, ipyvuetify, leafmap, segment-geospatial\n",
            "  Attempting uninstall: nvidia-nvjitlink-cu12\n",
            "    Found existing installation: nvidia-nvjitlink-cu12 12.5.82\n",
            "    Uninstalling nvidia-nvjitlink-cu12-12.5.82:\n",
            "      Successfully uninstalled nvidia-nvjitlink-cu12-12.5.82\n",
            "  Attempting uninstall: nvidia-curand-cu12\n",
            "    Found existing installation: nvidia-curand-cu12 10.3.6.82\n",
            "    Uninstalling nvidia-curand-cu12-10.3.6.82:\n",
            "      Successfully uninstalled nvidia-curand-cu12-10.3.6.82\n",
            "  Attempting uninstall: nvidia-cufft-cu12\n",
            "    Found existing installation: nvidia-cufft-cu12 11.2.3.61\n",
            "    Uninstalling nvidia-cufft-cu12-11.2.3.61:\n",
            "      Successfully uninstalled nvidia-cufft-cu12-11.2.3.61\n",
            "  Attempting uninstall: nvidia-cuda-runtime-cu12\n",
            "    Found existing installation: nvidia-cuda-runtime-cu12 12.5.82\n",
            "    Uninstalling nvidia-cuda-runtime-cu12-12.5.82:\n",
            "      Successfully uninstalled nvidia-cuda-runtime-cu12-12.5.82\n",
            "  Attempting uninstall: nvidia-cuda-nvrtc-cu12\n",
            "    Found existing installation: nvidia-cuda-nvrtc-cu12 12.5.82\n",
            "    Uninstalling nvidia-cuda-nvrtc-cu12-12.5.82:\n",
            "      Successfully uninstalled nvidia-cuda-nvrtc-cu12-12.5.82\n",
            "  Attempting uninstall: nvidia-cuda-cupti-cu12\n",
            "    Found existing installation: nvidia-cuda-cupti-cu12 12.5.82\n",
            "    Uninstalling nvidia-cuda-cupti-cu12-12.5.82:\n",
            "      Successfully uninstalled nvidia-cuda-cupti-cu12-12.5.82\n",
            "  Attempting uninstall: nvidia-cublas-cu12\n",
            "    Found existing installation: nvidia-cublas-cu12 12.5.3.2\n",
            "    Uninstalling nvidia-cublas-cu12-12.5.3.2:\n",
            "      Successfully uninstalled nvidia-cublas-cu12-12.5.3.2\n",
            "  Attempting uninstall: nvidia-cusparse-cu12\n",
            "    Found existing installation: nvidia-cusparse-cu12 12.5.1.3\n",
            "    Uninstalling nvidia-cusparse-cu12-12.5.1.3:\n",
            "      Successfully uninstalled nvidia-cusparse-cu12-12.5.1.3\n",
            "  Attempting uninstall: nvidia-cudnn-cu12\n",
            "    Found existing installation: nvidia-cudnn-cu12 9.3.0.75\n",
            "    Uninstalling nvidia-cudnn-cu12-9.3.0.75:\n",
            "      Successfully uninstalled nvidia-cudnn-cu12-9.3.0.75\n",
            "  Attempting uninstall: nvidia-cusolver-cu12\n",
            "    Found existing installation: nvidia-cusolver-cu12 11.6.3.83\n",
            "    Uninstalling nvidia-cusolver-cu12-11.6.3.83:\n",
            "      Successfully uninstalled nvidia-cusolver-cu12-11.6.3.83\n",
            "Successfully installed Flask-Caching-2.3.1 affine-2.4.0 aniso8601-10.0.0 antlr4-python3-runtime-4.9.3 anywidget-0.9.18 cachelib-0.13.0 click-plugins-1.1.1 cligj-0.7.2 color-operations-0.2.0 fiona-1.10.1 flask-cors-5.0.1 flask-restx-1.3.0 geojson-3.2.0 hydra-core-1.3.2 iopath-0.1.10 ipympl-0.9.7 ipyvue-1.11.2 ipyvuetify-1.11.1 jedi-0.19.2 leafmap-0.43.0 localtileserver-0.10.6 morecantile-6.2.0 nvidia-cublas-cu12-12.4.5.8 nvidia-cuda-cupti-cu12-12.4.127 nvidia-cuda-nvrtc-cu12-12.4.127 nvidia-cuda-runtime-cu12-12.4.127 nvidia-cudnn-cu12-9.1.0.70 nvidia-cufft-cu12-11.2.1.3 nvidia-curand-cu12-10.3.5.147 nvidia-cusolver-cu12-11.6.1.9 nvidia-cusparse-cu12-12.3.1.170 nvidia-nvjitlink-cu12-12.4.127 omegaconf-2.3.0 patool-4.0.0 portalocker-3.1.1 psygnal-0.12.0 pystac-1.12.2 pystac-client-0.8.6 rasterio-1.4.3 rio-cogeo-5.4.1 rio-tiler-7.6.0 rioxarray-0.18.2 sam2-1.1.0 segment-anything-hq-0.3 segment-anything-py-1.0.1 segment-geospatial-0.12.4 server-thread-0.3.0 uvicorn-0.34.0 whitebox-2.3.6 whiteboxgui-2.3.0\n"
          ]
        },
        {
          "output_type": "display_data",
          "data": {
            "application/vnd.colab-display-data+json": {
              "pip_warning": {
                "packages": [
                  "pydevd_plugins"
                ]
              },
              "id": "04b229917d0345dc83c029a734c040ed"
            }
          },
          "metadata": {}
        }
      ],
      "source": [
        "#%pip install segment-geospatial"
      ]
    },
    {
      "cell_type": "markdown",
      "metadata": {
        "id": "XBIjrGI_hQS_"
      },
      "source": [
        "## Import libraries"
      ]
    },
    {
      "cell_type": "code",
      "execution_count": 8,
      "metadata": {
        "id": "7dLFUbcphQTA"
      },
      "outputs": [],
      "source": [
        "import os\n",
        "import leafmap\n",
        "from samgeo import SamGeo, tms_to_geotiff, get_basemaps"
      ]
    },
    {
      "cell_type": "markdown",
      "metadata": {
        "id": "CSlMVNPkhQTA"
      },
      "source": [
        "## Create an interactive map"
      ]
    },
    {
      "cell_type": "code",
      "execution_count": 9,
      "metadata": {
        "id": "EiGaJqp8hQTA",
        "outputId": "2b11dde2-aee9-4b3e-e3e5-e1e188092eea",
        "colab": {
          "resources": {
            "http://localhost:45361/api/tiles/19/123250/216850.png?&filename=%2Fcontent%2Fsatellite.tif": {
              "data": "iVBORw0KGgoAAAANSUhEUgAAAQAAAAEACAYAAABccqhmAAAgAElEQVR4nOy9aYylWZrf9TvLu939xo2MiMyM3COzKqtr666uXmam3bRnejESoPHQBgEDDJYl0MwYMAZh5A8lMQgQGFu2MBKyAHkEGloeezR241ndm7t7unqpruquNSvXyozM2O6Nu77bWfjwRtysAkTMJ3os3p90lXd9b+SVznOe8yz/R1BTU/P/yt/5y/+uB+h32zhbkpc5g7VT7O7vgA4gDugPVrn99g3aOmE8OmSSLdi8dI5WoPnyl7/M5z/7BaIg4tqVLe7evsdiNmNn5yEvfPRp2r0+D7f3aLU7xEnAndvvcPpsH1c6xqOCwWDAe++9x3B8SK/Xo9fv45xDBY5bt17j4f4hV5/6MGsbZ3n0cJf1fodXXv4jnnrmSb5/63V+8OpbHC4EmWsyHEvKMqaZrKFkiPpJ/7g1NX/S+TMff/4l7xzOGpqNhGaryd7BPnv7e+zuHTBdLPBAr90hncw52N/n4HDEuYvnOdg/YLZYMFhZYW9vl8l0yptvvM7N27d47iPPEyYBjx7t8Bt/7zdROmBtY51GknA4HtNqdWk12sTNBve3H7C+sUGz2UQGmslsymw+49q1S3RXTjHPDYvcUhQ5zWaTtcEKB8M9vBJsbT3F6vomK4Oz7O5PwYeYwiMQtQGoqTmJz7/4oZeSZsLqSh9rLY1GQtxI6HR63L57l9JbDI7r157g4b173H/vHirU7A0PmByOeeGjH0XrgKtXt9g4s8HKqT63793m0tZlDieHXLh0iVd/9GOa7RZKa+7cfY9mu8siL+h2u8wXC0aHhwitOBgOsd6BEkRxSGFzMgPv3LrDrXv3effmbba2ttjcPEO72eTs2XO8t71HqzPg9JlL3Llznzhs4rwH72sDUFNzEn/+F77wkgAODg648c7bjCZjpFIMTq1ycDhme3+P/f0hVy9vkeiAXr/HhSuX8Epy/sIlLl2pFn6712M4PqTV6xE3YvaGB1glQAiefPIpjLGcWtsgabf5g3/yVTbOnOX86Q1u3LhBb7DC1tYWiyxFhwHOObaubjHNFvzgtddpdFb48Zs3GM+m9LpdhsM9ut0Ow4MxSkUEcRMIuH//IQ8fPCSKQgb9Nvon/ePW1PxJJ88zhBT0B32mswlra2usn96gP1gljBvMFxky0Ozu77F15iyHhyMODw8Zjke88+4d5nlBGIa89fYbTKdjLl++zLkL57n9zg2evHaF3DrWBytcvnyZQMc82NlFRg1+9/e/wuZKj62tLRqNBllRsLm5yd7eHr1OF6EV3ZUBa2fO8sPX3+b6s0+z2u/xe7/zD/n8p3+Gbr/H/bsP+Ngnf4ZX3nyHL//+7zIez4kiQyOxGHNYewA1NSfxZ37qmZfKPOfs2dO0mi1KY1Ba8zu/+7vM04Jmt8v5C+fpt9v83j/+HTY21rnz4C5xs0lu4O6DB6RFgfGSWVqwyB1/9PIrzNOMxXyKEgqc5XD/AKklt+7c4tbtO5w5u0FLK6QQlEXBzqMdDnb3aDabvP3WWySNmKjV5JVXXyNqttg4fZonnrzGvTs3WVvtM5+MGfRW+co3/ilv33qX7qkBWZly/tJZOr2YZ559ovYAampOotlMEEIwGg/ptLr0V1b42je/yeraOk9+6MMM0wmn1leZHOyTJAlaSy5eOk8pJff3hswWcyaLjI3TZ0E3mRWwevoyezvb/OxnP8toZ5c8XfBwd4dmI+TWu2+ydrbP9avXONfpA/Bw+yHDwxGdfo8yzdBC8q1v/FNa6z0WixkibHLj7TcwxZwrl85z5vQplHdkZc47N9/kyeefZ3t4QBBbNi8NmExmNLq+NgA1NSdR2oI8yyjSgkk8pd3p0Ww22dnb586du7zz3m02z5/m3Tff4GPPPEOYxCRJm8M8I2426ElNmlk6vVXGsx3euXGLzfMXmcxKxqMJURBiypQ4kDQbEUpaVlZX0coz6PYYj8ec29yk3WrR7nQAaEQxe/s75HnKSq/H4SJleLDHwf4jLl/YYDYf02+3ePpDz5ALxyib89Z7N+muNAkTEIucpFVnAWpqTuTPfuYTL6WzlOlkxuUrF9FaMp9P2Nq6QtJIuHvrXd55802aUUSv3+fTf+rT7O7uU2YFT1+5wqDTZ6W/xmLhyHJBc2WNP/jqN4maHd587SadwRof/elP8L//5t+jPehx9erTDLqnOX/mMm++e4PUOcJWm96pNQoPIozorKzycH9Es7PBtesvELZOgW5TGI8pLHs7Q5pxhwfb2+wfTpgb2LxwmdX1M+wfHLC7twvO1R5ATc1J9AcX8HIfp1s41SKOQ7aur7DIcoyRPPvsx7h79y7Xr1/n9OnTqKhPr79JfwDtZoPOimV7Z8LhfJv5Yswrb7zF+YtbRFGECz2/9dWv8/I7r3Dv4Q69G3fYyiPOrF9E55qRb3H13FUOplPeuPGI1dVViqLg0dvvsj32mIMRw/Qejw6nLMqC4Qyev/4kg04DrQ1OlAQy4MGjHQaNDulixq07D9i6fIGVlR7iJ/3j1tT8Seev/5W/6h0e5yyHh0M2NzdRWjA8mDCelRhj2NnZYW1tjd3dXVqtFvfv32c6HrG+PiBK2uztT7lx5z5ehhjhya0hNRnPf+oZlChZX23zox/+gM31M9y//YgH9/YZ9M8wmUxpNpvMZjPCMARgPp8jhKDfbpMIQ2odqYV5usB7y2ov4VOf+AhhZGn0PAeHY+aZYWX1FPP5nIODPTrtJuPhQW0AampO4tLqk945R56ngCdJEvIixVmBJSIIAowx5HlOkiTMZjOSJEEpCaLAownDhCBq0u70UIHkcDxkZmY0zzfYunyejbVTfP87L3P92rP8/j/+GtI1OBzOCaOIZrNJWZYIIeh0OpRlibUWYQ2RSykcJO0epXE4X2CLOVcubnJms8tBfhutNasrq5SlxeQZodJoIYijoDYANTUncXrlBa+UoNFooANJnucYUxDoBERIWZZorbHWYozBOYcQAqGgcClhGBPpiKwoUQisKxgM+gxO92meSXjy2hZf//rXeOLqdV5/9S3u3twhCfukaU6UfPCUnuc5UsrqgXckAXg0pZVIFWBsgcaQpoecv7jK4JwiCgLaSczh/h6xVjSSGOE8ElEbgJqak/jpj/9rHhxJkmCdAWA+n5LnJWleACCEwFoLgPce5xzOOXQEeAlIytKgpcJjEL7ECUtqp3S7XfLFnEbcYngwQ/kYZxVBECCiEu893nuApXE5fs66AnyAswqhArAOHXgQBdYv+NDTm3z6pz/JxXPrjPe3kaYkiQK0lhhjagNQU3MST1//ghfCM5/POd58S5MD1WIXQmCMWXoAxzu0tRbjS6RU4DVSavI8pTTVUUJrWbn23hIEAVmWEagQgcY5iXElYfLBRJ219rEBwFIUKVJEeKdRKiKOQ6zLMTZFS08Dz/UnLvLEpdN87CPXCWTJZHqAtSXGmzoLUFNzEuligjEF8/mUxWKBx2GtRUrwRx6Bc44wDEnztOqykwohJV44lArAa6IoJggVzVYXRHVUiMJV8jwjigLanSZaa5RSRDrCOcfgzBpKKZRSSClpNpsopRBCILF0WwGKCHyAUhErKysEgSBMJO1GEzXO+dt/66+x3uzzo+98l4vnVljfWGGa5UwXaW0AampOIsvHjCcH/Ed/6Ve5cPEMQniiICCKIk5tnEJrjRCCJElotVpH1YCaIAioHHfNrZt3aTbbGOuPrupAOLK0QGtdBfZcFUtwztFMGhhnEUqR5zlBECClXB4tlFKEWuNdCV5irUNKjTUepSsPIQ4j1NTyP/+1/5Z/9ef+Bb7zytf42T/7s/z6b/wvaAGbg/XaANTUnMR4PALh+bd/6Re5ePksZTZHSokKNaa01VncWsIwrM7VQiwXqVAwm6Xs7j0gmbbROkJKiRAe76vzfFk8PtvP0xQAdxRMVIGmKApsEFSBxaNYgxCCXErwVdzBWosUGueq2IBSAd46/CxFS8m502f5+h9Z/tff+E1E3EEaz3RqawNQU3MSRWFwvqAsKnc/yzKE8KhC4ZDLFKDWehmsU0oRxzHCV4s7y7Iqa4A6ep/FObv8DiEESqkPxBS893jBctc/fu34PoBWVRjPWosXAuf8kfEJ8N6jQ8X9h/d59fUfc/HyVT753Bb39x/y8ec+Qrp/WBuAmpqT0DpESs2jR4+4cnVzef631hJEyfKMrrVGSrnM2UspKcoqWBiG4QfO8tba5S0IAoCl93BsCI6fO97xnXPL48ZxINA5B1RGAuGw1i2/2xiD8oYwjpgtFnzz+9/lycDzh9/+FosZ/NX/8D9G/mR+0pqaf3YwpSXPc9I0Rxzt4GEYEgQBeZ5XLrqt3iOEIAxDrLXM53PKsiSKouV73r+be++XhkGIaif33i8NyPt3fe/9Mj5wvMCP7wPLGMGxAam+xxBHAbYs6HR6PP/CC3zqn/ssN+8+4L/4r/47BhsXag+gpuYkgiChNJ7h8HC5gJ0Da0uEqBbv8e6/LAI6XqTY5QKvUoSV2++c/UBO//2LHR6nF48T9R/I/R8ZEmstWgVH13MI1NJwGGMAjysdodL8+JVXeevBLUYB/NznPsd455B//9/7ldoDqKk5ieNddTqdLu9LyQcWupTyA6778WtQxQPgKFAnHy+54x37+PPHj48X8fH9489Xwb3qCHHsEfxfC4SOv1trTSNOoLSstDocjkZ88Ytf5JOf+Bhf+tKXWBQL/sbf+Ou1B1BTcxJSaLxQHB4evm+XrnZteRRsO97Fj3f7451aqMc79/t38eOFW5blcuEf8/7zvuOxV2DtY29CCEEURZijGIO1lkA/9h6OrxPrgIP9fSgtv/mlL9F64jyXLpxjc/MMf+dv/e3aANTUnIQPQrCOB/cfopQmioKqmk84bJlTluXR7i9RWiKlILclYRITxTHgyfOcMGiQ5wuCIMC66jPGWqSXRFHEYlG9ppQijKqqQXVUGCSlwPvjY4dASkjTOUpV71da4PA4XHV9X4IMIAkJmy1S73j2hY/TvHqG17fv8NnP/SlUMa2PADU1J+GoovaFKZfPee+XjT9a6+X9oiiW3XrOOYwtkFIShiFSSqIoriL5KMIgJtARAoUpHXHUQKsQgcJZaCQtkqSJtR5jHCCPYg8ea/3RY7fMFLzfu3DOYbzBScckX/Cpz/xpcut4+8Y7fP7zn+fjL75AqxHXHkBNzUkkSUJqF8zncwCU1kQyIs9zojBBSsl0OgV4XAHoPUmjgZAaJTVCKLIsJ0laaB1gjGU+XxDHMXEcLQ2IUpWxKMsSYyxKCPK8IIoipFQIIZcBwCAIPlBLAFAUxeNqQQm2MIhAs/XkE3TPnyY42+UHr79CPp0z2RvWHkBNzUm0223CMFzm3BECqYNlQM85RxRFy2DdceBOK02R5XgHoY6Iw4RWo40Smk6ri5aKRqNBkiR0Oh2CICBJEsIwJI7j5W4eHJUde+9pNBqEYbj8juOCo+PngiBAa73sKVhdXyP3llsP7nHh6hXanQ6rKwM++cKL7Ny7XxuAmpo/DlprsiyDo1p+WxZkWbbM/ydJsuwBmM/nzOdzbFmSJAlCStbX1+n3uwSBqrQEAkW73V4WDh0vXKXUsiDIe79sAGq1WkRRBLCME8RxvCwMgqOg35HhCMMQhECEGqEVdx/cxynBPEvZ39/nxRc+ys797doA1NScxHQ6ZTgcsrGxAUrgj9p+oTIMURR9oEYfKq8gz3PAARZvc5ypWn+bSYQtC/JiAcKiAwHCLm9BKJHKI6RDKSiKlMlkhJQeawucK7G2wFrz/5g+PC4KkkKgpaoKi5SkNIbDyZh//Rf/Df7H3/gNXnzxxToGUFPzx6UsS7CevMjxuKVXIKWkKAqMMTQajeUZfT6fEoTVCM4sm1EUrmoh9h6EI4oVxmQopUjT4mhxc1TJZwFDUR61HzuQSuOpagmkciAMtrJDyzqA46akKu0oUQ6wjul0ihMQNhKCKMKNDvmX/9wXawNQU3MS+/v7iKPAGvJxTr4sS5I4XlYAHscBjheg9xYpHEpqAq3Ae7yrSoLDSCMRlDjcUUZBKol1Jc5XUX2pQAhPnqdHRuZYHEThnMGYAgiXf+dx7cFxBiKJQ6wxhDpge3sbFWgiEXPr3h2y7Uf046g2ADU1J/Ghpy6TLsasra+AdAgP0nqaSUJqM6SPCXQDqRIm8yk6kMzyCb1uG+M1xkhUlGAxeKUJk6pE2AFSNas0HhrnBdJLnHUUhSMIQsCSGUuzGWOFrLQDrEVFjx8LpRBUPQS5NYQ6ocwN3km0b1IGAQ/HQwSapAgJJgVKO3JzUBuAmpqT+Iu/8svcvfcur//45co1l4IgTpjNJiyyjDjStJoB8/mcTqfFIh2jlKrcdhGhVESnvcrYT9E6RIeKtMgIgoAwaC5lxI4r+KSUVcCRqhsw0opINwlUAB7CUJO5jHa7TZYWxGFMIA2Zz5BxTCNqgV3gbIAQmma3R+ohabaRIuTt17/H5tmE+WJaG4CampP45V/+VRAlT1zbpDRgfdXP32oPCBoWIRyOFB3meOGwLqXZ7GBKKBbQbCgkCSafIwnIrSNdGHLp0IFmsVgQRRFZli2zAM45Go0WRS7IUo1wEiGqY8bBbMZiseCt8X0ajcYy7pCmKYvFYikjrvGkKzNa3QGLwvLe9m41hgzFweGMK1uXa1HQmpqTOHXqw346HXH+3IAf/eh7gCMMJYejMb1+l/3hQ+KGx9i0qhjMBFnq+Sv/6Ut871uvsXn2Ars7Q6yXFKas1ICEpygKmo0ei8WCbrfLYrEgSRKg0g/odvsUuSVN06Xs+HFdQLPZZLFYUJTpskahLEuyLFu+VwpPJ47xomSaTkmChP1HO1zbOsvnP/cxXvjItdoDqKk5iUbSoigysgL+/t//Mm+9/Sa2LHjvvQeMRgdcuXqGX/7VfwvHHJAkUZ+V/gZPbD3DW6/cw5WSM6cvABKkxAn7uJtQxssCnyzLPtASDBCGjigOl+3ExwZCCIFUHqmCo16EECESnGtVQiBKYUuHtAqlDavra+ztHfDs8y/gyilnzp7n2pNP1wagpuYknPMIAlYH6/zKX/zLzOdTsnROoGJKu+Bf+hc/x7nNq0xn+2gdcu/ODpPRLuc2L/DE1lWQAUpGCFW5+/ZI0hspcKbS/8dBqMJl8Y+UEiGhNHMCrY52dUVVV3BkPPAorQgDuVQZEkJhzJEikPSYuVtWEW5sbHB6dR3snI2NDc6ePlMbgJqakxBCEUURs9mC6SxFqYj+oItEsJgqwqDNowdz0swQx5rpxDA+fMj29kPKMqfRCEA6yjJFKY83BoPBWw8iQkhFURRHBT3gvMWaqgw4iqsd/ri24Ng7qMqQ5dHfB96Dcxx1DQqcA+9cddywjmYr4eK5K9iyZDwa4cuS2aTWBKypORHvPVEUU5aWOGpVeX6pUHiSuEGWOv7Upz7PxYsXGY0OiKKqdj+OAhKp8ERoEeCUQGoFwmKNw/uqmMfYSs/P+eNjgUAKgRAKaxTWVLu+KR/rDSAUeIszfik0ItBoGeBF1TLsKdE6p5kkXLpwkXa7hS8Mi/EO8/mUVrddG4CampMIg3hZ2LO2ulEV2uApsoyssGip2bp8CWstp9c3jmr5FaHUlM4wzwxSVpH+KIoIAo3KFRZ/1L1XIo/KeJ3zS0UfJQXWeZSsDECQBEsBESUF3lm8EwRKI9VRcVKxQEiPkBKtSmLtuXjhNEmg0QJ8JMic4fajEbcfzGoDUFNzEtY9VvmtRPo8EocSgn6/T5IkOFe+b3Bn9T4vNChBWhiU8gitwZhqcYchCjDWHV1fIuSRLw9YV8UJPALHccuvR2qBcxYpBCrQmBJUoBDSY0yB0gItJLnJCZTj4oVzDFb69PorHI6njMZjWt0eQdzm97/yzdoA1NT8cXl/1x0okAqpBIu8IIgThK7GhKM8zko8YJ1D6gDrPePZnCiqIvlSSrRUgHx8ZvcgpToSCD2W9nos/X3M8RBSIRReKLIiR6vKQMWBIkvnNGPNhXObtFoNjHfs7Q8ROiBNS6wXdNoDNi+cq7sBa2pOokrZeawt8UeTeB4LeWom4xnG2Pd15T1W5318jcdCHmmaViPGXaXxF0XRUuDz/UM/gA+o/Ly/UvC48cd483jWgCspspx+p83WxUucPn2asJlggCBpMJ7METLAofnGN7+DELr2AGpqTiIIq9JcJYOjrrtjHX+JMUU1Aeh948AArLFHXX+PRT6jKFpKeB2X+8aBAu/QgUSKagwYePCgdUBRlDhrjoKDuioFDo7mA2gBxuDKkqgRkc8Luv0u58+f59TqKlILbt15yNraGUbTOS9/74c8erRNaXJWVwd86lOfrg1ATc1JVN14ogqueYW11U6eL1Li2OFsTqu5wmh0gJQaZz0CgRQe503l23uHd1V03xhTDfEUEuM9cRyTZSnOWnCG8GjgSOkK8FW8QQqJPhIPMa54PD/AlERhwnR0QL/f5/TGWc5f3GJnZ4d5mvLVb7xMvz9gZ3uH+XxOGCj6/RWMMZw5s1EbgJqak3FHlXYSZ48KdYTGRyUrnQCbpxzu7yAlKA/WGGxRueylSZFRVLUCU8UEtNb40jJPMwLh8Y0GWmvObmzw4MEDkkATiUp/IMtTsNWUYDAIYyiKYilCokzBykqXfisBEXD16lWEDPjKN75NEMZMZyXz+T5hmNDtJ1y9cpFbN9+k023y8ne/VRuAmpqTOG6ukVLhjnLuWmnQAfl8xqlrF9FaMZ9PcaZAWEcgBFJpVroraK2rHb0sK/dfVOd4HYUkoSCKAvr9PhfPn8EWlVDo6uoqZVnSbjeW6kPHcYf5fE6r1arKg8ucfm+V1Y2z7A+nqKDB7/7hV3nl1TcYrK0jgyZlXhCikbJSN9JhgBCe3/qtf1AbgJqakzDOo6IGpXEYVaLwOCdAtcil5XOf+yzn1xqkswmoKsiWzxes9LoUzmCMoSxLFllBnuc0W52qJiAMOXj4kGazye7uLpPJIWcGLU6fPcO5c+ewriTPM5pJE28s4qhQyOMIG5V4aJkZkBoRJewPD/jmt1/ha1/7Ns32KjrqgE0hrIxTp9Pi9t336HVjVk+dZn1jUBuAmpqTmB4uiJoKL45n9BWUzpLnlvliRBRq+t0GrdDhVcj+wSHpdEgyaBHGHu8leS5pNEJ00MYYx/b2e5w/d4FBr8v9B/d48/XXuXDhHM898yHiOGIyOiCKA0y5QCYh3jnyvKTVapNbz42bN3lw/yHZouTpZ5/hqec+jHXwymuvUVpDp9PCGo+x5qiDMCIIIjrrTYb7OwyHI77+9a/XBqCm5iTKdIH0CplEeAxSGRyORTYHb5hNR6RTmAz3cVLTbHYxjZibN95ENyuJsLwsCHSE8VCUJb1uB2MW7I5G3N/eRmjBE088gSkLFpMxvVaLjdNr3Lj9Brs791kbrNPu9pjOMt66dZfv/uA1VBgRq4BXfnSTL/3275NZmEzntHtdvPR0ui1GwxQhIAg0ZWmJghC84v57j1hbO406+b9fU/P/c4ripTJPccbhvUUpgZYBi0VKNjvkma1NnriwjrCVMKgzhmwxo0znKCVpJg0CFdJKWiRxjCkMWkh2dnbZH44oyowrly8TRxrlweQZgRSMRgfowKGkoMgNv/cHX+EPvvotXnn9XTa3rjOdG27feUDuJLfvbjPLShAhMghI85yiLDBlSRhGJFGDIs/Jsowiz+j2ekwmtSJQTc2J/MzHztNIThE1N/jBq29wOJ4St0/hbUgjCOh320ShhjKgtIJ2p0s5XyCabaaLnIVw9AcreCdI4oTDcsGd97ZxeMbzEec3zzEY9MHaKmOIJVCSOIyYFxl4T6vd4PSZdd648R6LvCTNHW+8cxtfFjT7jiDpkBclXgh63R5KjZktMpQWKCVJkqhSKp5N0DrElJY8M7UHUFNzEv/5X/rFlzZPr3Dh3AYbayu89sabWBOSphbnZjx1ZZNBKyYONWleYq3nYG+PtVOnSDNPXpQkcQshNbNpymyRce/efcaHh1x74jIr3S7ZfE4zifBHdQPtdoPJZMLe/h6z6YwojDh99iwffuGj3N/e4403b9BotfnIRz/K8x/+CHjF7t4BjaRBFGiarSbD/X10GBCGIRcvXOThw4fMZzMaSXyU1RC1AaipOYlf/Ve+8NKplTbz6Q5JS9LptvnRj98gTtrM5mOef2qLj3/kaZIowAlJXjpGoyHTyYTV0xu0Oy0W6Yx5nuK85fbdW+RFzkdffIHN9QF7Ozv0Ox2krPT9w0jjj0SBVgcbrK+vMZlOWVs7RZpmJM0Wt27d5PKVK+yPh7zzzg0WswxrHM1GE+EcUaBptxK6q10O9vfZefgQ5yxKCsoi49SpAVme1gagpuYkPvPkxZdG+49wfsJkscPK+gqd7oCXX/khHsVzT17huae2sM6wd3CI1BFJHBPFIUEMabFgthizd7DDdD5if7TH8x95BoFDWocpSuazKesbG4CjMDnWGcrSgKuW6Hw+ZTg8YHVtjYsXLrBY5Ny8fZOd4ZBssUCgKLKcSAWUeUaeLUjiiKdfeI67d++QZxnpIiWKAmxZ0O11qvHiP9mftqbmTz5f/OyLL6lQYwWM5wsePtym09VsDCJmw0M+9tHnWFldxVqNsYIoTmh3OsyzjEnmMA5mkxmT8ZhivuDMxikunNkg0oI0n9JuJwSqKvWdHU7wpcNkGc46SusZT2c455iN9llJApqR5NKlCzz3kRfIrCGOEqQQ9PsrbD96gPEWFWiyMuetG2/QjDocDhc8/9yHCSPJPJvihWc2S+sgYE3NSTSbTbIiJ5svWOufQRARNRIG7S7ZuCQOLJPxiLmMOHXqFLdu3eL6U1cpAR3EOFty4+ZdQum5cukCK/0O44Mhi3xBf7BCkjTBQraoFH6LoqDd7hLGESWSRVZwONyn0+3T67QxZcmte9vMaPDkE0+TxL4yfu0AACAASURBVPd5cH+HXv8UYZLw3nvvEcQh586f5c03f0S6KDm1us7Zs2fZ3SnYeWSZT8asrvRrA1BTcxJFUYDztJMGUik2V9cRQlCEjkunV9jc6LO22qXILXfuvsvD3W0MBb1ul/0H+zRbCZ1mi8FKj+vXr5NnKbY0qCAiSw3pYkQUhKhAI7zHZlWvf5ZleCVx3jFYO0WiJPPSMZwu+K//5v/AzERcvvoso8MZpvRY3iWOY6w3RDrBWEuStAl1yOFoyg9/8D3m8x3KYkq3O+Dh9r1aD6Cm5iTObpyh3+mxc/8hDR2hS09oBRHwzPWLrDQ0iXZEkaDRjGi1EkbTIb/12/+A2eSQ+7fv0kgSrl97guH+iCKvFIAajTZSREzGcywCFQUk7RZOOKRSCC85HB0wHA4rLQHvmC4KXJiwsIqgvcJwnLLILMgQYz3GWtI85+BwxI/eeB0lQ3q9Ht12g7VTPZpNQRJZFHMunFupDUBNzUlMDseEOuDDTz9Lr9kmUQHdpMmF9TMsxiNcucCVc/Z2tnm0fY+/++v/E+fPn2FlpY/NUySWp5+6xnw2IU3nWGMIgoDpZF4JjTYSCm9RseZwPsILR16kCOGR3pGEIcPRiKK0qDBi4+wmP/Onf461s+c5dWoNIQR5nqN1WAmJWktRZDjnGI+nzMYTRsNdhEhJYsv6aoOty6foNKmPADU1J5FlBdPpnNX+ClIqOu3eUpHn+hNPcv/BI7JcoJMWUjj+3Bd/gR+9+gNm0wO65y9z/vx5BitddnZ2UNIzHg85PDyg1erS7wwIW4qwHbC794CkkyAkZPOMRhDRX+kxLxz9ZodAeoTwTA5HvHvjTd7bW9DS7Uo1WAaYMqXV6mNdhHOWsszxoWc6GxFEjnSxy0994im6nQBhYW9vVBuAmpqTyBcp3nsWeUYcx4SNmCzLMHlJo9fj1KogLS1ZmqKFpNtsMuh3+NDWFunhgiSWzGdD0sUhZVkJjPZWeigZME9nfP+tt2j1InTsMEXBSrOHNIKw1SS3lQpwGGimo30aSch4lpEejqCwhHGDbqfNaDil011htddl15YURQ4qxHtLnqcU2ZBnP/MJ+iuSN3/8Ha5e2WLQryXBampOJI5jWq0W49kU5z2ld8zmM7wXmOkC5yWmtJRFiZaK6WxCu5NQYokCwehglyAIyIqcOGqwsrLCaHzI2TMDHj2a8J3vfJvmICTuaNb6AzqXmzSDSmlYKYUtcsbjEdiC6XiOiBp4m/LUk9fJZjnra2sESpPEHaIgpBFESA+lEMwWC0yZ0mxFnD23yvb971MUh9y7+zZXrzxZ1wHU1JzEX/j5f/4ldyS1LULHaDIEIShKKIwjNyVhM2F/uIfHEoWKdqNJI4zIXYlzBusM4IjjiIPdHUpT8PDhA3b2dnn37juk2RR5JO2dhAmn1tYYTyYUtmCRz5jO90iamtF0SLPVJNSCU72EJ66eY319le1725SlQ6mAssiYjnYxpjI4s8mQVlMzGQ9J4hCpAjr9Hkjq6cA1NSfxD//L/8xLHRA1AqaLA7IswzqNFBG5qdR9C2d5+PAheZ5zZuM0rUaDPM1YFDlJkjAYDCjzfDneKwgC0rxEBS1KV7J98ABLwanBgCiICKwGJKPJlDxPyfIZYInjhCRpcnXrOi9/94fcezRl92BBUYbceW8foQL6gyZlPqEsLc32WR4+usvqaoN2S3D9qbNolXE42SHLJ/URoKbmJMrMI7Wj1QiJVRPCAGcCwiBBmxnTdIEtS1ZWVpFSkkQxzliUCog0NOMmZVYipcYfRexN6QCJEx5TFqx2VghjRZ7nKCR5XjCZzChNNYgkUgnOF4QqZDGd8ejBfYwpWCxyxuMJk6knSWIsgun0EBUYokZCaQ06iMjyksn8EBmV4KcMVluosFWnAWtqTqLda9PptgCHxENpaYQRSZjghSKKEoxxSBXgLEipEVIThdXzx8M/rPWgNDqK0VFM3GzQbCqSRJGnU+7dukk2mxJHAUEoaDRi+qt9gjjCCWi0WwSxptlpMJzucOnyGaIYev0mmZljMCAFUjUo84C93Snz+Zxev4MKQsI4xkuF8QHohCCuZwPW1JyIiCxKK0qTIyIo5jlx4Jnlc8bznCAMyQrPbDwm0gFaJYRBwHSWcvfONt3+GotFRhhFWOPI8wIvBYt0nyg0REkD7yuxUe8982KBd5Z5OaMRR4TNkPH+CGVBhBFFkeJESSlSfu4Ln2T70ZRb93+b8WSfTvccRWYJZI92o89wvE0Y9Jilh/QHDS5fuoIjxVNgTFEbgJqakzChwElP3GhijCLICzJnGM8KjAsYj1NU0sVljlJoppkjdiCIWDm1yWickZclLAzGOxaLBYUp6fRaZOWcGE1ZQpj0kXGD0axkMhszn8+J5wVlWU3/uX13h6LMWFnp0Ou3GU6mbB/cQKgWYaxoEmFMQZ6BjGA6nlDYGdYkXL50kelsn9FwSJiAEA4dqNoA1NScxM2He3gn0BK08mSpAVNyOMyZlx6HxylBVoCyniCKkEELGUBbJuRlQdRo4ZXgrdd/TNJogJLMDqYQWRJV0gw7dNtd5llJZkpKIYl7K6TTKZ3uGgJNkDeQYUnU7GAQfOUPv453mla3z2B1k0Yq2N4d4rWncAXtXsDW6mWee/5ZvvVH36DRiZhNJujck2YzWq1GbQBqak7izvaQ/b0h3jnazQjpA7RoMl8YsjyvFIKtoTAloQ7Y3RvRDGMEkM4XqEBTGoMT8OrrrzPLFjTaLS5fvsyj4T5FamjpNtKHWO9AgVGWMFBIVxKFTeazjLL0ZNkCKWGw2uPRQ0+ZF/RPWfbH++SmpNVtkRUjvHM0dJurl58EkzPotrEi53B4wIXL5yiLFGNMbQBqak7ih2/c43vffY0PPfUsly8OSNOU0fAhk1mOlSx1/4/HhTlj0UJi8VhXILUiCKq5giposLK+xi/8wi/w9o0bDMcSlViUDsnSgiiuJv4Ib5BCkeZT8tKhgyZaOUKpqwEhQYezl3osxnPG0xGf+dRnWN1YYXNzk3/0j/4P/vy/8xf43/7ur3PtylN893t/xN7OHltPbVFiSJotDCUy0HUdQE3NSfwHv/qf+MW85Oa7dwkjiZQC76E0ktweDQG11STgyeG4SgUeDQzNigVpmiJENb47TVO01hweHuK9IAiaaK1RSrFYLOh2uxhTafk7bzBFSRRF5HkOVHMJyrJEa421liiIGU8O+KVf+jd59bVXmE6nzGc51598mkGvTzYZUpic0qY0+w3OXzrLa6//gP3hDmfOnakNQE3NSax0t7wOYuI4JklCinKBIKAoLCIIq8WNqEZ15UU1uRcwpsBrvyz88d5XbreupgBHOsRZfTS4I6hGfNtqZLhzjqLIyE1lAIwxH5hCLIQAW40SDyNNni+YTA+RQpPnBXHUIg40zz1xjU9/+lOkxYwbt95BNyT37t8mK+asr6/XpcA1NSfRbF18Kc0crXYP40qKskQHMR4NSuEROOurqcHOo6RC6wCEIAhDQHJcC+CsR0mNUgHGghIBUHkUUlaTh42xOOdZXV0lThq02x2EkKRphhASpXR100E1gyDLMdYipaLRaOOcp5E0mUzGdBpN3r11k9fffINz584TRzHWOrSKOLNxrvYAampOYuvy531ZWozNQOQkjQBrFIt5jtTVFF+AsiiQvlL2DZQGKbB4iqJYDvYMw/BovJivdnJTHR2898DjAaBaa55+9hlkICmKgu3tbd577z0ajQZSyuVnnCnQuooLlGWJ9/7xtb0jqC7L1WtXaLQSZrMJZ86d5Z0bb1Wxhv/vf86amn+2eOLKF3wQBCRJwHi6S5qmOKvRKiJuKQaDAdl8QavZPFp4oHUVX7d4wjAkiqKl626tBUBJiTNVe7BSahknkFJijkRDvPKUZUkYhstjxLEBEB6k8pUQCJKytARBNflXKo9EEIeaLMsoy5I0TWm1WuR5jveWwaAeDlpTcyLj4S5SK1qtBs12RLvZYDF3zKYpodRsbqwTKE0Yhh+IAZRliRVVO7HWerlDH3sMWkikr0Z/H+/cAEEQELabFEXBwubEjRiAPKtGh0tRGQHhPM6VYDwQ4MsC6wxaS5QUKC1RWuOcIcsWgCeOY6bjCWEYMx0vagNQU3MSgfJI4cCmZDOHKR2B6nGqv4JUCzAFZZFjsgWBUsijoKD1DqUUJktBH6XcvEdTuejOlkBVAqykRMgqkKgELKYTlNZoPCZLCYKARhhUHsORXqAS1REAWQUDXVHiKPEahBN4pcjKDCREcchisWA0OiCKIrQ+8iZ+wr9tTc2feHI3wshDguaCF3/qOqkZsigmDMdDUmvwUlIeBeGsceAFhXNVHUCeY/Mc6RyuKBDWorxHOofSEouoJgZbR24sXiqckHipEEoTEBGrBOU0woAwoJxEGCgLCzJCqBCLxwmH0IK42aK0Eu80CQkyl4SENHSDWEVEgSLUkER1KXBNzYmsbbRZ3xgQxY52z3P6bI+d7TnT2YyotYJxhiDQeFu589YZLB7vHd5Vu7O1dhkDkFKilEJqhYNl0A7AOIcSAqEUSInyEo89OiJUdQDHCFFlIEAiZRV3OE41xnGjOlK4apIxVDEH71zlWUgF1B5ATc2JPPXMJp0ebJxtMFs8ZPN8DxXkJA0eB/RUlVEXR1kAXHWeV4EmiEK8AKEkXlDN/ZPvMwRHgb/jAKH3fhkU9AI81Q0pQAocfvn5489JKQmCaqHP53N2dnYIggBjzDJoqJQiDMPl/UajURuAmpqTMGaPotjF+wN0MKHdtrz44jWsnRJoSagV3hm0FEgJQniE9Cgtlovz/UG+Y4/AmMpjODYEWutlihBYvufYczi+HSOEWH7m+BbHMd57bt68ydbWVjXUBJYeBjzOUJRlWRuAmpqTSVkZhHS6in4/ZON0i143JltMSdMUW5QEUuG9RytFqANMXqCUwgvB4WRCEEXkZYkXAus9KggwR8eD49v7U4HHC91LAUripcALAVIun5OBXlYGHhuQ4/uf+tSn+Pmf/3k6nQ7z+Ryodn1jzPJ7rLV1DKCm5iTOnTtNnCjm2S5lanCl49z5F+j22igJSSMiny04tTJgNBpVXYFhSJnlOCTtdpvZbEYURYRhiHMOKeVyV37/rn68+B8bArkUC1GqKhX2+KUXcez6O1fpDGitiaKINE35tV/7NaT1NBoNgOV13n/92gOoqTmBdJaSzVPiIER6OL22zqMHD9l9tMfKygoba+t0Ox2KoqARxXRabZI4RmtJaQ3GWaRWhHGEF1T6AUe34yKg43P6/y0uICVIgVASHQYIJZFKgRB4qk7EoigQQtBoNGg0GoRhuFzoy4KkIzHS4yPGsQGoPYCamhMYDNawbkGWp7RaHawVeKcIg4QLF85x7doWs7VT2Lyoin+8J2k2mEznvPyDV5fBt7KsdP6Pz/jv34mPef8RwLmq5kAqufQYKoPx2PW374sRHDcZHRsDKSWUljStpg4fZxMeBy5rD6Cm5kRG47tMZo/YOXhAqzfg1t1tomaD0pZ8+2svs/doj9l0wv5oj9v3b6PjkNv3d/hv/uZ/T1ZKnI+Yp4Yir5p8lJB4Z4hCjVAgtUAoEAq8cHjhkFqAPCpA8gZrcgQOrQRSCJSUREflwcdn+6Iolq3HzjlsUWJNgcCBtwRKIzxHRUQaW9YxgJqaE7FYwLK1dQ0tm2yevcKtm0McVddfo9FieFCd8TudDg939vjy7/wexihCHQHHKbiAINBEQYB1VTmwfF/0Hz7oqldHAIOU1Xu01kutAGvtB2YMHB8bjmsBnHOESmOPahOgyj4cv179TUHtAdTUnEQYNojCFlr12Xk4J4rWuH1zl0C3wFetvWXp8CharRX+8J98nd1Hh8RREyE81pUoBEJWhTc6kARSIJxFK4VWCiXlcmfHe/AeKQTCeRSCUGmE80gP0oNwfvmaQuCNxeRVN2KoNIGsNAWCICCKoqXewPG/cJRG/Mn+tDU1f/JptVZwDsZDR7O5yfdfvsHNdx/R754hSzMOJ1OcF8znKdPZiBvv3iFpDKpd+/9k702jJDvPOs/fe/cl9oiM3DOrshZVlUpSlRZbki13Y46RbRYDA4wbmh6Whuk+9PTMMRjopntaPsNgljke00A34G5mgKGhWQwy3mWDbWzZki3ZKpW2qlKtuUfGHnH3e9/5EBnpEvMh+ebmzP2dE1+yQhmpOOd97rP83/+jgK4IdENAlqGooMgMua8TUDUFVRUTr4BM3jYWTPc/PUPKFClToig6aOBNX0mSvvZ6sRDEsTxoImYym/QSEvGam4RZluSegDk5fyekSbc9JMsM/usf/imCCtXqIuNhcJCGJ0mG7RSIMxXbLhMEEbarUakWUBQFx7LYa+9iRBCTkuw7/cgkxfeDA8Xe9IDH8STVT+KYKAwJfP81PgBTa7AgCLBt+yBwTMVDhmFg2zaKyA7GhVO3odsDSB4AcnIOYTiOyaTJoJdi6DWkdJBykmKjQpKlpEwOl+tOrvGqmsNgOGB+dnbSudcEBcdAUwWSZGIhpiqk2aT2P3hiZ9lr7gz0u72Df58e2lqtRq83+flUOpxl2YG3oKIouK5LoVBA19SDleRJkvx/RoN5AMjJOYS1o3fw6uVNPv/5z6EpFYRQicXk6q1QMuI4IIo8wsRA1SykyLBMEz8ac+z4UYQQ+KMhcRKiqypZGjOd/Ekm+v2pCci0oz/VA1QKX1fyGYbBCy+8wHg4YnY/sNi2fTD+S9OJIcj0SS/TDKEr+/JkUBRQFIGqTqYEUuYBICfnUC5dvsbu9oAwTDCLJqpiEqUJiAzTMtAsDaEJkiRC1QzKlSJjP8YwLLIsY9DtTdZwqSCzGFVAGEVoqkGcTGr9qWPw9ELPFEPXKZWLB13/UrkIwMrqMjs7OyjqpI9gKpNLPhOJ7/4FIVUwHo8nT/p9F2HLsg4mCUAeAHJyDuOrX7nKxkYXKUpkaIgsQUklIjOwdItwHEOqMB6PkWjUahXGt1rINKK1vTOx6BIZvX6PolsgTBJURSeUPkKoqKpKmiQoQsBtQh1FURiNRq/xCyyXy3z/938/nufxsY99jCRJDiTAB7sHVJUomjgThWG4fwMwQ0rw/fBAjJQ3AXNy/g5srLcYDSWFYgMhVLIsQkoFTVGRctKJn6TsOkIIqtUqV69tIBQolUp4/oB03w48SSOyJJtc8MkgU9LXNPCmC0amJcB0lDcV+WiaxrVr17h16xbD4XBS5+uTz51OCW73F5g2Fqc9gilZtt8c/EZ9qTk5f1+Ig5SprTdkpKRIJZkM5HmteCdJEubn5w8MQKZbg6YyYHitBPj2m3/T//72K8DAQWMwTVOKxa+XA7cbiN7e4Z9OCW6/KjwVAamq+pq7BnkAyMk5hDBMEVLB0q2DWfpU4PPamXyC7/uUy2UURSFKI8bj8deluX9L5Xf763Yl4LSzL4TAMCZefkmSYNs2cRzT6/UYDAbYtg3wmkAxPezT3wNfv/8/Tfuz/WvIQB4AcnIOo1wok2UwGAyQAtJ9vz+hcnAHf/oktiyLQqEw+RnKa5x6bj+o0wN6+2G83TzEMIwDv/80TZmZmcG2bbIsY29vj+FweHCYp/qAafZw+yG/3TEojmOiaHJhaZpV5AEgJ+cQ/LGHqZsomkaaSFTVJJMqY3+i5w/D8GAMF8cxlmVhmia2ZU8MQ/af/NMUfco0a5ge1GnNn2XZgchnernH9/3JPoIso9frHTT9/raN2N9WCt7uOzAtCaaNwiRJ8gCQk3MYtm0yGPQJwwgpBXEqkBiYhjNR893WdJseZtu2D2pz4KAjP+0H/O2+wDR4TLX707R9mlVMR4Se5x3sEpwe/GkQUVX14GKQlPLgavD0fbeXGtPfnQeAnJxDePTRt3Dy5HEMwyCKYlRFw7ZdbKfwmss108ZckiTU6/WDjvzfru9vb+rB15eCTAPJ9KBOS4HpZqB2u31QIvi+T7FYfE2z8Pb7ANPewu1KwanAaFoO5E3AnJy/Az/0A/+Ij3/og7TbN4iiiSbfcYvYjoljaUBKnEbolo4kJosCCraBkkZ44yFkgjSBNFEAC1SLKANF08ni5OCWn6FqJGGETFLkvkAoI0UzVKIkpFwtsbSySBD52K5Ft99BUVVUTUM3DPwgOHAKkoCmG6Ry6ieYEURj4jTYv1gUYJpmHgBycg7jn/+PP8qFC0/j2iBESJwE9Lptbt3cYJpRCzHZ/BsEk2Wdx46sIsgO1oApioYQKmkqSZKMJMkmdmH7zsBpmr5mieg0C1AVnSTOiKMUy3QouCUUoRGFEzHRlGlJMWWaURz8LhVUdeJaPLlTLCC/DJSTczhSjfizx38f243xwy5JpKKICpWCi6bp+6n9/ugtkYBgYWHhwLxz2gAEDkqAya09Dur92w/sNKVXJKRxioKCaZmMh2NG7ggFhTRO9/cE3jZihIP1Y0hJlqWkWQpCIJSJmWiapahCIZMTT8I8A8jJOQQ/7LC0UuG7v/fN3H1ukaXFEpHXJg48yuXJdV9FaOiajWFYhGFIEAT7AWCSbidJhBASw9DQNGX/pR00+6bCnWm9fqDUUzQsyyHLJg4+rVabarWOaU4mDNM6P8syLMs6+JuzbLKVSLD/2p8KpMjJxiHDRDetPAPIyTmMP/ng71MoW/zp43+CWziDkpb58/Zn2NnYIYoDhCIZj8dUq1XiOCVNEwxTwzYMfN8jTRMURSBlRhwngCRJYgxDPxj5TbUAU6bjuyQKyG67KqwoCnHoowpwbZssTiDN0FUV0mziOaiqaEIhThKECnGcIDIQmoqqGKDobG5tTwLQN+Yrzcn5+8P1W5d49iPPMPL6CAyq1QZnT88SDNvs7K6zvLKApisMR30M3SJJA3RFxy3oB6KbaVofRdFr5LhJkhyMEm93/Jm+T0Gi7R/+NI6Rt/UHDoJGJgmj4GA5SBjF+58nCaNJEDBUHU210AyTMIInnvgs84tLqN+4rzUn5+8Hc3M8JknxgwDXcSi7DguzVer1CrpZIgh9VFXH0HWyLJl4AKqSne0N6tUqs7NNhqMBiiKI4wjEtD5PSKPkwN3H932Ag9n9xEhUATG5u2+aOpChaZM7/ghI04m+QAiBaZo4jnMgEoqTGISGZduoqkEcp8SZQrszpD/w6fbGeQaQk3MY5VqZTqdDtdyYCHqCIZoiWFws4lbqjIYBnXYfrVxnOBoSxyG2o5Nmk67+7u7ugaNvsn8rcKoCtDXrQNxzuxZgYvIRoCjKRH8QR6T7akM1UyfCoShBU52DbKLdbjM/P3+whSjLJIZpoanGZEmppTAOIr7w5JdIMpVyuZYHgJycw5BolOuzRFFEkqZ4cYqQklQTZG6bcsHBcC3e+X3fOlnQaToMxgmD3vfxzJNPEvhDlCxkfnaeOEhxHIso6ROGHpoUqKpOkgosu4gXBkgpKZeLmLqKqUEw9mgcXWBjYwOhQrHiMg49wjBivrrCcNijtbdFv3WTt735US489xK99oit7pA//9jjjKMMxSxiOjXiNCX2ArI4RoRBXgLk5BzGg284+5hEIc4kQRSjKBqaZuDHMaqrE0cZpmExGAzZuHWD4XjMr/zK+2m3+9xzzykefP1ZxuNdKhUL01ZxCirjqIXpwvxMDZQYRcsoFAy+8Def4dVLz3N8bZEgHLKxu0O7vYdhaViWQWOuxubuJnPLTW5tXON7vvdbCLM9NrZeolDKQPEQeDQaJU6eOsLC4jJbOzvsdAZkQieMwdBM5hpNDF3PA0BOzmH40fixW5s7oE60+JZlA5J2t8PFV15FZDbDXsheq8vVa1d56ulnabUGfOUrX0MQsbl1md7oJokc0PN22eluMU6HKAb0utvYts7MTAVFSfnkxx/H0DIMJebRR9/Chz71aZ74zBPcc+4eWp1dVE3hPT//XrZ3tqk3qgjpoagpT3/lCywsNMnIGI4GvHrtVTSh8JWnnmFzYxuEihAWmm4BGoVSmSiWeQDIyTmM03edeaxaa4IiMCwb13HQNBXDtAhilQ/+0SdwC2VG/TG6ruEWymiaw/VrG9y4epU3vuk+Wp2rFCsa1ZkqbrXMKI7oj/pIGdPe22N1aYmFmSb/68/+DBe+8mWWF2bRFIU/+fBHUbKMmVqF977/fZxdW+P97/sN1lZXefWVa3zHW76TglFmdeE43/zIt3Lf3Q9RNBscmTvJ4uwyZ++8g8997m94+OE3cunqdUDFsByCOMWLIsRh//M5Of9/57u+7ztltVHGLVkMhntoakrRNtB1kxiXz3/6aa68dJWvfPkpNjZucuHi83zgA3/A3s6Qt33zmymUxszMpjglBc10uLHRojscYdsmQbdPwXD5mZ/4KZJ+gAhSuu0Oz1/4GpZbYiBVXn/fvSzNzxEHIb4fcunKddqdPkePHsPvD4kDn9e97n76vTalUgUy8LyAndY25VmX6zdbfOJzT/FHf/Ep2uOYh9/wFi5cfBnDsvMmYE7OYbzwwkssLs9z7vxZXKvIeNSlOx6QpilBCA8+cJ7BThsNSae1xbjbZWm2gRILHMtgd/sqaaJQHBnMNF2iQYIWKwRRQJaqxIGktdlGjxTigY+t29x96jxeFGEXXQZbW6i1Mp954tPEKfSGAafP3scrF1+k3brK6x98gK3tS7z88svUqmUWFhbotPYo1xsMfQ/d0Wk2KyzNFZnJDKLxDrWCJE3GeQmQk3MYp0+deAyZ0ensoWQpwXhMOPJxbBtFCG5evUmzUuflixe4+NwzXLz4NRbm57nz1B0EQZuzp47Q7+2yODNPQS+gZKBkEYE/xA9jlATOnbiT3ZtbpGFE4AcEUYCqq1TLZWLfp14r88qrr2AXikRCpTv0CLKU+x++m5WjR1lYXUG3TXrjAW7JoT7XQHEsYs2i0qhzz7l70BTBt771m/nxH/0hZDTis3/10TwDyMk5jJWlZbzAIwgHb7RWqgAAIABJREFUpHGGpuisrK2g6Srr69dZaNbRhUm1ZKMKj//0gT8jSXWSWPKHf/wB0mjIvXefRpM6tUqTerHEXk/j6Gqd3WGE3xlRcE1EpUDqx4zHI0beEM0yJ7f2SBj4Q8ozVdoDn1P33cvyymmK1Qb93h7Fcpme56GV1lg9vYrvDVFKFVqtbZaPH2XU65OmEW9965tJwojV1Rm+/VveyJN//ZE8AOTkHEYUhczM1PFCHURC6PnML87T2mkRRwq6SPHDLkJWMBSVrWu3WFg7SdDbY6FS5KvPvMLK8iKNaoPBoIeu6wSDiNnFJaRMefnaBYrlEv5whG6ZSCujvFCj220TqwPqtQV2+wF2bZ7Fps0f/PGHubHxX+gNUlSzgK6rlIo2e7vb1CoVXMvhxIkTPH/hq/yzn/jHDAcj7jp7J04lQ9NCvNEWp04t8W/+1bvyAJCTcxgvX7rEwsI8uqmwsDiLrmpsbe2yt9siisG2LZyKO+kJjCMe/4uPcOfZdWrVCreub5ClKrpeRDVceoMtCoUCqTQw9CJ2EmPpRTrtAYVyiSSMcItlMinQbQvf66EZBobjYmQZwrD56Cc/zWBosbh8mnQ0YP3mDRaXmqzfuoamgDcaU6/UieOQT/31RzHtEsePH8cyE779297E93z3WxGRpDrTzKcAOTmH8cgb3iiTLKZQcslkyom1o3jDAWEQsLvToew6nL/rDEqW0ajV+eQnP83yyhHe8Y53EMdDbNvGsixkmhAEAe1Wi2LRpV6f4fLVm+ztbPAP3vAQjWqJUX+AZTkIVUdKiamr+GGMYems72xQrM3x9u/6MRz3JCgVer115uZnWJyvMxrtoWkKSRTS7fYm9w2E4OZ6iw/+2V/wT37wv2M42uQtb36I9/3iLyMyNQ8AOTmHce7u87JcrhJGEaalYxk6qswoOi7dwZjO7hbHVlc4feIEp0+fJgpj/DBl9egRgnCErus0ajVMXaXX6TIc9dFVhUqlgu+H6Co4hkq9UmbY6zM/v8jYD2nOzaMgeObZp7jr7lPc3LyKU5vj7L1vpzJzH4qocmTJ4m1v/2Z+7Md/iDAaUCpYdHt7k9VgKEjF4amnXuDKlZu4rs7bvvURjq7WMYTg6uWreQmQk3MYuqLT7w1w3TIvXbzMHcePYVs6mmZx7p5TPPv007z04mXuPXcfR1ZPsLG1QxD32drpUCgVsM0SQaywsbFBrVwCqdBu94mijNb2DgqS1913jldeuUzBdthpXWTsB5xTTXoDj0uXrjMzU2P95i20zpA488iikEwJOHb8BOfO30mtYYDWgDTCqcwhFEiTDInD448/wW994P9C0xU+/+RnePxDv8O473H89NncESgn5zA0TWOmNkN7r0elXGd+fhlvOKbfGbJ+Y50H7n8ds7PzbG/t8YUvPsVXv3aBGxub/Jf/+sd86C8/yrWr1+n3++iaSRiGDPsjkjCitbkNmaDgOHQ6HVrbLTY2NrAcm53dXf7RD/5jXrl+jZnFZRozC2xt7FKwTE4uLaAyxhttMjdf5Y3/4EHCOGbsjfATn3E0JkwjMiFRtQzHNSf24qbD01/5KhLQLROh5puBcnIO5eiRFYolF9eyObF2grmZOTTNmNiBS4UzZ87yHd/+nTSbTdxiAct1OXXmNLZbpFar8PTTTyPTlG67hQpopMxUSzQbFdbWjrC6uoqmqBQKDkNvzM2b11laXaIxP8M/f9e/JNM0hl7MHSfvpl6q8Yu/8B7a3SsU3YivvfgsG9u30B2dMA1RDA3DcRG6QZiG+N4elgkLcw2YOgrFkGURceLnQqCcnMNYmJ1/bDQYI4ROFE6MOUxdRVUn9uBJEnPs6BEMy8D3fV6+dIUUwenTpwi8EeViEcvUWF6YY9TvMlMrs7Q4z+LCIqZuo4gMxzaZn5sFRbK6tkat3uDt7/gOPv43n+GP/vCP+e5vewdFx6bgmJw8Nek1/NnjH+SX3/8+NjbXOXJsBcs1SWRKKgBFR9dULFPyoT//GE888QUkgkceeR3f8z1vxzBVNDXNm4A5OYfxhnvukZkwsJ0G1VodZEK9ZtHf2+H88dN0+11OnDlFKmA4Cmm1+2RSoVguce3qS7z+dfdiqLA010ATMQVLo1Gt4I0G6KaLrhVIE8nc4gxJOsR2HcJAopkVWt2QM/fdw5seeQt/8If/DxXXYNDaRIvHfOWZp/nKlRt83/f+ACsrx7n4/EvstPd48fILONXJ5EHLHFaWjvDxv/wEv/arv87nPv9Zjp05hlUyySDPAHJyDuMfPvzwY1s7LcqVGRYWF6lVSxi6wNI1mtU6puPQ6/c4fvIkmRRkUnDx4ovMzS1y112nOHPmDK3tHe46e5qZRo2C49LtdhBCwylWUFWbV6/dJJEZfhSg6DpjL2Jru0u1Nket1uQ///7v8ukn/prjx4+zu7lJ5Hncd98DLK2dYGtrmyQMcVyLc6+/nwfOn+Pc+fPMzsxw9MgyF776LD/wzncSjIfMLjQ5efYOhEho7W3lASAn5zDuPLn2WH8woNsdMPbHxLGP740IRh7n7z5PEAVohg5CUCyV+IvHP8xgMGI46FOplPDGY44dO8qtazeYqdcPFoGmEoqVGZaWj3Ht1haqbpApkubsIuXqAqrhcuXaTeYXV6hVF/jghz/MzkaLerlGo95k+cgJwkiCzBgN2xhGRsXRCXyPl198mSxJCfwujXoFmUS8/1f/D06ePIaqJgglYzjs52PAnJzDKJZsavUyu3tDgnBEGBo0G3MMe102drbwvBFHjx9jYWmRi8+/iK6r2JhYlkWr1WY4HHJkeYXROEA1XLbWb7CwOEu14ZAqFh9+4rM8++wFLEen3dkkzlIUYeO6VcIwZjD0SdG5+8zrWF/v8Cd/8UnWjt5BGOs88+zL3LzxEm999I2MB7t87KNf5bkLL/GTP/lzxKnAKWqMRmPCMOY3f/M3+Zl/9a+J04SHHn4jjdlmHgBycg6jVHKRxECCZZlUKmWiMOHUHWfojYbcvHmDgedzx+lT7LZ3WVxcJEky2p0uWdrEsYts7+7x7IUXqNVqLMzPoegFMtXEKdf5n3/qZxmPYuYWZxBKQiZgc70NUqdYdHHcKkK1GPQ9Am/E+uYW/+x/eTcLc/MgdLrtG6wdW2RpscqJEyd49cpNfvmXfomzd53n277zHRh6kW6vzezCUYJI5df+/e/y1Wev8573vCcvAXJyDuObHrn3MaEqSFSCMERVFC6/cpm9dpuVlRXGvocXeDRmGqytrXHhwvOUSiXcQpEkBU1V2dzc4urV62xu7XD0+AlevXqN555/gdnFFX79136bFI1z58/TmJtB0yzqzUWq1XnKtQaGWcI0XEqlKqpmIhQVzdYJM0kQaQyGI1548QXe+tZvpVAoMr+wRLfb510/9dMIYfGmN7+FwTCgMjPPb/3279HvhYxGkoX543kAyMk5jPN3HX1M1TWWV1bp94fYVgEyWDuyRpKm3HHqFAuLc/zJn/4xP/LDP8yXv/xlFhcXabU6tDsDWq02N2/cJAwjHLfACy+8RCphZ3ePv/rMX9PtjFhZPYZpmMzNz+EWKxQLDdbXdxl6MTJTUFUbTTeJZEyY+nziUx/l0rWr/NXnvkyhWqc/GPOxjz5BpdrgkTe9idXjR6jUa/yfv/ofWDt+jPseegg0hV/85fexeuQOvFHM5z73pVwIlJNzGLZtIgRcuPAc29vbBIFHpVIhSRL6gyGvXrvK0tISs7OzfPijH+Hs2bP0+31eevlFhFDY2NjELZQ4c+YsoKDpBpevXGN59Qj33HMPhUKBhYUFms0mg8GIcqHEzMwMMzOzCEVn7MeMg4CN7S12dnbY67QwXJP//VfeC7ZNux+gWjPsDeBfvPvfsNnqsbB2hB/84R/g373n3/DTP/du/vTP/4iBP+T8687Tau+CJoizOM8AcnIO477zZx/b2ely69YOumFTm2ly/NRpiuUin/jEJ9F0necvPM/99z/A3t4ex44fZa+1y3PPfZX5RgPbgNWlOVSR4HsdVBFz/eortLbX+ZEf+af8+199H73OFqYuKdgmaRhy6/o19na2iFIPIRNUFWQa44cjhsM2v/TL/5q93Ra/89v/GUd3ULER0kETNpeuXmE47HDy1HHuOH6UDMG//d/eS3cQ8m9/7j1cufQyO+vXmK3beQDIyTmMxbnaY944YGX1GIZhkaQZO61dioUyr7x4FU01eeH5lxBCYWtzh2qlShgENBs1LE3gOiYnT6zR6ewy06gx6PcouA5h4PP2t38L3/e938HqSpP77r2LNBmzvDTH1cuvUHRN+sMeBdsiCnwsy2TsDbj//nP8Dz/831Nwi/z6r/4WrlOAFCI/oj/s8IP/5J2895d+AW/U59FveoT77n89X/zSMzz1pa/wOx/4beLA42ff9S944pMfzqcAOTmHsbG1Q5pmVGpNRqMBTqHCxq11Lj73MlpWZHe7z/33PcTZO++mtbuJlIKbN9epV8poZoLneYzGfer1KlkGa2vHuXLlCmfOnGE82qZaKTEYbNLrZRw/tkCWCR599CEuPPcCR4/cz9LyEZ6/eAW3VOWLz8bMzNQJPdAMOHHsGDeu36JcrqNpMYpm8eyzz/Iff+0/8bPv/gmuPPMF3vf+/8jv/uavc+zkWbJUYGcRb3roAe74rd/IM4CcnMNoNqqP1esNlldWJ5t7gxDLNEnjlLnZJY4cXWY86tPr79LttvCDIZVykWqlwMxslb12i2qthmmbdPs9PC/AtGzqtQq/93//Fl9+6kuUSwUuX3oJQ9e4deMGpqGTxCELjQavXn6Z7a0Nxv6Yy1cucfrMKS6+eJFiqc4v/Px7KVddZmeL/OIv/jv+8I9+D00RfOjxj/LT7/pJFG8bUzcoF8ucueMEvfYupYLFsdUl5pqNPADk5BzGsbWjj2m6ju+P6fV6ZEmKpug4js3MTJWZZpk0HYESEYQ9onjIcNimUiuSRCGVSoXnL1wgTTNAMD+/wHA4pLW7y1xzBlXRcByXu+++h/VbG+zu7mEaDqVCgVppsoXIckws28C0dLZbW4y9EZ964pMsLy1y5Mg88/NV3ILG5VdeYDgcEAUx737X/0Rn4xW80ZgvPvl5fvzHfpSHHnyAl196nitXXuENjzyYXwbKyTmMR7/lzdJ1HfrdFrqmoWs2hmKzt7eHamYoKtiGyfxCkzQJsG0TTVG5fv06s/VFwjBCVVWyLGN5eZUshWeffRakZGluhpWVZS5feYnv+d7vQkrJaDhmdnae61evMey1uOfcvbjlKqrhYhbLZIpGmGb8+m/8Bo8++jZO3XGMT37yEyzMNfnMZz7Hubvu5QtfeIrV5gxrdZ3F5WW8KObm5hanzpymVq/z5FNfmmwt/kZ/uTk5/61jW0Usy6AVRTTqdZRMQ1UMDENDqgHLy8vIJEVVNIJIEoU+y4tLNGeWmGsuEMcxtm1TKDiMRiPagzZH15ZJ05Tjx9Yol100B1RLYW9vj1q9gVtxacxXkarPk888yavXbnDy1Glube0wGPqEccITn/4Uf/XXf8k73vEOPvKhD1MoFDh75k52967z3HOfxb73Xsy4yjhO0E2NJz71Mb783DOs3XGCXn/I55/8Ql4C5OQcxt133f3Y3HyTu86eptls0Kg30DULKSVH1lZoNmcJg5izZ+/GH8f0uiOyRKG122VpZZnPf+FJdENnr7PH5vYmo/EAoUmWVhYwDYUw9gjjAWHscenyi3jBgC8+9XnG/oj1jU0s16ZUKSJUBd0wQMkoOC5pFvG6h86xduwoWQJra8d4w8MP0Wlv0Gi6HDu+wur8MVZWl+kPR/hxQLFS4o6zd/LZJ5+kMjOTB4CcnMNQZfKY5w2xbJ0vfvEp+kOPVy5d5/r6DoN+gKpYXL1+k05nwPWbm1y/scXYyygUyuiGRCiC4WhMuViiVqswP9ugUnYouCaSFE2XGKaKYagUymWSFFBMpDRQNBNNt8gSIFXotfv4Ax8SWGjOoOiSLApobW9w+sQxtDRi8/pVNq/foGC6qBjs7rTY2twiiiIMxaC728aQgplCKe8B5OQcxr/8pz8iLdckTEJGYx9Dd4kSha3tFgvNGYrFAkJIRuMBmmqws7NHEkOjVkUofRqNBmmcYBk6SRpSqzgsLjX52Mc/wuLiIrV6mY2NW8zNNRn5AY36PDJTuXHjFrah4zgOjuWyt9fm9Mk7UFWd8XBEuVoiVmNKbgFvMKToFihYNlmSUnRcdnZaGJbLYDAgSRIKhQK+75OmKePxmFIpDwA5OYfybW98RFqWybFTJ/nYp58gTgTbO31mmnNUihZJElFvVAnDEKTCcOgRRymKCobm8/rXPcSNGzeQWURzpsbJO9YwNEmnu4tQMprNBp43wrZtbNsliSVZqqBpGopIKZUqOKaFbbv0uz38cYDv+wghaNRKjEYjXMfB1HQMTcdUNXq9HgKVVChkWcZoNEJKSbFYpNfr4bounU4nbwLm5BzGG84/hNAljYU5Pp58EoHBAw+8njhJiPwe9cYMc3NNkiRhfX2TRqNOp9NF1zVWV5dABcPUSOOMVGZYloHjmhw9sYw/7hGGIc1mg3a7jW0aZLpCmmQ4lkWnu8Ot6zvMzS1w68YVRCYIw5BCoYil6Ax39qhUKozafQJAEwqB75NEMYVSEQyFKIqIggDTNBkPQqqlAp43RFeSPAPIyTmM//BzPy8H3hC74jKKInbbQ1TTJZMSIcdAxsxMnWvXrzIa+tTrM2xttqhUSsw0TVzXZXd3lzSKkSQ06iWqVYdqrcDVa68QRwnVcpnQiwg8j2azybA/wjA0FJGgSAVd15lrzrG3t4epmQghiP2Y+UoTKSWGpqOqKppQiOOYG9evYzsOpZkqQgiklGRZRpqmFAoFRqMRlmXlASAn5zDOz63I7qjH6x5+kFEUkqDjhdDp7FGvWWiawtLyIp43Yjz20VSTbmdIGPksrZSwbZvhYMDe3i6NWpk08TAthXPnz5LEHoVCCUWq1Mp1dre3sU2LOApIowhFiVEVHVPXKRcrdLtdauU6mqahCxVTOpimSRzHAHieh5QSIQQzMzN0hz2yLMM0TaIoIo5jNE07+FleAuTkHMJ9Dz1Ab9gnTiOKxQKOW+Lq9S1KBYeVlQXanT1s28T3h2RZwvrWDobhUK0WUbUM01LIpInn63jRgGrZoVyyyWSIFw5ptVrUyg1IBUdXj9DvdUgCj2qlgK1P6nnbtLBNA+kWqVUqKAiGwxHtXhvHcahUKgRRiFTBsmwKhQK9QR9dNxBCYFkWaZoRBCHFojNZZBoEeQDIyTmM9Z1NhCYwLZXGTIV2Z0jk+0RJzNb2JsWii2nq6LrOcDgkkylRFFBvLDMIrlMUNpKYxkyFQsHGNCSSCM0QWKmJN/IpFotsb27iGCaLs02atQrt1haGplMt1yiXy4hMsNHdwLFcyuUyW+sbVMpNTNsiJkPRNbZu7aIoCs1mk2tXr1IqlpmbmwNFwQ9DVF0nA8I4RjOM3BAkJ+cwRrtbdDdvkQQjPK9DGHns9XtIxYYspVgw2d29yebGTYb9Ma5VRVNMWjvbGIoKMmamVsQfd0ijEY1ajZ3NPURm0+1GpInKxYsXuXLlFVRFEvgemzc2EYmFDE20zMFSCiQhnDp2ika1jq6oRKFHs+xQdHVG/R6j8ZjeaMQo9Bn4Q8yiTXfUZxwF9McBUjXY3usy9APGUYCfhLkQKCfnMM4dWX3syNEjhHGAYVssrh6h3wuIYzi2tsDO7iZx6pGlCuVynVKximnq+OGATAbYjolpaCBSZpuzdDoduu0e3U4fgOFggDcccvrkMUxNo+QUGY/GiFSAVFhaWsbzPJ555lkWFhfxg5Abt25Qr9QxNR0UjZ1OlxCBZlvUZ2fwwpAoiciUlKXVZbqDHutbm+iWxs3Nm7T7LYrVYp4B5OQcxrn7H+Ds3efRDAfXdVlfX8fzxhQKLrpuMBwOKRZKWLZBvV7BtnVMS0HTBIuLqwwHITJTqFWb9HoDNja2sCyHKIpQZcZco8Gpk2u4jsWg18X3xwSexzgY0xv1uXL9VV545WVmFxcYeD5brQ6ZMLm13cau1Li208JHpTPy8VMJukWYwfrOLpqr0xl1GMUeiRozjEbUF+q4tQKDsJ9nADk5h/HguXsfSxG4pSJBHDIcjHHcCrqmE4ZjPH+Aqk467/V6k+GwT6e7Q7VWwrJsup0umqaCkPieT6MxQ5ZINE2lXHDJkhBdVTl+bI1ep029VkMIlXqjjmYaFMtFBqMRpu3gBxHFUoWFxVWEqjOOA9AthmFCz/PY3G2xudMCTWV2bp44i+gORlhOkVQqxBkohs44CBGqlgeAnJzD0KR4bKfdYRyMqdWr7LZ2se0CWSpZPbpAkvi8eu0V7r33XhShMRgOuHnr6mQb0K0NCgUHXVdAZGRpShQHVCsVXNclS2KCKODYsTVsx0JTVGzbQagaY98nQhBnoJomWzu7bLc6jP0ILwwZ+j5bnT1Ux+H5S5e4tdOiOb/AOPDxPI9Td57l1WubDMcxYSTY2ukyGIUYZpGhFzEYBbkOICfnML770W+XO61dmrMVwmhAu7NHwanjewmzizUyhmQy5G1v+3Y++KcfAQTbOxucP38PN27cotmsoYgYt2CwMD9Dv9/FMkw0zSAJI5aWF0AmyCRGCJXx0MMyXV544SVOnLqT4XDIYDDC8wLCMCTwI4QQ1Bp1DNtgp7WHFyYM/YhGo4GUktAfUy1XUFQTVTFIkoxWq029Xqff7+IHQzRNzTOAnJzDOHfP/Y+1Oz1a7V1SGTMc9HFdl2q1iuWqzC/UqVRdRiMPRRi0Wh3K5QqWbZEkCe3OLlE4Zn5+BlXJ6PXbzM/PApIwhuFozGA4QDEMBoMR65s7aKZDbzBCMQtsbO+iWzaW6xLEMaZjYjgmlmNx9q47Wd/YolAug6pgWja6ptLt7OGNR0SxJElS1tc36HZ7LC8vs7W1iWUZhGGQB4CcnMOoVGYeC6KIcqXA/HyDwB9RLtdYWFhgMNrFD/rcunWDMIxx3RI3rm/yyJse4cb16xiGCiQ06mUKJRNFkXS7LUxToz8YIqXBzu4u2zu7qJpOnGVs7uxhuwVQDXZaXaIkRTV0FE2n2+/SnGsy8kcoiiBOYsaBT6YoCEVgGAbd7h6GplEsFqjWKhw5skoYBViWjqJIzp49zdx8g0LByYVAOTmHEfkDCraOqUrKBRft6FHq9TpCCPotH8PS2d0MWJ5rsHlzC0TG+vpN/GCMQHBibYkkCbEME9sxsO0iEg3XNnBMk1ppiVevXEPEKaSSu0+dIsvAUBPiOKZSaTAajXAsjWajgqmriExiGBq77R0QKaauUSmVGA58Th49RhRFlMpFPG8AeCwv10nTFE3TWFqqcOnSJWxLy8eAOTmH4ZgahgZuwcb3febn50nSgO3tdaIgRMkUFucWObpyFNuxyLKYZ559Gl1XydKQMAwwTA0pM7rdLnEco6oqqqrSarVQVZWZmRkcx8EwLMbjMbquU3BsHMtEVxVc2yL0PVzbwdB05pqzFItFbNehWC4iFImiKCwuzZMh8cOIXn8AiqDV3iOVCYalY7sWV66+yvrmBtV6LS8BcnIOY7FZf6xWK4PMqNUqXLjwVWrVCp43JkslpZKDoWsomiTLEur1Em7BoVorY5sas7N1xuMBURyQJBGaplKvN1AUle3dPZqzi2iGiR8mSCGYnV8glRIvCFBUA0WdlAtpJrEdB4lA1TT8KERqCkmWoZsWvcEQp1AkiGKSLCGKEobjMY5bxLJddnb3yKQgjBKEoqHp+WWgnJxDKRQtxuM+lWoZVZOkaYznjXFdh16rjamXMV2bMBrRbFaI0wjdgEKhQBiA4zj4gUEY+WiaiqZpCCEIw4BqY47+2COOE4I4plKp0R2OSJIEXTXJ4oA4jrEsC13XiaII27bJsgyZCRRTI40yVE0lQ9DrDwGBoqkomk44iBgMPaI4I4xSxDiY+ANEEbut3BAkJ+dQHNug221TKS8QeGMq5RJR6DMaDSiVbcoVZ3LIY5/t7XXqjSp3nT3F5/7mb+jsdVFVheWVJQbDNoqi4Ps+3jjAtFwiGTMYegRBQJJkxEmHIIhwXRfXVRmOfTRNo1arEccxUeITpxJFURn7Ab32iGJxUutnKWTZZPdAmqboukYUxBQKJr1OnyRJMHUL23QI/WgiRvpGf7k5Of+tY5sCY6aKroKmKCzMNgiCgEAoLC8tYds2vUGXMAzRVIEqBP1+j7nZWdJYoeBWicKMLFXRVA3TEIzHAXGigtQZDwOyLKNarTMej1GkRhaDNwzIMpBSMBiMGI1GCCFIkgyALAV/HLAwt8juTotarTbZXBRFmLqBoghcy4Y0Q5GwvLCI7/u4rottmAB5AMjJOQxVg0KxQK83sd8SQmCYGiurS2RZRqvVwjC0fU8/Ez8I0XWdJM7QVBvfi4miCE0XRDIjCBIsyyVLBJ4XkIQJrlsg8kMMxcRLPDIFoigEJUMXgjCKSNIUIQQijhFCoOs6x46cIAkTHNsmiWOklJOXgMDziSMP0zRxbJ1et8VoNAJZJ45jdF3PA0BOzmFEUUCWJbgFG6FI4iQkiiKSJEFGUCg4xFlKlsUoioKiKui6QbfTwTSq6LoFIiYMfPxgPEnVU0GWwWgQoAoVf+wBCmmaoio6qqlNygIx+ZzpCC8IAkajEYZhIKWkKlWGwyFSyn3nX4ckSYjiEABVQhJM+gjj8XhiA5am7G5usrCwkAeAnJzDEFLBNh0s1UCTKrrm0BtFqKlAMx3m55a5euMag8GY5pyD4zpcu75OqVxHptBp77K0tMDzl68ejPz8UUqxWObee+4iyzIuXrxIsVik3e7Sau2xfO8KR1ZWiaKA4XDIcDgkDEPiQcyZM2cOUv2Zep1+f1LfR1FEoVBgdnaWGzduEIYhw/4A27bRihrNU011NYuEAAAgAElEQVTW1taoVCoYhkGhUMjvAuTkHMabHzghK5Uy3/wPvwnbMNGEgmkYLC+t0BlNUuw4jXj2a19jd28HP5448F69epWCaWMYBq5b4K2Pvp25uTkKhdKkTjdNDN1mY2ODy5cvEwQBCwsLtNttHn74YXzfZzAYUCgUDkqNy5cv8+CDD2IYBtvb29QqE5/A0WjEkSNHkFLiui5hGKKqKkmSAJAkyUHZEO+XCv1+Pw8AOTmH8b7H3i0bjQZrK6soCCzdIPB8VFVH7B+oQqnA3t4eQoXnX3yB2dkZkiThlZdeQmaCLMt45zu/f9+wc2LVjVTI9n37hRDs7OwwPz/PjRs3mJ+fx7Is/NF44va7n/53Oh10XccwDLIkxTRN+v0+QRBQKpX2vf9SwjAkDEMsZxKANE0jiiKCIEBRlINRZB4AcnIO4ZknPiaFIum2OygIPM/DNkxUVSeRoOs6WZbhujZSpgxGQyzLRNd1kJKrr15jcXER3w9RlMnB0zQNmQlQVcIwxDAMfN/HMIyDA2yaJjJJURRlogvY1wEAkzGfoqIokwDiOM5kCqFpqKo6mRbIDN0yD94j5UQtOA0CkE8BcnIO5eb1DeI4PGjECUBKFUWAbpoEfgxIkCGZTBBSYzz0CYIutmHSrM+hSA1LU/cPc4pIFTIpQBHYtkscx6SpRAgVw9BRVR1VKCj7Et9UnUwADHvi8ptl2aThqHxdze84+kE2AaApGqAgxGQ1eZZNJgSqqk8CkMx1ADk5h5JlEscpTppm+0s20nSSfiuqTpJEZGmKqiooUgWZous6QgiKjouU4sCHf8LkgKapJEtjBBmqAq4z2TEAgATIUBSBEBJFASHYf4oLhBCoqkIiJ5qA6fhPKAKhCBRFQQhBSkaSpEiZoWnqwf4AUIA8AOTkHEqtUp2k0fsLN7IsI4oiFFUlzSZNNilTkCCEJEkmhh1hHIHHxPlHZkRZhMwEaZaSZXIyizd1pMwOnuieNz54OquqSpROfi6lRBEKqqaSZhlxEkMCqZhkCKqqoqiTv1GKDCnYFw1NRohSShTVRCiT8iGKJ5+ZB4CcnEMYjYYoioJuGoRhiJQSFEEaSFJ18jTO0hgVATIlixMMUyOOQ6IoIErCiftPkqCpBjBR98VpjAwTbNtGZpMLOpY5yRzSNEURkph08uRnIu7JACkk7JcGqJMnvVAECJi29dL9gCRliqKA3M8ohJCoqkBVVUDNA0BOzmHEiQQRk+7v19O0ybFJowTUSW6uqzpJGKHrBggVBQPD0FC1Scdd0zQIQ2zbJt2X8qqaPknbVQNdNfb1+5OpglBV4iRB1cyDtV6apk36AWmKoRpkWYauTi70CiEOav84jjF0Y7+5aJMkCYqqIBAIMoSALJWTv+sb85Xm5Pz9QUqJqmhoqoFUJDA5cKomyJiUBUIKVFVHSoEQKmkqAQVV0chSSSYkilAJg+hgd9+ks28ShhNp76RBmJFloKqT5l2SZKRpMCkHooQkSSYHX9dRFIU4jg6Wfk7VgEmS7L8/2m8upgAH04Tp51uWlQeAnJzDmHbaPc87GNNND2wqs4PGIHDwFPc8D1VVGQ77kyeyYRwceoD/t703jbUsu+77fns4wz13evOr8VVVj+wqdnNqdnMU1ZRla7AlS4ksJYFsJYAl0XKUQJFkBAaCwEiEBAhsI5ZkKZKRWPIgy0LgmKJsiZQlkBTJJrvZ3eyB3V3dVdVV9arefOd7xr13Ppx7Tr1Ogjx+IkXg/ICL7ldV776HC+x11l7rv/5LKbWY3JN1a6/qzVcH3BhTi3ZarRZZlpGmKdZafN+v7/7Voa86AJXZCJQtyqogWcmHq5/fLAdtaPgGqJ6a0+m0/rO6r67VvTv74gnbarWYTCYEQUAY+vWhrKiCR5m2q1LUY219sKt2ozGGMAxrIVD1NI+iiE6nUxcHgbcd7KqIKKUkTdNaNlwFler3bJaDNjR8A4Rh+LYnq+eVd/f5fF4abywyhOoJXEp/21hrCUO/PpDGGHzfLyv2dTou/j8PcZWma60JgmCRLZQmI+12G6CWE1d1AWPMscyifL8q8wiCoK4TVBlLowNoaPgG6Ha7tbru+H3b930srn66V1mB53n1gbO2eNvfV1qAe9cBWafy1ZP6eECoCntAXQxstVp1AKkyieP/vsoMjgeCKsOoVItVQGsCQEPDCVSHrUrLq6/TNKXd7bwtA6j699XgTZYl9ddQPt2rAALUQaU6rNWfHa8pVD+3euJba+v+fvWzjweC6j2PF/zqmsUiU6hUhE0AaGg4gTzPawVdlmVv09ZXDr9wLwBUT/HyEOb1gasOf/XkLp/Eb3/Kwz1VH1BX++FekfD49aB6H6B+n6rqf7zucPzvqyuIEKIJAA0NJzGPy+KfsWW7ztjyEEXtEGkszpYFN4ehlAOWSrzMpPiL+7ySAmfLqr4t+3xlH37R96/S9vJwA4gy6DiJFILCFkStoH6qB0FQdgkcoMonezUV4MwxrYItA1Qcx3U3wCwCRpMBNDR8A2RZuqjOly28MpUuyoMmyoObmXJaDylwiyEha23dxqte1cGt3idN0/pgVlN61V09CAKKReZRZQ2VIGgymeD5PlaJujWIX04PGmNQRfk+WVrUxctZGhOGYZ1BONsUARsaTqTdbuF5Hr1erzbaKHv0hlD5FM6SJAl+GJTV/oVa0BiDant1XaAS6rBI461bSILz8p7veWXhsAwaAhCgPZxSoB1oD4lAak0rbJGmMUJJgiikSDOMMygt8X2Nr0sBklYFQRAQxzFLS0vAPV1DcwVoaPgG6HSjspAnHUK6cuRXgucphFSEykd5+v8l+AnbbeZpUvfknXP3jDgWQSCSXi0eEkIQx3FdoDPGIJWs03nP8+r/F0IQtEJYjAl7qvz+coRYoijdg/u9lbLa70nCsNw6JBfzA865ZjVYQ8NJ+L6m04kWFX2x6O1LlBYYZ0jzFGsNR0eHdDpt0jQhCkMEjjAMyjXcSuKcRSmJ52l83yMIfJQSixFgC1iCwCMIPHq9Dr1eh1YroN/v0moFLC/3CUMfzysVhr7WBJ4EmxMGmsBXYHM6oU8YaM6fO4XWiiSJ8X2P2WyKUhJrDcYUDIeDJgNoaDiJ+XxGUeS1a08UtciyFOdAeRLnSrHQxubD5Z1eQ16U9+3xbFrKbj2NEhJjMoTUzCbzxRxAOSCktSYvivqObmzGdDZFa83+7pBOp8NsMqzHhrV0jAb7WFfWEPTCEShLUoo0YX9nt3Qg8kPCMCTPc6IoYjKZoLUmjmM6nU4TABoaTkRYrCuYTOPyDj+2jEYjsixDBSFxHJPOY/rdHpPxmFu3btFpRXS7XcJ2VLcEk4U9d6/XYzgcEscxB4MBWZZhjKHb7daGnkIIknlM4Pn1QtLhcFgHiMlkwmw+ZTo7YqnbY2tri9XlFW7duoV0ZdFQByFeu83h4WHdrszznHPnzjEeL9yCv9WfbUPDn3du3rxBv99HSsn169e5fv16KQ9WkszmxPM5Ni9Y7i/R63bZ371L0u3S793Hreuvo5QiDMOF4cccaVNuXrtGf3mFTqfF5uZFrl69ymw2Jgg029s3AfA9j1PLa9x/4TwrKytEvmYwGJClKZ5wnFlfp33pHKOjAXvbd7FJxqm1dUxeioSQgu3hPgeHu3S7XQKvRZZn7O1vUxQFR4PdZjtwQ8NJvOu+8/99mqbs3rnNndu38JREOEsn8jFuTivwWO312Fxaw0Nw9/ZNHn7gfsJA4CtDFCqybIrJYyajQ6IoYHm5iyWjyGY4E7O/extEThhKLClSFawvdVjRHqF0jPbu8tabrzHcv4srEpTLURQo7ZDSYosUzxMMBvs4lxOEulwJ3mrjrMXTitCTdNsB2AItLMIWTQbQ0HASmxt9tGe5ePY8eTJkOBzS7vWwJmap00MLjY/EpTG9bpePfuiJckVYPKdIUvr9Pp5U7O3t0woi2q2I2SxmPp5jhOHunTu0o4jpdMr4aMDWIkUvkoLe1nK5dwCLFbBx+hS9Xo84jpnN5+Rxgu/7hL6PMwaspRNFtFstDo6O0FrQEjmXLl5Ca810PmM+nWEtmJZpAkBDw4mYKUHY5uhwh143JEs1vgezOMYayXI3YLnXJZvPcNmcIhcMpkOiqEPbb+PLgDyOcUZy34X76C31GagR48EMFXksL63Ta3fYuXOXTrvNUneJjc4at+/eobOxztHREYXvcerCBUxeoMMWkefTijpYUwqFQr8FQHupQ7vV4dob15jNRvSXA8ZHRwx7bc5tXcLkklxLHIre8lITABoaTuL82S1Acuv2NkpGPPTgFeI0oV9YWsEK8XTMUq+L6kV4wK072wgpMEXGgw88iFYe2ve4du0G3W6LPInRyuHI6S2tMJ/OCEOf02c2Wen2KZKUdisi8CWpnZPkE0bDIVpIoiAk8gWgKYW8Qb0opJr57/f7jAb7rG/0WFrv0V0a4fldponi5u6Iz37+y3zpK8/QCttNAGhoOImtrSvESUZm+qWazxjavuXWzducO30Kt9wn8hzJ7Ai8ctHH+a37CVoht3duMhqNOHPmDFYVHI4Py6o/sHd4h0ExZjIek6QTVpeX2R/EzEZjVvpLWGG5duMWwjpMXuCFLTxf0Y08hkcD3rxxg7Vzp1lZWWE4OMIYQ6vVIuqHrGwuMZzGXN+fs7p2ie3tAS99+TmuvnmH6Sxn7cJ7kEo1m4EaGk7iN3/pf3I4xVeeeZGz57Z4/uUXabUCbrz1Jssdn//4h76Hxy5fYDzYQWDZuTNgbf18Wf3vGq6+/ibK04RhhBf47NzdJbcGL/CZ5ClZkoB1LPeX8JQqD7tU9Ho9xpMRs8mUXq+HSTI8rekELZIkASmgG9Hr9djd3UXKUu1XbRDGi7g1smS54plnvs5wmBG2lvGDNkmeEUVhEwAaGk5izeu4rHAo1WVWFCz1lumvdtHScP3NF/jF//Jv8vBDp8iTEcIKkrlgMnXE85zldZ8gajEcDplMZ3Q6PVbWVkmTnLdu30KHAf1+n+l0SieKkFIym0zxPI/VpWXSecxwOCxHe43F11693ivqtEllKR8WQjAajZBS1iKf0+cu8KWv3+D3fveTbG5cwFM9ilyS5glS2cYVuKHhG+Ej3/1xfuRH/jOee/513rxxE4Oj228zHOyxdXaJztoqMgyZjPbQ0sN5HayCtTPnwUtZ3dxEhRP8yYS7u3vsHO0SpwmDwZjJdFqbi0gp6S71McZgcbSCCJnaci34MUOQyoxUSolZ+IikaUq0CCC+7zOe5wzmd/FlwEp/meXOElkisDZhqeVjXYKx8yYDaGg4iYceeMR99Due4tadfW5ev0ErgNMbfWw+JU6HXLn8IKdOr3Cwu8f9913hC59/npdfvMHK+jkSKepJwChqMxwO64GeIAjIM1OP/1aOwUIIclPgKY01ORsbGwglmc1m9fcqpZhPZ5isDAydTqceM66Gi3xfU5BiCk1LL1HkpYNwGGi0lyOVbQJAQ8NJtKMVZ53CC9tMhod84L2X+fATjzE6usurb73G2bNn6HRDdncOeezR9/MfPvMF3nh9G6naqKhXT/dVzj1a63qGXwpBt9ul3+/T6XRq59/KRejg4KD+uvIXqEaTy/XekjzP67S/kh3XlmNKoKXPbJrjrEQpjzyboxR4fjMO3NBwIk899b3M4pQsK5iPB3z0g0/Qi6Ad+ExxXLx4gV6vx9LKIZN5zgc+/BRp/mU60TIqaJHnOa1Wq/bqq5eL+h5xMjm2Cqx8eYEiSXJm0xkmczgnkGikAL3YBxBPU9I0pbOygvJbbCyv1a3AygrMGIcUAWBZXvNq70FrHVL4jSNQQ8M3QpqD77VZ6oaI5VVObZxlrR+AKNidFzz62AdJ05i3bh6yuXGOc2fv57XX7+KJgChq156CzjnG43EdALR1TI6O0FoThiGFtXhakycJRRyTzqZIW/oAVIc6DMN7yz47EUeTIXmek0xK04/qGuCcw1lJO1jBkCFUhnUZDk2WOrABUjWLQRoaTuTWjVvgJEkcY7MYF0/oRorCGa7e2QERcv36db761a8SBh0CP0IIDyz0Wu3aPLQaCGq1WjhTbhhe7S/VC0GiKCoPcNji0vktWq2wHiuWUtZW43mec/v2bc6dO8fq8gppmjKdTun3+7XpSFEU7Owc4Ms2UhWkZkqSzRmPZqSJZHPzApNx2tQAGhpO4sLp9zljDDa3TGdDet2IwBMMBgMKWarwClOq8ACsgeXlVWazGb2oxdLSUinQiaLa07/VaqGUIp3P8DyPy5cv174AUkrG4zGdbouDw21WV1c5PDxEa13XCq5du0aeZaz3+0wmE4wxbG1t8eSTT3L9+nUmkwl37txhfHSIEI7TZ0+B0gRhh/Ek5/u+74f5+Z//O00AaGg4iXc//BHnrMDzQo4GA6y0eN5ij19u6Pf7rK2tsrKyUo8Nnz9/losXL3JwuFOn7NWWYK01vu8zmcwQrhwR7vV6RFFEFEXEccwLL7yAUorx5JAoihgMBvT7fcbjMdZaDg4OuHDuLKdPbfDWW28RBAGdTodnn322XjBy+tQq73/8PpLYcOnSIxwM5ly7vs3Tz7zAtbduYq1rAkBDw0n881/7PeeQzJOM4XjMNElBK7IkQReuXBDSbnPmzBlu377JW2/dYHmlz/7hHmjD9nY5fx9FEcNhOU0opURJH5OWzsB5nr9t/1+WZXVxsOr9H99KVDr8tMilqV2CKinwfD7nscce473vfpDQ30fILs8+c5Vnn3sDQwBCsXH6FAdHu00NoKHhJD79md/nYH/I/sGAu/tHFK6spFvn+NhHv5M7d+6wvb1dbvk1ljiZ1duAkqyot/JUhbyyl29wLsPi7m3sSUp7L4eg1S0diDvd6N7mIOmI2uVqsfrPbIKUZXEwyzJa7S7KC3nl1atMpkc8/v6zKKEZjKb4fkg8g5XlZey8oKt6TQbQ0HASq+GGi6IOSeYIwjZOChbbO2i3u+zt7WGtRcvy0PuqvMdrrcnNvSNWPdHrTUDCYtw98U/1X7uwFS+KAt8P6y1ASqk6M6j+vfZFnfJXuwODICBJErJ8wuam5rFH38/gMOErX34RSUi73QUWa8e+WR9iQ8O3K72VNVqdLm2jcGhMlYpjmE6nPPTQQ2V/39jSdy9J68o+6t46r0oDcPwAh1FQC4XuLQwtVYKVgvB4/eD4Yk8pJQ8+eD9ZlnFwcIDv+/zZn/0ZWZKipULqiPFoxvVrtzFFuc9weamF75dFRt/3mwygoeEkLpx/r+t0uqS5wFlBYQ3G5OAMw4N9fvAHf5D77ruPNE64fv06WZzUW32E1HV3oJLoVuvGM1MAZaCo7vVJkmBtGUiCICBJZ/WCUM/zagWhUgqtPXyla9WftZY4jvn4xz/OZz/7WbIspdX1sBYm4xlraxu02x3G4zGf//zn0Vo1ewEaGk5ChxHTzOCUJrMW50DrUknX7Xbr3vxgMEBrXQ/laK2RwmGKDGtylAQpHM4W5FlCnsQAi1TfrwMElFr/NIvrzKGSA3ueV7cSrTWYvCBPM+LZnHg2R0vF5voGvvZotzvkmaTIASS7u7v0el3CMCDLUsIwbK4ADQ0nITwfZUEKSbvVKtNwDEVhiSflTsDqBfcKdG6h/T++Pfj4C+fq64LNC7QorwHC8xEI8sxSmLIr4KQF4xYDRFm9Z9CZt7+nMYbRaLRYQ+bIMovnKTzPR2vLQw89wGAwYDKZEkWNI1BDw8lYh0QiHeRFhhQOLQVClXf2anDH93201mR5UQcALaBKtI01aKFROKQUCE+RF7bOIKo6gOd5dZpfFBopFAIBTlHkIKWPdZYit3i+QuIQzgKOMGpRWEOcJggUUmjyPMMPNO12i7t371IUBQKFs6oJAA0NJ5EvNvRmhSuf6qYgl1AUZUV+MpnUxTnP8yjSrP7eqqpftQKB+s6uhcRrBfdGhBdLRHEOawwCUEIjpKgLhxKJcKJcEioFToKTAivAChBacTgcoAOfPDM4695WhLxx4wZh2KId9UkT09QAGhpOQloHhUHYjE4YoKSkMAJ0i7ywTCYTijxFOIO0BiUlWocIqcmxGAk5FqEVuTUUrny6J3nG+pl1UpshA0UhDEYA2gPtkTuwymCVAc9hZIFVhkLkZC5F+arePFwtH60WgFYjwgBKeTgHk8mMOM5oR12SJFkElIaGhv9f0nmMsA4Ky2hwhJSSwlkK4xBald58gMnzWtVnrcUiMTicFKV2QN7r9VdpfrvdZmVlmclkUmcJ1pbiIX8x+ltRtQ6VUrRarTKVX2QGZVdA01rUKLTWBEFQ+v8bg0ARBCH9fp87d+7Q7XbLYuU3/+NsaPj2IssyJuMxw+GQw8ND5KJFV97TPXDlMap6+KVxR1pX8Y+vA5dSvm28Nwg8lpeXyfOMoigoTLaQA+e1erBO/xfBoJoMrCTAx3UE1lpardKDoAwMZdCwrqAocg4O9mm32wxHR8xmk6YG0NBwEh948kmKLGd9ZRnpabywxRvXb/DV515ALR6hSnqAQAgQwqGUQKGQsjz0RVGUdlx+UB5eY9FaIayjHQZsrK4xmUyQ2kNLUHLR35cKVxik414QcZQGoUqjWJiMFAabF8wnU8696908/YUv4ukAJyTaE2jPQwiYzWZ0u7163qDJABoaTuCDjz/BY1feyalTp+j3+5w6dYokSVhdXQUnWXT76jTcOYtUoPW9zkD1RK6Wdyil0FKilcD3FA/cf4lO1KbIMvI0wxQZRZ4ihUAKUSr2nEMKgVYKUxRopcpiIAKswxYGiWC5v0S33QFAKhabiWPm8ylnz57mypUrPP74e8vf8Vv2qTY0fJtQiWwm0xFWCtLCcHdnh2mcAAKQtauv7/uEYUhuDKiy2u/7PkEQgHW1Tl8hmM/nGGNot9sAXLy0xfVrb9WCn9I5qJQBH+8mHL8SSEl9BYCyYzGfz8uiIAYpNAiHFhoEi4nBkDSLieNZkwE0NJyEyXOwlqIosHnBdDplOByCKw8/QJYVSClLTz4t8LzS5kspVR/oKIrwPK8e7Dk4OODlF19gbWUJT5a+/6GvUULgTFGn/tKVLcPjL08qfKXxlSbQHqHnE3o+0sFKfwktJJ2oXf+sKhsxNufatWt85dmvlN2Db+1H29Dw5580TsjTjEB79ZBOVYmXQmONq9twlYCnLODJ+kldpf1Kqbq6XxQFn/rUp8o2YlHgeWqREZTOQEHo43leXeWvjEWr4mD1c6D0DaxchSudQfVv6uHDhQPx0lKP0A9pt9tNAGhoOIlpEjOOJwhPL1x7OoAiTXM8X5CkM6JQE3iw1A9pBQopcihSfActqWhrDw0oAcl0ilaSUxvrXLp4nk/81E+xdf4sB/u7eFrS63TxtYevPTwt0ArCQCMwhIFGSQeuoOxA2vr/tYJOO0QKS68b0W75tNohYRjiK42wjtDz2dnZIWxH+J2oqQE0NJyEExY/CChMRpIrDIput0uSFZgiJ89TnLNkecJ8OiVJEoyzaD9AOrBF6fbj64VJSJ6Q5ylr6ytsXfwwX3vxeW7dvsFoNERrj3k8JQyiRUHR4Xll1lB1Enzfr7MC6yxal6aheZ6zv7/P6TNrKG3RShEGnbKlaEs1o5Swur7GLIkpjg6bANDQcBJKKay1pFmGcQlRd4l+v0+yf4gQglarxcWLF4mnPYJqIIhSJGTTorbqrgxBqs6A1orp7Iinn/4iQeDxse/8KEVuF6m7Jo5jfN+v+/2Vx0B13cjzHERpGaa1JssyBoNNTp/Z5OKlLYIwIkUgnUUKixaScRzjhW2KhY1ZEwAaGk6g0+kwGB7i+x5SBxRFxtbWee7u7pJnGVmW4fs+McfEQDiUFChNXX031mKswfNDwBInCWma4nmW6XTKYDBgdXUVY0FZhdISR0FhcoQtXYEKk2Jze6ylqEgSsxgcKuj1Ojz//FfxfU2axjgtKZxD4yikJPA0YSsgCD2cs00AaGg4iSD0aLXCsi0HID3OnDlDURTM53OGw2GdmsezWSnMEeDyjF4UICUkSbow+fAAu2jXzXBO4Jzg9OmzLC8vs7e3R5rGFAW02+3FtGFOURS1K1BlEKKUqE1Cs6xUEkopmU6npdAnT3BWljsGsZjc4rU6WFsOGSmazUANDSeilFw480JaGAyCKIrIi6zs+S8q78PhEF1Jc5UEJcmyYtGG82tLL5BIqdHar23ASjGRPPb3sq4BCGGwtqAoLNaWgcbz/Hu+A4vrgF1sESr1/w5TOJQE4RzOUv4MAxRgjYBmHLih4WTiuFTRWWtBaZzU9Be2Xm5hwhEEpcS3yO6NAhtjkEhwrrQSy8vDag3gJAKFVgHOppgCDg8GGONQykMpgZQaZwuk0PieqAOCFIosLYjjuBQYAdmi1uB7AmtgPksobA5KYvO8/B0MaA1CCzAKnG7agA0NJ5FlCUVRkOc54/GQPE8R0pVS4AVxHL+tL59lGfP5nCRJybIc5yitxBcvYyxFYVAywNMtnBMMhyOytDTrsBbm8wTnqL/XOcjzgizLMcYCgjwvAFF/DYJWKyJNM7QOEEKV1wwDzoJwEuk8pPQQNAGgoeFELB6B38HkDg9NN2gRT8Zsri5RzBO0kEjhSk2+M2gP8iIG7q0DrwQ9Vcpe3enzIkZIR2UOqrWH7wflhKFTdVGxuusDb3MYttZgrcE5i3MWYwpWV1eI4znWGorcIIREHhMhFSZBaYuQtgkADQ0n4XlB7earKPvteZpwenMdgCSZL1Lx8mBWNmGVzReUB7g6tMCxEWGzeN2bG5jP5+R5UXr+LUaIj/sC3HsPyuAhLAiLkA6pwGFI0jlQSpSLoii/RziyIsU4A9jymvFN+gwbGr59saW+f2lpiXavW5turC6voBa+gNU8fvV0L6cE/59FOvu2QHB8xr8S9lR/73keV69erTOAantQ9TPK75FYJ972ms0TgjAiLyWrpXsAAAzXSURBVGxtDFLpD6przNsWi3xrPtGGhm8fsnSOVj6tbo/cLIQ9ztFutwhCjyAs/forhFD4fgimKIeDFgdbKUWe5/UT+bhRCHAsrS9Xh1fWXlXxr2r/VctChBCYwtRXiwqlVP37OOewVQtg8X3VPENRFE0G0NBwElkyJWr77O7v4awgK0pl3sb6OmAXU36qXuElUHiehyksaZqSLAQ/cRzXDsDVIa+e0hXVtSEMQx544IF6RVjlIHScoiiwCKbzGKk9kiwHqej2lxhNpsRpVj/5gVpCPJ1O7w0TfbM+xIaGb1fm8wmvvfZ1wjBgnib1Ad7d3WFjY400TeppvGphSJ4XJElWm4RUr+ogV+n48QJhdZWoxDzH0/cqg4jjuBb9IAW+HyKlJssKsqwA5EJz4DObxbX5Z1EUzGYznHP4vs/6+nrjCNTQ8I3wkQ8/iZaO0WiExVFYw3w+R2vN1tYW0+mY6XRcHzYhJDhZ9+iP43leXS+o9P1VbSBbaAgqA5F77ydq998qiFTmIJPZlDTPKKzBC3zSPGMwGmKcpbD3Vokfv4okScJ0Oi0zlm/2h9nQ8O3G9u1b5fSfdbUU1xQ5yWzKqdOb+L5PlmW4RWZQOgOXJiDSyrct9Ty+AKRK/au7v9aaJEkASJJyv2DlI1AtH6mcgI0xBN69vYPV1uBqfyCU1wnjG1KTY/KcwPdJ0xRFef8PgqAJAA0NJ/HiC88RBhG+H9DvB+SkJPmMyXBKFkhsPiVNDRSKWVJgjORovE+/14XUoXRE7kCQQR4jFBB28FtdsqJAak2W5fitiPF8xtryGmaa8eCDl7j55j5GSPAUhRDM7QyXJ/iSUnUoFePRlHYUkcymhFqxsdwmGe8xlwWDwyM0DuUMJk3o9tcY743pdde5vb3bBICGhpN49/vezXKvT6/TZW1lidlkSpHlzJIptw8H5HHC0cFdrCmfwDe3b7K80mM6GhLqFrmzJEVBMhvjkxAEPnlhGU5iltvlok+lfeI4ZWVljdeuvsE73/kOxpNZmboHIcPRiDjN2Nu5y9pyBysM82TGYJ4yHk1RCN555Qqvv/oS29vbXLq0hVCaIOpz6fwZcGX3ohX1CdtrfOZzn2Pz9FoTABoaTuL9H/oOfuM3/jcCT7CxvsrP/q1PkKYJV197naVTp3j4oQd46aWvsbW1xXyecPH8ElL4tNsdtu8eIYxBeeUwkO80vlR0Ox2OJjGddsRoOEFpnyTJOBqM6LZXePXla3ieIvQiRJYyn8cYY+m0I/b29gj88lpgpCZohfQ6fUbjMecv3ccTH/owV979TlqtkMLmzKZDJqMBm5ubTOcF/+xf/h77wzuEUbcJAA0NJxF21nnyI9/FB558nP/mv/oZLlz8NG++8SrT6Zjv/thT/IXv/hhPPP4wg+E+T3/haR593zt58YU3uP/CBT757/+Y/VFCZh0umfEzP/GjfOj97yPNCobzhHmWcO3aNa5efYudnT3OnD7PaDzgsUeuYGxBmt4GVVb2K/+AK+98hO/4jo9w6dIl9oZDVlfX+ZVf/sc8/sEPcvHiFpM0QyifaZIwmox4YeEPsDec8OWvPMff+x9/CeM0KggR3+oPt6Hhzzt/+Xt/0j311Mf43X/1z3n55ecoshhrUyCn70n+i//8P+Gdjz7A9u0b/Omf/Alatrn/wmV6y6f402df5pXr22S5IZsM+bmf+uv4JuHf/eGnwQ+ZpDGzeUrYXsLik84TknnKuc3TpNkcpR1xPEN5ZUvwcDDi8uXLeIHP1156hc5Sr1wC6kq14F/6S3+RtfUVnDS0/IBAe9y+s83K2gqe5/HIlcf49V/7Jzz7zPN4XtAEgIaGkwjkfQ4sWjlcnqIlGJvS77VZ6sGFrbNgU375H/0D3nj9KqOjCZPhjE/9wae5ujMmFiEqaHO0u80Hrlziv/uF/5pf/MWf56NPfZyvvvQK+0cj/M4SeSHJc4ONUwLlEYU+aREzj2f0+13On7/A7sE+O3uHeK2IwjpGowEbG6d44+p1fD/EuII0jREapqMpLRlhlUBqQZobHJLV5TWChVCpuQI0NJzA4+95CM/zuHjuLD/xN36cbqdNFIT0l1pEPUUURMymU77+0st85o++xF/9ge/nX3/ud/jIhz/E43T5zNPPcePuHtPplJ39PS4/epkf+uEf4K3tO+zc2eZnf+4XcX7I//qrv8bK6ipt5TM5OuTShXNcuP9+bJGTZ3P8MGBjc5P3vb/DjTs7aM/j8O5dsqxgZWkZS+lPmJuMNJ3T0i06KmKe5egoJDelJsDXGluYcn/At/rDbWj4886f/PG/wRpDELaYjwZ8+g//iK2z51hZOUsY9di5O+CrX36Bv/3TP8PHv/NjbK5v0e320Vqy3lki8gIkClx5QMMo5L4H72M4ndButRgOB/zGb/02t+7u8K4f+iGy8YzpUc7FrTNIpQh9hQg0SZ4gRelDkAnF669fJZ5M8cOIbtQmTg1FbmuvgVarReA07V6bg/EYJSUyVAS+QlhJPBk2AaCh4SR0T5dbgNKY27fepB95/NY/+ce89OILfN8P/yBX3vMkWw8/xATJUWEodBvnAlwBBwcHxNMEWWi0bbF9fZfxwZT/9hf+LmunT6HEMl/84vPcujPgl/7+r3D5He/g3/zu7/L1l68yiws6JmGYzOl2u8xmOSura0zHQ1wyhzwmTXMefOgher0JO/t3mU0P6LR77O+kXDh/nu//nu8iiFr8yq/+Kjdv32RlZYVkeIDv+7RarSYANDScRB7P0UohhCNPJvzpH/8Bjz5yH0999AlsGHLlyiM4r4/X1hQ2ZzQ5Is1iJiPHUVLgaYdWgsD3MWZOmsV89CMf4K2bd4iCPuOjAb1Wm//j13+DIAjxHMxHM6IgRLWg1+2xfXeXwXiCOdwDJfnIx76Tmzs76Kjg1Tff4tZbdyjMjHYr54l3P8nl7/8exoMx16++yvLaKv/RD3w/Dz78EGtra3zx6ae5e/cujzzySBMAGhpOQlJu4QXHmTOnuPLoI1z9+ivsDw74Cz/ww2xsnmZ7b0gyn6OkY3C0Tyv0MDblcP+QM2dP8/qtryG1w7ocpeATf+snSeKcP/qDz/H0C19D5DO6vqQdeXjAvsiI5yOubd/m+a+9xO3tHYyQqCAiyQ23dw+QUjMYzyiyhMwUOGPQQrK+2sekc9pBAEurBCqg3W7z7JeeIc5KmfAj73iE8WDcBICGhpMQQYAVDkyGDQPe8f738Zv/8rf5F7/9O/zm//47/OiP/03e98SHOX/2NOurfT7/+c8yHh4QKMlocMjj7/ogn/mzZ5ilE6JIYF1BJwqJZxM+8YkfZ+OTn8RrOy6/61E+8MQHUc7ypc9vkacJF8+e4uH7H+CBh68Qdfo46XP67AX+6D/8CV955jmuv7mLVhFRt8t8FDOZDjm1sYmJE+JkTp5mrK+ucXh4yH0XLzEajZgnMbPRGKUaW/CGhhP5H/6Xv89rr73G5Yce5Gf/9k/zmd/7P/k7f+9/ZmcS89d+7G/wsz/3d7m7u8epjU1efP4r/ORf/085t77EY5cfYWWpz3g8QnkSKyDOYobDIfddOIe1BV979av8xe/7LmwgSXLY2b3JqfUNHnrH/fhKsrG8ye7eAfOjMa+88Cqpcdz/4CP8+j/8R0S9JaCcOjRZaT5iXWkbfng4IJ6nGCe4dWubzdOnSJKMJMtRymMwmjTTgA0N3wgfePyjvPud7+fChfMguvz0T/0Cr79+lTDqstRd4qvPvcIjjzzMFz73ef700/+OH/trP8r5U2tMBke85z1n+eRnnyU3Dh34aGG5ceMG3UhxeDggtZrXr98itx4vvvwq29s7tFsRo8GQZDrh/jPnObt1gfFsjhdE+FGbZ59/Dul7DMcDNk5fIC8sVBOCoYdTGidVOUSEIM0zhFTM0inGQZIm9RbjJgA0NJzA7//Ov8U5x61b24xGY7a3t0mTHM/zOHfxHFevvs5f/t7v4b7zp9lc3+S9jz5Cnkx4Yzpj+9YdXnz5FZwTKOkRBJI0N3z63/8xL73ydUa0KQrFcy9+nbt3Dzl3boub8SGH+wcoYbi79wqr23ukWUacF4zjGUJqZllC22+RTEcY55Ollk6ngzMjssJghEb6IUWR0W51ubO/S6fTAVOQx6XvYFLkTQBoaDiJT/7r/6uc93eC1ZVNPNciDLtYHLN5hjWCP/zDTyNNwlq/za8c7fATP/5jXH7wYX77n/4y45ljfetBip2cIhsRRW120pSz5y/xm//gtzBO81f+yo/w4EOCa9dv8p73XeYPfv9TnD23QZbtcXcwIi1ykjxjNBygOhEmTbBd6Gmf/b1DNk+dJc4SvCCgMI40tzgn8MOAyWRCt9tlMBqxurpKvvAqzJKY/xsGJNFS8ODBJwAAAABJRU5ErkJggg==",
              "ok": true,
              "headers": [
                [
                  "content-length",
                  "36160"
                ],
                [
                  "content-type",
                  "image/PNG"
                ]
              ],
              "status": 200,
              "status_text": ""
            },
            "http://localhost:45361/api/tiles/17/30812/54212.png?&filename=%2Fcontent%2Fsatellite.tif": {
              "data": "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",
              "ok": true,
              "headers": [
                [
                  "content-length",
                  "33051"
                ],
                [
                  "content-type",
                  "image/PNG"
                ]
              ],
              "status": 200,
              "status_text": ""
            },
            "http://localhost:45361/api/tiles/17/30813/54212.png?&filename=%2Fcontent%2Fsatellite.tif": {
              "data": "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",
              "ok": true,
              "headers": [
                [
                  "content-length",
                  "62367"
                ],
                [
                  "content-type",
                  "image/PNG"
                ]
              ],
              "status": 200,
              "status_text": ""
            }
          },
          "base_uri": "https://localhost:8080/",
          "height": 621,
          "referenced_widgets": [
            "f8c124b947094e348f44183af6d1a5d6",
            "8400e514af724c2e83078be29cd8bf3e",
            "03c18507cc564485831dc5940a2d9f8d",
            "327e56b3acef40f2b20cc941e4afb9ce",
            "129386b695724b51b11fbaf4a281c5be",
            "498c30d42ad049358d42a27b38e8f118",
            "3fe7f01fea3a48c6b62150ef2c11f5f6",
            "09a312a0a1614682ad3d7ab604696371",
            "dfddbc18f4624a338c79e29cd9437787",
            "baac2be3827a4c0f9a0651bef32071bd",
            "f65ebb1d6ff2466db360ba3f282858a2",
            "5ec5553a590f40eda2ca039ddedab01e",
            "1b69339596984d7e8914073116124ba5",
            "2b0038fe52d64e73b060f72224ae54a1",
            "3d21dfdfd21e42d5b39f752ecdf9f04d",
            "c11c265f2d6445f5aecd8b182de21d2d",
            "6b1ea3a4f3df4c0398db1234b1a5ed1d",
            "d7fdf2f525f44794846bde90c2906379",
            "9d324b2ce3e64b57a385b5a38c553f76",
            "ffe8fd30cbef47ebaea4997e6297cd04",
            "cc5feaa364df4e8498418cd91189014f",
            "103f732149544dc6be5043fa9460ccfa",
            "1424bf3027ea45838ebf450dfdecf013",
            "bae05525daa740d384cb76ba55e0d089",
            "4fcf6982f1784791abfc1da0a1324ef3",
            "cc8855784cd14b4491566267d1c3828c",
            "412e7a25062c4c838704e1f1bb84d09f",
            "327abbf225d04d1aa51321b5aa49eef3",
            "42d9ef321dea493d825609162b41be23",
            "94cad8b2714d4a928c14c1bb0249c129",
            "88bce6200ebc46c592151e238446b2b4",
            "fd7257e3cc754ce88deb0d40d22ac1a8",
            "57728288a40c4210bb7b8358a674fa34",
            "8f72851ead9546b5b6a495d46724fd0c",
            "40b4495bcacd42ba83140d3f97719158",
            "e3185c41d8314f6c8a478334760ca9d3",
            "fd9f495328d542fb848b2f00ae98cae3"
          ]
        }
      },
      "outputs": [
        {
          "output_type": "display_data",
          "data": {
            "text/plain": [
              "Map(center=[29.67684, -95.369222], controls=(ZoomControl(options=['position', 'zoom_in_text', 'zoom_in_title',…"
            ],
            "application/vnd.jupyter.widget-view+json": {
              "version_major": 2,
              "version_minor": 0,
              "model_id": "cc5feaa364df4e8498418cd91189014f"
            }
          },
          "metadata": {
            "application/vnd.jupyter.widget-view+json": {
              "colab": {
                "custom_widget_manager": {
                  "url": "https://ssl.gstatic.com/colaboratory-static/widgets/colab-cdn-widget-manager/2b70e893a8ba7c0f/manager.min.js"
                }
              }
            }
          }
        }
      ],
      "source": [
        "m = leafmap.Map(center=[29.676840, -95.369222], zoom=19)\n",
        "m.add_basemap(\"SATELLITE\")\n",
        "m"
      ]
    },
    {
      "cell_type": "markdown",
      "metadata": {
        "id": "JY05SDephQTB"
      },
      "source": [
        "Pan and zoom the map to select the area of interest. Use the draw tools to draw a polygon or rectangle on the map"
      ]
    },
    {
      "cell_type": "code",
      "execution_count": 10,
      "metadata": {
        "id": "AeSZey0ahQTB"
      },
      "outputs": [],
      "source": [
        "if m.user_roi_bounds() is not None:\n",
        "    bbox = m.user_roi_bounds()\n",
        "else:\n",
        "    bbox = [-95.3704, 29.6762, -95.368, 29.6775]"
      ]
    },
    {
      "cell_type": "markdown",
      "metadata": {
        "id": "VVotI5GmhQTB"
      },
      "source": [
        "## Download map tiles\n",
        "\n",
        "Download maps tiles and mosaic them into a single GeoTIFF file"
      ]
    },
    {
      "cell_type": "code",
      "execution_count": 11,
      "metadata": {
        "id": "rc_dZX3ghQTC"
      },
      "outputs": [],
      "source": [
        "image = \"satellite.tif\""
      ]
    },
    {
      "cell_type": "markdown",
      "metadata": {
        "id": "-mQjRejMhQTC"
      },
      "source": [
        "Besides the `satellite` basemap, you can use any of the following basemaps returned by the `get_basemaps()` function:"
      ]
    },
    {
      "cell_type": "code",
      "execution_count": 12,
      "metadata": {
        "id": "fDEURoulhQTC"
      },
      "outputs": [],
      "source": [
        "# get_basemaps().keys()"
      ]
    },
    {
      "cell_type": "markdown",
      "metadata": {
        "id": "29f7KswDhQTC"
      },
      "source": [
        "Specify the basemap as the source."
      ]
    },
    {
      "cell_type": "code",
      "execution_count": 13,
      "metadata": {
        "id": "hmpdou7ihQTC",
        "outputId": "b2d3f9b3-5720-4b4d-bef7-c196bb11e844",
        "colab": {
          "base_uri": "https://localhost:8080/"
        }
      },
      "outputs": [
        {
          "output_type": "stream",
          "name": "stdout",
          "text": [
            "Downloaded image 01/40\n",
            "Downloaded image 02/40\n",
            "Downloaded image 03/40\n",
            "Downloaded image 04/40\n",
            "Downloaded image 05/40\n",
            "Downloaded image 06/40\n",
            "Downloaded image 07/40\n",
            "Downloaded image 08/40\n",
            "Downloaded image 09/40\n",
            "Downloaded image 10/40\n",
            "Downloaded image 11/40\n",
            "Downloaded image 12/40\n",
            "Downloaded image 13/40\n",
            "Downloaded image 14/40\n",
            "Downloaded image 15/40\n",
            "Downloaded image 16/40\n",
            "Downloaded image 17/40\n",
            "Downloaded image 18/40\n",
            "Downloaded image 19/40\n",
            "Downloaded image 20/40\n",
            "Downloaded image 21/40\n",
            "Downloaded image 22/40\n",
            "Downloaded image 23/40\n",
            "Downloaded image 24/40\n",
            "Downloaded image 25/40\n",
            "Downloaded image 26/40\n",
            "Downloaded image 27/40\n",
            "Downloaded image 28/40\n",
            "Downloaded image 29/40\n",
            "Downloaded image 30/40\n",
            "Downloaded image 31/40\n",
            "Downloaded image 32/40\n",
            "Downloaded image 33/40\n",
            "Downloaded image 34/40\n",
            "Downloaded image 35/40\n",
            "Downloaded image 36/40\n",
            "Downloaded image 37/40\n",
            "Downloaded image 38/40\n",
            "Downloaded image 39/40\n",
            "Downloaded image 40/40\n",
            "Saving GeoTIFF. Please wait...\n",
            "Image saved to satellite.tif\n"
          ]
        }
      ],
      "source": [
        "tms_to_geotiff(output=image, bbox=bbox, zoom=20, source=\"Satellite\", overwrite=True)"
      ]
    },
    {
      "cell_type": "markdown",
      "metadata": {
        "id": "go5k7LT1hQTC"
      },
      "source": [
        "You can also use your own image. Uncomment and run the following cell to use your own image."
      ]
    },
    {
      "cell_type": "code",
      "execution_count": 14,
      "metadata": {
        "id": "B3Eu3c-xhQTC"
      },
      "outputs": [],
      "source": [
        "# image = '/path/to/your/own/image.tif'"
      ]
    },
    {
      "cell_type": "markdown",
      "metadata": {
        "id": "MHEYTq3rhQTD"
      },
      "source": [
        "Display the downloaded image on the map."
      ]
    },
    {
      "cell_type": "code",
      "execution_count": 15,
      "metadata": {
        "id": "SMNc8l2xhQTD",
        "outputId": "5b67eeb1-3c57-4cf6-8c7f-8237b26915db",
        "colab": {
          "resources": {
            "http://localhost:45361/api/tiles/17/30812/54212.png?&filename=%2Fcontent%2Fsatellite.tif": {
              "data": "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",
              "ok": true,
              "headers": [
                [
                  "content-length",
                  "33051"
                ],
                [
                  "content-type",
                  "image/PNG"
                ]
              ],
              "status": 200,
              "status_text": ""
            },
            "http://localhost:45361/api/tiles/17/30813/54212.png?&filename=%2Fcontent%2Fsatellite.tif": {
              "data": "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",
              "ok": true,
              "headers": [
                [
                  "content-length",
                  "62367"
                ],
                [
                  "content-type",
                  "image/PNG"
                ]
              ],
              "status": 200,
              "status_text": ""
            }
          },
          "base_uri": "https://localhost:8080/",
          "height": 621,
          "referenced_widgets": [
            "bc39d229815f42c2a13574c5c3840172",
            "8400e514af724c2e83078be29cd8bf3e",
            "1ef04095b67e4bf7920b6f220fc2002c",
            "09a312a0a1614682ad3d7ab604696371",
            "62d588dccbaf49ce81ce29142d974b94",
            "5c73f799d6ce4d0ca7f88468f2be1b55",
            "879b01938f8144edabfcda3d45aaf02e",
            "050dd3cc8b644b989d9db0a802eb7cdc",
            "32b0af7f599f4c42b20ac94f63d1ef4d",
            "fd9f495328d542fb848b2f00ae98cae3",
            "8f33c937753842d3b9695fca64ae6dce",
            "28d84f56661b486c96e3fed9154ff0e5",
            "cc5feaa364df4e8498418cd91189014f",
            "103f732149544dc6be5043fa9460ccfa",
            "1424bf3027ea45838ebf450dfdecf013",
            "bae05525daa740d384cb76ba55e0d089",
            "4fcf6982f1784791abfc1da0a1324ef3",
            "cc8855784cd14b4491566267d1c3828c",
            "412e7a25062c4c838704e1f1bb84d09f",
            "327abbf225d04d1aa51321b5aa49eef3",
            "42d9ef321dea493d825609162b41be23",
            "94cad8b2714d4a928c14c1bb0249c129",
            "88bce6200ebc46c592151e238446b2b4",
            "fd7257e3cc754ce88deb0d40d22ac1a8",
            "57728288a40c4210bb7b8358a674fa34",
            "8f72851ead9546b5b6a495d46724fd0c",
            "40b4495bcacd42ba83140d3f97719158",
            "e3185c41d8314f6c8a478334760ca9d3"
          ]
        }
      },
      "outputs": [
        {
          "output_type": "display_data",
          "data": {
            "text/plain": [
              "Map(center=[29.67685, -95.3692], controls=(ZoomControl(options=['position', 'zoom_in_text', 'zoom_in_title', '…"
            ],
            "application/vnd.jupyter.widget-view+json": {
              "version_major": 2,
              "version_minor": 0,
              "model_id": "cc5feaa364df4e8498418cd91189014f"
            }
          },
          "metadata": {
            "application/vnd.jupyter.widget-view+json": {
              "colab": {
                "custom_widget_manager": {
                  "url": "https://ssl.gstatic.com/colaboratory-static/widgets/colab-cdn-widget-manager/2b70e893a8ba7c0f/manager.min.js"
                }
              }
            }
          }
        }
      ],
      "source": [
        "m.layers[-1].visible = False  # turn off the basemap\n",
        "m.add_raster(image, layer_name=\"Image\")\n",
        "m"
      ]
    },
    {
      "cell_type": "markdown",
      "metadata": {
        "id": "aO-1NfKchQTD"
      },
      "source": [
        "![](https://i.imgur.com/KAm84IY.png)"
      ]
    },
    {
      "cell_type": "markdown",
      "metadata": {
        "id": "SrbRILGPhQTD"
      },
      "source": [
        "## Initialize SAM class"
      ]
    },
    {
      "cell_type": "code",
      "execution_count": 16,
      "metadata": {
        "id": "ijCTgrqMhQTD",
        "outputId": "54b64a5d-f870-48fc-d856-f4f0ef2d0534",
        "colab": {
          "base_uri": "https://localhost:8080/"
        }
      },
      "outputs": [
        {
          "output_type": "stream",
          "name": "stdout",
          "text": [
            "Model checkpoint for vit_h not found.\n"
          ]
        },
        {
          "output_type": "stream",
          "name": "stderr",
          "text": [
            "Downloading...\n",
            "From: https://dl.fbaipublicfiles.com/segment_anything/sam_vit_h_4b8939.pth\n",
            "To: /root/.cache/torch/hub/checkpoints/sam_vit_h_4b8939.pth\n",
            "100%|██████████| 2.56G/2.56G [00:17<00:00, 147MB/s]\n"
          ]
        }
      ],
      "source": [
        "sam = SamGeo(\n",
        "    model_type=\"vit_h\",\n",
        "    checkpoint=\"sam_vit_h_4b8939.pth\",\n",
        "    sam_kwargs=None,\n",
        ")"
      ]
    },
    {
      "cell_type": "markdown",
      "metadata": {
        "id": "RRXzj-DGhQTD"
      },
      "source": [
        "## Segment the image\n",
        "\n",
        "Set `batch=True` to segment the image in batches. This is useful for large images that cannot fit in memory."
      ]
    },
    {
      "cell_type": "code",
      "execution_count": null,
      "metadata": {
        "id": "39ix8fn-hQTD",
        "outputId": "9c0e3fd6-0ac6-4d8a-85bf-606dae69fcdc",
        "colab": {
          "base_uri": "https://localhost:8080/"
        }
      },
      "outputs": [
        {
          "output_type": "stream",
          "name": "stderr",
          "text": [
            " 25%|██▌       | 3/12 [00:21<01:03,  7.05s/it]"
          ]
        }
      ],
      "source": [
        "mask = \"segment.tif\"\n",
        "sam.generate(\n",
        "    image, mask, batch=True, foreground=True, erosion_kernel=(3, 3), mask_multiplier=255\n",
        ")"
      ]
    },
    {
      "cell_type": "markdown",
      "metadata": {
        "id": "VD7y6RwXhQTD"
      },
      "source": [
        "## Polygonize the raster data\n",
        "\n",
        "Save the segmentation results as a GeoPackage file."
      ]
    },
    {
      "cell_type": "code",
      "execution_count": null,
      "metadata": {
        "id": "50Bdnh6VhQTD"
      },
      "outputs": [],
      "source": [
        "vector = \"segment.gpkg\"\n",
        "sam.tiff_to_gpkg(mask, vector, simplify_tolerance=None)"
      ]
    },
    {
      "cell_type": "markdown",
      "metadata": {
        "id": "cm2Pn4QShQTE"
      },
      "source": [
        "You can also save the segmentation results as any vector data format supported by GeoPandas."
      ]
    },
    {
      "cell_type": "code",
      "execution_count": null,
      "metadata": {
        "id": "dwjuavlShQTE"
      },
      "outputs": [],
      "source": [
        "shapefile = \"segment.shp\"\n",
        "sam.tiff_to_vector(mask, shapefile)"
      ]
    },
    {
      "cell_type": "markdown",
      "metadata": {
        "id": "cq71Cn-lhQTE"
      },
      "source": [
        "## Visualize the results"
      ]
    },
    {
      "cell_type": "code",
      "execution_count": null,
      "metadata": {
        "id": "uZIH4CI8hQTE"
      },
      "outputs": [],
      "source": [
        "style = {\n",
        "    \"color\": \"#3388ff\",\n",
        "    \"weight\": 2,\n",
        "    \"fillColor\": \"#7c4185\",\n",
        "    \"fillOpacity\": 0.5,\n",
        "}\n",
        "m.add_vector(vector, layer_name=\"Vector\", style=style)\n",
        "m"
      ]
    },
    {
      "cell_type": "markdown",
      "metadata": {
        "id": "bMnagy30hQTE"
      },
      "source": [
        "![](https://i.imgur.com/Ysq3u7E.png)"
      ]
    }
  ],
  "metadata": {
    "accelerator": "GPU",
    "colab": {
      "provenance": []
    },
    "gpuClass": "standard",
    "kernelspec": {
      "display_name": "Python 3",
      "name": "python3"
    },
    "language_info": {
      "codemirror_mode": {
        "name": "ipython",
        "version": 3
      },
      "file_extension": ".py",
      "mimetype": "text/x-python",
      "name": "python",
      "nbconvert_exporter": "python",
      "pygments_lexer": "ipython3",
      "version": "3.9.16"
    },
    "widgets": {
      "application/vnd.jupyter.widget-state+json": {
        "f8c124b947094e348f44183af6d1a5d6": {
          "model_module": "@jupyter-widgets/controls",
          "model_name": "CheckboxModel",
          "model_module_version": "1.5.0",
          "state": {
            "_dom_classes": [],
            "_model_module": "@jupyter-widgets/controls",
            "_model_module_version": "1.5.0",
            "_model_name": "CheckboxModel",
            "_view_count": null,
            "_view_module": "@jupyter-widgets/controls",
            "_view_module_version": "1.5.0",
            "_view_name": "CheckboxView",
            "description": "OpenStreetMap.Mapnik",
            "description_tooltip": null,
            "disabled": false,
            "indent": false,
            "layout": "IPY_MODEL_dfddbc18f4624a338c79e29cd9437787",
            "style": "IPY_MODEL_baac2be3827a4c0f9a0651bef32071bd",
            "value": true
          }
        },
        "8400e514af724c2e83078be29cd8bf3e": {
          "model_module": "jupyter-leaflet",
          "model_name": "LeafletTileLayerModel",
          "model_module_version": "^0.19",
          "state": {
            "_model_module": "jupyter-leaflet",
            "_model_module_version": "^0.19",
            "_model_name": "LeafletTileLayerModel",
            "_view_count": null,
            "_view_module": "jupyter-leaflet",
            "_view_module_version": "^0.19",
            "_view_name": "LeafletTileLayerView",
            "attribution": "&copy; <a href=\"https://www.openstreetmap.org/copyright\">OpenStreetMap</a> contributors",
            "base": true,
            "bottom": true,
            "bounds": null,
            "detect_retina": false,
            "loading": false,
            "max_native_zoom": null,
            "max_zoom": 19,
            "min_native_zoom": null,
            "min_zoom": 1,
            "name": "OpenStreetMap",
            "no_wrap": false,
            "opacity": 1,
            "options": [
              "attribution",
              "bounds",
              "detect_retina",
              "max_native_zoom",
              "max_zoom",
              "min_native_zoom",
              "min_zoom",
              "no_wrap",
              "tile_size",
              "tms",
              "zoom_offset"
            ],
            "pane": "",
            "popup": null,
            "popup_max_height": null,
            "popup_max_width": 300,
            "popup_min_width": 50,
            "show_loading": false,
            "subitems": [],
            "tile_size": 256,
            "tms": false,
            "url": "https://tile.openstreetmap.org/{z}/{x}/{y}.png",
            "visible": true,
            "zoom_offset": 0
          }
        },
        "03c18507cc564485831dc5940a2d9f8d": {
          "model_module": "@jupyter-widgets/controls",
          "model_name": "CheckboxModel",
          "model_module_version": "1.5.0",
          "state": {
            "_dom_classes": [],
            "_model_module": "@jupyter-widgets/controls",
            "_model_module_version": "1.5.0",
            "_model_name": "CheckboxModel",
            "_view_count": null,
            "_view_module": "@jupyter-widgets/controls",
            "_view_module_version": "1.5.0",
            "_view_name": "CheckboxView",
            "description": "OpenStreetMap.Mapnik",
            "description_tooltip": null,
            "disabled": false,
            "indent": false,
            "layout": "IPY_MODEL_f65ebb1d6ff2466db360ba3f282858a2",
            "style": "IPY_MODEL_5ec5553a590f40eda2ca039ddedab01e",
            "value": true
          }
        },
        "327e56b3acef40f2b20cc941e4afb9ce": {
          "model_module": "@jupyter-widgets/controls",
          "model_name": "CheckboxModel",
          "model_module_version": "1.5.0",
          "state": {
            "_dom_classes": [],
            "_model_module": "@jupyter-widgets/controls",
            "_model_module_version": "1.5.0",
            "_model_name": "CheckboxModel",
            "_view_count": null,
            "_view_module": "@jupyter-widgets/controls",
            "_view_module_version": "1.5.0",
            "_view_name": "CheckboxView",
            "description": "OpenStreetMap.Mapnik",
            "description_tooltip": null,
            "disabled": false,
            "indent": false,
            "layout": "IPY_MODEL_1b69339596984d7e8914073116124ba5",
            "style": "IPY_MODEL_2b0038fe52d64e73b060f72224ae54a1",
            "value": true
          }
        },
        "129386b695724b51b11fbaf4a281c5be": {
          "model_module": "@jupyter-widgets/controls",
          "model_name": "CheckboxModel",
          "model_module_version": "1.5.0",
          "state": {
            "_dom_classes": [],
            "_model_module": "@jupyter-widgets/controls",
            "_model_module_version": "1.5.0",
            "_model_name": "CheckboxModel",
            "_view_count": null,
            "_view_module": "@jupyter-widgets/controls",
            "_view_module_version": "1.5.0",
            "_view_name": "CheckboxView",
            "description": "OpenStreetMap",
            "description_tooltip": null,
            "disabled": false,
            "indent": false,
            "layout": "IPY_MODEL_3d21dfdfd21e42d5b39f752ecdf9f04d",
            "style": "IPY_MODEL_c11c265f2d6445f5aecd8b182de21d2d",
            "value": true
          }
        },
        "498c30d42ad049358d42a27b38e8f118": {
          "model_module": "@jupyter-widgets/controls",
          "model_name": "CheckboxModel",
          "model_module_version": "1.5.0",
          "state": {
            "_dom_classes": [],
            "_model_module": "@jupyter-widgets/controls",
            "_model_module_version": "1.5.0",
            "_model_name": "CheckboxModel",
            "_view_count": null,
            "_view_module": "@jupyter-widgets/controls",
            "_view_module_version": "1.5.0",
            "_view_name": "CheckboxView",
            "description": "OpenStreetMap",
            "description_tooltip": null,
            "disabled": false,
            "indent": false,
            "layout": "IPY_MODEL_6b1ea3a4f3df4c0398db1234b1a5ed1d",
            "style": "IPY_MODEL_d7fdf2f525f44794846bde90c2906379",
            "value": true
          }
        },
        "3fe7f01fea3a48c6b62150ef2c11f5f6": {
          "model_module": "@jupyter-widgets/controls",
          "model_name": "CheckboxModel",
          "model_module_version": "1.5.0",
          "state": {
            "_dom_classes": [],
            "_model_module": "@jupyter-widgets/controls",
            "_model_module_version": "1.5.0",
            "_model_name": "CheckboxModel",
            "_view_count": null,
            "_view_module": "@jupyter-widgets/controls",
            "_view_module_version": "1.5.0",
            "_view_name": "CheckboxView",
            "description": "Google Satellite",
            "description_tooltip": null,
            "disabled": false,
            "indent": false,
            "layout": "IPY_MODEL_9d324b2ce3e64b57a385b5a38c553f76",
            "style": "IPY_MODEL_ffe8fd30cbef47ebaea4997e6297cd04",
            "value": true
          }
        },
        "09a312a0a1614682ad3d7ab604696371": {
          "model_module": "jupyter-leaflet",
          "model_name": "LeafletTileLayerModel",
          "model_module_version": "^0.19",
          "state": {
            "_model_module": "jupyter-leaflet",
            "_model_module_version": "^0.19",
            "_model_name": "LeafletTileLayerModel",
            "_view_count": null,
            "_view_module": "jupyter-leaflet",
            "_view_module_version": "^0.19",
            "_view_name": "LeafletTileLayerView",
            "attribution": "Google",
            "base": false,
            "bottom": true,
            "bounds": null,
            "detect_retina": false,
            "loading": false,
            "max_native_zoom": null,
            "max_zoom": 24,
            "min_native_zoom": null,
            "min_zoom": 0,
            "name": "Google Satellite",
            "no_wrap": false,
            "opacity": 1,
            "options": [
              "attribution",
              "bounds",
              "detect_retina",
              "max_native_zoom",
              "max_zoom",
              "min_native_zoom",
              "min_zoom",
              "no_wrap",
              "tile_size",
              "tms",
              "zoom_offset"
            ],
            "pane": "",
            "popup": null,
            "popup_max_height": null,
            "popup_max_width": 300,
            "popup_min_width": 50,
            "show_loading": false,
            "subitems": [],
            "tile_size": 256,
            "tms": false,
            "url": "https://mt1.google.com/vt/lyrs=s&x={x}&y={y}&z={z}&key=YOUR-API-KEY",
            "visible": false,
            "zoom_offset": 0
          }
        },
        "dfddbc18f4624a338c79e29cd9437787": {
          "model_module": "@jupyter-widgets/base",
          "model_name": "LayoutModel",
          "model_module_version": "1.2.0",
          "state": {
            "_model_module": "@jupyter-widgets/base",
            "_model_module_version": "1.2.0",
            "_model_name": "LayoutModel",
            "_view_count": null,
            "_view_module": "@jupyter-widgets/base",
            "_view_module_version": "1.2.0",
            "_view_name": "LayoutView",
            "align_content": null,
            "align_items": null,
            "align_self": null,
            "border": null,
            "bottom": null,
            "display": null,
            "flex": null,
            "flex_flow": null,
            "grid_area": null,
            "grid_auto_columns": null,
            "grid_auto_flow": null,
            "grid_auto_rows": null,
            "grid_column": null,
            "grid_gap": null,
            "grid_row": null,
            "grid_template_areas": null,
            "grid_template_columns": null,
            "grid_template_rows": null,
            "height": "18px",
            "justify_content": null,
            "justify_items": null,
            "left": null,
            "margin": null,
            "max_height": null,
            "max_width": null,
            "min_height": null,
            "min_width": null,
            "object_fit": null,
            "object_position": null,
            "order": null,
            "overflow": null,
            "overflow_x": null,
            "overflow_y": null,
            "padding": null,
            "right": null,
            "top": null,
            "visibility": null,
            "width": "25ex"
          }
        },
        "baac2be3827a4c0f9a0651bef32071bd": {
          "model_module": "@jupyter-widgets/controls",
          "model_name": "DescriptionStyleModel",
          "model_module_version": "1.5.0",
          "state": {
            "_model_module": "@jupyter-widgets/controls",
            "_model_module_version": "1.5.0",
            "_model_name": "DescriptionStyleModel",
            "_view_count": null,
            "_view_module": "@jupyter-widgets/base",
            "_view_module_version": "1.2.0",
            "_view_name": "StyleView",
            "description_width": ""
          }
        },
        "f65ebb1d6ff2466db360ba3f282858a2": {
          "model_module": "@jupyter-widgets/base",
          "model_name": "LayoutModel",
          "model_module_version": "1.2.0",
          "state": {
            "_model_module": "@jupyter-widgets/base",
            "_model_module_version": "1.2.0",
            "_model_name": "LayoutModel",
            "_view_count": null,
            "_view_module": "@jupyter-widgets/base",
            "_view_module_version": "1.2.0",
            "_view_name": "LayoutView",
            "align_content": null,
            "align_items": null,
            "align_self": null,
            "border": null,
            "bottom": null,
            "display": null,
            "flex": null,
            "flex_flow": null,
            "grid_area": null,
            "grid_auto_columns": null,
            "grid_auto_flow": null,
            "grid_auto_rows": null,
            "grid_column": null,
            "grid_gap": null,
            "grid_row": null,
            "grid_template_areas": null,
            "grid_template_columns": null,
            "grid_template_rows": null,
            "height": "18px",
            "justify_content": null,
            "justify_items": null,
            "left": null,
            "margin": null,
            "max_height": null,
            "max_width": null,
            "min_height": null,
            "min_width": null,
            "object_fit": null,
            "object_position": null,
            "order": null,
            "overflow": null,
            "overflow_x": null,
            "overflow_y": null,
            "padding": null,
            "right": null,
            "top": null,
            "visibility": null,
            "width": "25ex"
          }
        },
        "5ec5553a590f40eda2ca039ddedab01e": {
          "model_module": "@jupyter-widgets/controls",
          "model_name": "DescriptionStyleModel",
          "model_module_version": "1.5.0",
          "state": {
            "_model_module": "@jupyter-widgets/controls",
            "_model_module_version": "1.5.0",
            "_model_name": "DescriptionStyleModel",
            "_view_count": null,
            "_view_module": "@jupyter-widgets/base",
            "_view_module_version": "1.2.0",
            "_view_name": "StyleView",
            "description_width": ""
          }
        },
        "1b69339596984d7e8914073116124ba5": {
          "model_module": "@jupyter-widgets/base",
          "model_name": "LayoutModel",
          "model_module_version": "1.2.0",
          "state": {
            "_model_module": "@jupyter-widgets/base",
            "_model_module_version": "1.2.0",
            "_model_name": "LayoutModel",
            "_view_count": null,
            "_view_module": "@jupyter-widgets/base",
            "_view_module_version": "1.2.0",
            "_view_name": "LayoutView",
            "align_content": null,
            "align_items": null,
            "align_self": null,
            "border": null,
            "bottom": null,
            "display": null,
            "flex": null,
            "flex_flow": null,
            "grid_area": null,
            "grid_auto_columns": null,
            "grid_auto_flow": null,
            "grid_auto_rows": null,
            "grid_column": null,
            "grid_gap": null,
            "grid_row": null,
            "grid_template_areas": null,
            "grid_template_columns": null,
            "grid_template_rows": null,
            "height": "18px",
            "justify_content": null,
            "justify_items": null,
            "left": null,
            "margin": null,
            "max_height": null,
            "max_width": null,
            "min_height": null,
            "min_width": null,
            "object_fit": null,
            "object_position": null,
            "order": null,
            "overflow": null,
            "overflow_x": null,
            "overflow_y": null,
            "padding": null,
            "right": null,
            "top": null,
            "visibility": null,
            "width": "25ex"
          }
        },
        "2b0038fe52d64e73b060f72224ae54a1": {
          "model_module": "@jupyter-widgets/controls",
          "model_name": "DescriptionStyleModel",
          "model_module_version": "1.5.0",
          "state": {
            "_model_module": "@jupyter-widgets/controls",
            "_model_module_version": "1.5.0",
            "_model_name": "DescriptionStyleModel",
            "_view_count": null,
            "_view_module": "@jupyter-widgets/base",
            "_view_module_version": "1.2.0",
            "_view_name": "StyleView",
            "description_width": ""
          }
        },
        "3d21dfdfd21e42d5b39f752ecdf9f04d": {
          "model_module": "@jupyter-widgets/base",
          "model_name": "LayoutModel",
          "model_module_version": "1.2.0",
          "state": {
            "_model_module": "@jupyter-widgets/base",
            "_model_module_version": "1.2.0",
            "_model_name": "LayoutModel",
            "_view_count": null,
            "_view_module": "@jupyter-widgets/base",
            "_view_module_version": "1.2.0",
            "_view_name": "LayoutView",
            "align_content": null,
            "align_items": null,
            "align_self": null,
            "border": null,
            "bottom": null,
            "display": null,
            "flex": null,
            "flex_flow": null,
            "grid_area": null,
            "grid_auto_columns": null,
            "grid_auto_flow": null,
            "grid_auto_rows": null,
            "grid_column": null,
            "grid_gap": null,
            "grid_row": null,
            "grid_template_areas": null,
            "grid_template_columns": null,
            "grid_template_rows": null,
            "height": "18px",
            "justify_content": null,
            "justify_items": null,
            "left": null,
            "margin": null,
            "max_height": null,
            "max_width": null,
            "min_height": null,
            "min_width": null,
            "object_fit": null,
            "object_position": null,
            "order": null,
            "overflow": null,
            "overflow_x": null,
            "overflow_y": null,
            "padding": null,
            "right": null,
            "top": null,
            "visibility": null,
            "width": "25ex"
          }
        },
        "c11c265f2d6445f5aecd8b182de21d2d": {
          "model_module": "@jupyter-widgets/controls",
          "model_name": "DescriptionStyleModel",
          "model_module_version": "1.5.0",
          "state": {
            "_model_module": "@jupyter-widgets/controls",
            "_model_module_version": "1.5.0",
            "_model_name": "DescriptionStyleModel",
            "_view_count": null,
            "_view_module": "@jupyter-widgets/base",
            "_view_module_version": "1.2.0",
            "_view_name": "StyleView",
            "description_width": ""
          }
        },
        "6b1ea3a4f3df4c0398db1234b1a5ed1d": {
          "model_module": "@jupyter-widgets/base",
          "model_name": "LayoutModel",
          "model_module_version": "1.2.0",
          "state": {
            "_model_module": "@jupyter-widgets/base",
            "_model_module_version": "1.2.0",
            "_model_name": "LayoutModel",
            "_view_count": null,
            "_view_module": "@jupyter-widgets/base",
            "_view_module_version": "1.2.0",
            "_view_name": "LayoutView",
            "align_content": null,
            "align_items": null,
            "align_self": null,
            "border": null,
            "bottom": null,
            "display": null,
            "flex": null,
            "flex_flow": null,
            "grid_area": null,
            "grid_auto_columns": null,
            "grid_auto_flow": null,
            "grid_auto_rows": null,
            "grid_column": null,
            "grid_gap": null,
            "grid_row": null,
            "grid_template_areas": null,
            "grid_template_columns": null,
            "grid_template_rows": null,
            "height": "18px",
            "justify_content": null,
            "justify_items": null,
            "left": null,
            "margin": null,
            "max_height": null,
            "max_width": null,
            "min_height": null,
            "min_width": null,
            "object_fit": null,
            "object_position": null,
            "order": null,
            "overflow": null,
            "overflow_x": null,
            "overflow_y": null,
            "padding": null,
            "right": null,
            "top": null,
            "visibility": null,
            "width": "25ex"
          }
        },
        "d7fdf2f525f44794846bde90c2906379": {
          "model_module": "@jupyter-widgets/controls",
          "model_name": "DescriptionStyleModel",
          "model_module_version": "1.5.0",
          "state": {
            "_model_module": "@jupyter-widgets/controls",
            "_model_module_version": "1.5.0",
            "_model_name": "DescriptionStyleModel",
            "_view_count": null,
            "_view_module": "@jupyter-widgets/base",
            "_view_module_version": "1.2.0",
            "_view_name": "StyleView",
            "description_width": ""
          }
        },
        "9d324b2ce3e64b57a385b5a38c553f76": {
          "model_module": "@jupyter-widgets/base",
          "model_name": "LayoutModel",
          "model_module_version": "1.2.0",
          "state": {
            "_model_module": "@jupyter-widgets/base",
            "_model_module_version": "1.2.0",
            "_model_name": "LayoutModel",
            "_view_count": null,
            "_view_module": "@jupyter-widgets/base",
            "_view_module_version": "1.2.0",
            "_view_name": "LayoutView",
            "align_content": null,
            "align_items": null,
            "align_self": null,
            "border": null,
            "bottom": null,
            "display": null,
            "flex": null,
            "flex_flow": null,
            "grid_area": null,
            "grid_auto_columns": null,
            "grid_auto_flow": null,
            "grid_auto_rows": null,
            "grid_column": null,
            "grid_gap": null,
            "grid_row": null,
            "grid_template_areas": null,
            "grid_template_columns": null,
            "grid_template_rows": null,
            "height": "18px",
            "justify_content": null,
            "justify_items": null,
            "left": null,
            "margin": null,
            "max_height": null,
            "max_width": null,
            "min_height": null,
            "min_width": null,
            "object_fit": null,
            "object_position": null,
            "order": null,
            "overflow": null,
            "overflow_x": null,
            "overflow_y": null,
            "padding": null,
            "right": null,
            "top": null,
            "visibility": null,
            "width": "25ex"
          }
        },
        "ffe8fd30cbef47ebaea4997e6297cd04": {
          "model_module": "@jupyter-widgets/controls",
          "model_name": "DescriptionStyleModel",
          "model_module_version": "1.5.0",
          "state": {
            "_model_module": "@jupyter-widgets/controls",
            "_model_module_version": "1.5.0",
            "_model_name": "DescriptionStyleModel",
            "_view_count": null,
            "_view_module": "@jupyter-widgets/base",
            "_view_module_version": "1.2.0",
            "_view_name": "StyleView",
            "description_width": ""
          }
        },
        "cc5feaa364df4e8498418cd91189014f": {
          "model_module": "jupyter-leaflet",
          "model_name": "LeafletMapModel",
          "model_module_version": "^0.19",
          "state": {
            "_dom_classes": [],
            "_model_module": "jupyter-leaflet",
            "_model_module_version": "^0.19",
            "_model_name": "LeafletMapModel",
            "_view_count": null,
            "_view_module": "jupyter-leaflet",
            "_view_module_version": "^0.19",
            "_view_name": "LeafletMapView",
            "bottom": 13878750,
            "bounce_at_zoom_limits": true,
            "box_zoom": true,
            "center": [
              29.67685,
              -95.3692
            ],
            "close_popup_on_click": true,
            "controls": [
              "IPY_MODEL_103f732149544dc6be5043fa9460ccfa",
              "IPY_MODEL_1424bf3027ea45838ebf450dfdecf013",
              "IPY_MODEL_bae05525daa740d384cb76ba55e0d089",
              "IPY_MODEL_4fcf6982f1784791abfc1da0a1324ef3",
              "IPY_MODEL_cc8855784cd14b4491566267d1c3828c",
              "IPY_MODEL_412e7a25062c4c838704e1f1bb84d09f"
            ],
            "crs": {
              "name": "EPSG3857",
              "custom": false
            },
            "default_style": "IPY_MODEL_327abbf225d04d1aa51321b5aa49eef3",
            "double_click_zoom": true,
            "dragging": true,
            "dragging_style": "IPY_MODEL_42d9ef321dea493d825609162b41be23",
            "east": -95.358624458313,
            "fullscreen": false,
            "inertia": true,
            "inertia_deceleration": 3000,
            "inertia_max_speed": 1500,
            "interpolation": "bilinear",
            "keyboard": true,
            "keyboard_pan_offset": 80,
            "keyboard_zoom_offset": 1,
            "layers": [
              "IPY_MODEL_8400e514af724c2e83078be29cd8bf3e",
              "IPY_MODEL_09a312a0a1614682ad3d7ab604696371",
              "IPY_MODEL_fd9f495328d542fb848b2f00ae98cae3"
            ],
            "layout": "IPY_MODEL_94cad8b2714d4a928c14c1bb0249c129",
            "left": 7887176,
            "max_zoom": 24,
            "min_zoom": null,
            "modisdate": "2025-04-01",
            "north": 29.67964529520678,
            "options": [
              "bounce_at_zoom_limits",
              "box_zoom",
              "center",
              "close_popup_on_click",
              "double_click_zoom",
              "dragging",
              "fullscreen",
              "inertia",
              "inertia_deceleration",
              "inertia_max_speed",
              "interpolation",
              "keyboard",
              "keyboard_pan_offset",
              "keyboard_zoom_offset",
              "max_zoom",
              "min_zoom",
              "prefer_canvas",
              "scroll_wheel_zoom",
              "tap",
              "tap_tolerance",
              "touch_zoom",
              "world_copy_jump",
              "zoom",
              "zoom_animation_threshold",
              "zoom_delta",
              "zoom_snap"
            ],
            "panes": {},
            "prefer_canvas": false,
            "right": 7889148,
            "scroll_wheel_zoom": true,
            "south": 29.674052363869148,
            "style": "IPY_MODEL_88bce6200ebc46c592151e238446b2b4",
            "tap": true,
            "tap_tolerance": 15,
            "top": 13878150,
            "touch_zoom": true,
            "west": -95.37978172302246,
            "window_url": "https://tlkn3j0hrcd-496ff2e9c6d22116-0-colab.googleusercontent.com/outputframe.html?vrz=colab_20250331-060219_RC00_742221854",
            "world_copy_jump": false,
            "zoom": 17,
            "zoom_animation_threshold": 4,
            "zoom_delta": 1,
            "zoom_snap": 1
          }
        },
        "103f732149544dc6be5043fa9460ccfa": {
          "model_module": "jupyter-leaflet",
          "model_name": "LeafletZoomControlModel",
          "model_module_version": "^0.19",
          "state": {
            "_model_module": "jupyter-leaflet",
            "_model_module_version": "^0.19",
            "_model_name": "LeafletZoomControlModel",
            "_view_count": null,
            "_view_module": "jupyter-leaflet",
            "_view_module_version": "^0.19",
            "_view_name": "LeafletZoomControlView",
            "options": [
              "position",
              "zoom_in_text",
              "zoom_in_title",
              "zoom_out_text",
              "zoom_out_title"
            ],
            "position": "topleft",
            "zoom_in_text": "+",
            "zoom_in_title": "Zoom in",
            "zoom_out_text": "-",
            "zoom_out_title": "Zoom out"
          }
        },
        "1424bf3027ea45838ebf450dfdecf013": {
          "model_module": "jupyter-leaflet",
          "model_name": "LeafletAttributionControlModel",
          "model_module_version": "^0.19",
          "state": {
            "_model_module": "jupyter-leaflet",
            "_model_module_version": "^0.19",
            "_model_name": "LeafletAttributionControlModel",
            "_view_count": null,
            "_view_module": "jupyter-leaflet",
            "_view_module_version": "^0.19",
            "_view_name": "LeafletAttributionControlView",
            "options": [
              "position",
              "prefix"
            ],
            "position": "bottomright",
            "prefix": "ipyleaflet"
          }
        },
        "bae05525daa740d384cb76ba55e0d089": {
          "model_module": "jupyter-leaflet",
          "model_name": "LeafletFullScreenControlModel",
          "model_module_version": "^0.19",
          "state": {
            "_model_module": "jupyter-leaflet",
            "_model_module_version": "^0.19",
            "_model_name": "LeafletFullScreenControlModel",
            "_view_count": null,
            "_view_module": "jupyter-leaflet",
            "_view_module_version": "^0.19",
            "_view_name": "LeafletFullScreenControlView",
            "options": [
              "position"
            ],
            "position": "topleft"
          }
        },
        "4fcf6982f1784791abfc1da0a1324ef3": {
          "model_module": "jupyter-leaflet",
          "model_name": "LeafletDrawControlModel",
          "model_module_version": "^0.19",
          "state": {
            "_model_module": "jupyter-leaflet",
            "_model_module_version": "^0.19",
            "_model_name": "LeafletDrawControlModel",
            "_view_count": null,
            "_view_module": "jupyter-leaflet",
            "_view_module_version": "^0.19",
            "_view_name": "LeafletDrawControlView",
            "circle": {
              "shapeOptions": {
                "color": "#3388ff"
              },
              "repeatMode": false
            },
            "circlemarker": {},
            "data": [],
            "edit": true,
            "marker": {
              "shapeOptions": {
                "color": "#3388ff"
              },
              "repeatMode": false
            },
            "options": [
              "position"
            ],
            "polygon": {
              "repeatMode": false
            },
            "polyline": {
              "repeatMode": false
            },
            "position": "topleft",
            "rectangle": {
              "shapeOptions": {
                "color": "#3388ff"
              },
              "repeatMode": false
            },
            "remove": true
          }
        },
        "cc8855784cd14b4491566267d1c3828c": {
          "model_module": "jupyter-leaflet",
          "model_name": "LeafletScaleControlModel",
          "model_module_version": "^0.19",
          "state": {
            "_model_module": "jupyter-leaflet",
            "_model_module_version": "^0.19",
            "_model_name": "LeafletScaleControlModel",
            "_view_count": null,
            "_view_module": "jupyter-leaflet",
            "_view_module_version": "^0.19",
            "_view_name": "LeafletScaleControlView",
            "imperial": true,
            "max_width": 100,
            "metric": true,
            "options": [
              "imperial",
              "max_width",
              "metric",
              "position",
              "update_when_idle"
            ],
            "position": "bottomleft",
            "update_when_idle": false
          }
        },
        "412e7a25062c4c838704e1f1bb84d09f": {
          "model_module": "jupyter-leaflet",
          "model_name": "LeafletWidgetControlModel",
          "model_module_version": "^0.19",
          "state": {
            "_model_module": "jupyter-leaflet",
            "_model_module_version": "^0.19",
            "_model_name": "LeafletWidgetControlModel",
            "_view_count": null,
            "_view_module": "jupyter-leaflet",
            "_view_module_version": "^0.19",
            "_view_name": "LeafletWidgetControlView",
            "max_height": null,
            "max_width": null,
            "min_height": null,
            "min_width": null,
            "options": [
              "position",
              "transparent_bg"
            ],
            "position": "topright",
            "transparent_bg": false,
            "widget": "IPY_MODEL_fd7257e3cc754ce88deb0d40d22ac1a8"
          }
        },
        "327abbf225d04d1aa51321b5aa49eef3": {
          "model_module": "jupyter-leaflet",
          "model_name": "LeafletMapStyleModel",
          "model_module_version": "^0.19",
          "state": {
            "_model_module": "jupyter-leaflet",
            "_model_module_version": "^0.19",
            "_model_name": "LeafletMapStyleModel",
            "_view_count": null,
            "_view_module": "@jupyter-widgets/base",
            "_view_module_version": "1.2.0",
            "_view_name": "StyleView",
            "cursor": "grab"
          }
        },
        "42d9ef321dea493d825609162b41be23": {
          "model_module": "jupyter-leaflet",
          "model_name": "LeafletMapStyleModel",
          "model_module_version": "^0.19",
          "state": {
            "_model_module": "jupyter-leaflet",
            "_model_module_version": "^0.19",
            "_model_name": "LeafletMapStyleModel",
            "_view_count": null,
            "_view_module": "@jupyter-widgets/base",
            "_view_module_version": "1.2.0",
            "_view_name": "StyleView",
            "cursor": "move"
          }
        },
        "94cad8b2714d4a928c14c1bb0249c129": {
          "model_module": "@jupyter-widgets/base",
          "model_name": "LayoutModel",
          "model_module_version": "1.2.0",
          "state": {
            "_model_module": "@jupyter-widgets/base",
            "_model_module_version": "1.2.0",
            "_model_name": "LayoutModel",
            "_view_count": null,
            "_view_module": "@jupyter-widgets/base",
            "_view_module_version": "1.2.0",
            "_view_name": "LayoutView",
            "align_content": null,
            "align_items": null,
            "align_self": null,
            "border": null,
            "bottom": null,
            "display": null,
            "flex": null,
            "flex_flow": null,
            "grid_area": null,
            "grid_auto_columns": null,
            "grid_auto_flow": null,
            "grid_auto_rows": null,
            "grid_column": null,
            "grid_gap": null,
            "grid_row": null,
            "grid_template_areas": null,
            "grid_template_columns": null,
            "grid_template_rows": null,
            "height": "600px",
            "justify_content": null,
            "justify_items": null,
            "left": null,
            "margin": null,
            "max_height": null,
            "max_width": null,
            "min_height": null,
            "min_width": null,
            "object_fit": null,
            "object_position": null,
            "order": null,
            "overflow": null,
            "overflow_x": null,
            "overflow_y": null,
            "padding": null,
            "right": null,
            "top": null,
            "visibility": null,
            "width": null
          }
        },
        "88bce6200ebc46c592151e238446b2b4": {
          "model_module": "jupyter-leaflet",
          "model_name": "LeafletMapStyleModel",
          "model_module_version": "^0.19",
          "state": {
            "_model_module": "jupyter-leaflet",
            "_model_module_version": "^0.19",
            "_model_name": "LeafletMapStyleModel",
            "_view_count": null,
            "_view_module": "@jupyter-widgets/base",
            "_view_module_version": "1.2.0",
            "_view_name": "StyleView",
            "cursor": "grab"
          }
        },
        "fd7257e3cc754ce88deb0d40d22ac1a8": {
          "model_module": "@jupyter-widgets/controls",
          "model_name": "VBoxModel",
          "model_module_version": "1.5.0",
          "state": {
            "_dom_classes": [],
            "_model_module": "@jupyter-widgets/controls",
            "_model_module_version": "1.5.0",
            "_model_name": "VBoxModel",
            "_view_count": null,
            "_view_module": "@jupyter-widgets/controls",
            "_view_module_version": "1.5.0",
            "_view_name": "VBoxView",
            "box_style": "",
            "children": [
              "IPY_MODEL_57728288a40c4210bb7b8358a674fa34"
            ],
            "layout": "IPY_MODEL_8f72851ead9546b5b6a495d46724fd0c"
          }
        },
        "57728288a40c4210bb7b8358a674fa34": {
          "model_module": "@jupyter-widgets/controls",
          "model_name": "ToggleButtonModel",
          "model_module_version": "1.5.0",
          "state": {
            "_dom_classes": [],
            "_model_module": "@jupyter-widgets/controls",
            "_model_module_version": "1.5.0",
            "_model_name": "ToggleButtonModel",
            "_view_count": null,
            "_view_module": "@jupyter-widgets/controls",
            "_view_module_version": "1.5.0",
            "_view_name": "ToggleButtonView",
            "button_style": "",
            "description": "",
            "description_tooltip": null,
            "disabled": false,
            "icon": "wrench",
            "layout": "IPY_MODEL_40b4495bcacd42ba83140d3f97719158",
            "style": "IPY_MODEL_e3185c41d8314f6c8a478334760ca9d3",
            "tooltip": "Toolbar",
            "value": false
          }
        },
        "8f72851ead9546b5b6a495d46724fd0c": {
          "model_module": "@jupyter-widgets/base",
          "model_name": "LayoutModel",
          "model_module_version": "1.2.0",
          "state": {
            "_model_module": "@jupyter-widgets/base",
            "_model_module_version": "1.2.0",
            "_model_name": "LayoutModel",
            "_view_count": null,
            "_view_module": "@jupyter-widgets/base",
            "_view_module_version": "1.2.0",
            "_view_name": "LayoutView",
            "align_content": null,
            "align_items": null,
            "align_self": null,
            "border": null,
            "bottom": null,
            "display": null,
            "flex": null,
            "flex_flow": null,
            "grid_area": null,
            "grid_auto_columns": null,
            "grid_auto_flow": null,
            "grid_auto_rows": null,
            "grid_column": null,
            "grid_gap": null,
            "grid_row": null,
            "grid_template_areas": null,
            "grid_template_columns": null,
            "grid_template_rows": null,
            "height": null,
            "justify_content": null,
            "justify_items": null,
            "left": null,
            "margin": null,
            "max_height": null,
            "max_width": null,
            "min_height": null,
            "min_width": null,
            "object_fit": null,
            "object_position": null,
            "order": null,
            "overflow": null,
            "overflow_x": null,
            "overflow_y": null,
            "padding": null,
            "right": null,
            "top": null,
            "visibility": null,
            "width": null
          }
        },
        "40b4495bcacd42ba83140d3f97719158": {
          "model_module": "@jupyter-widgets/base",
          "model_name": "LayoutModel",
          "model_module_version": "1.2.0",
          "state": {
            "_model_module": "@jupyter-widgets/base",
            "_model_module_version": "1.2.0",
            "_model_name": "LayoutModel",
            "_view_count": null,
            "_view_module": "@jupyter-widgets/base",
            "_view_module_version": "1.2.0",
            "_view_name": "LayoutView",
            "align_content": null,
            "align_items": null,
            "align_self": null,
            "border": null,
            "bottom": null,
            "display": null,
            "flex": null,
            "flex_flow": null,
            "grid_area": null,
            "grid_auto_columns": null,
            "grid_auto_flow": null,
            "grid_auto_rows": null,
            "grid_column": null,
            "grid_gap": null,
            "grid_row": null,
            "grid_template_areas": null,
            "grid_template_columns": null,
            "grid_template_rows": null,
            "height": "28px",
            "justify_content": null,
            "justify_items": null,
            "left": null,
            "margin": null,
            "max_height": null,
            "max_width": null,
            "min_height": null,
            "min_width": null,
            "object_fit": null,
            "object_position": null,
            "order": null,
            "overflow": null,
            "overflow_x": null,
            "overflow_y": null,
            "padding": "0px 0px 0px 4px",
            "right": null,
            "top": null,
            "visibility": null,
            "width": "28px"
          }
        },
        "e3185c41d8314f6c8a478334760ca9d3": {
          "model_module": "@jupyter-widgets/controls",
          "model_name": "DescriptionStyleModel",
          "model_module_version": "1.5.0",
          "state": {
            "_model_module": "@jupyter-widgets/controls",
            "_model_module_version": "1.5.0",
            "_model_name": "DescriptionStyleModel",
            "_view_count": null,
            "_view_module": "@jupyter-widgets/base",
            "_view_module_version": "1.2.0",
            "_view_name": "StyleView",
            "description_width": ""
          }
        },
        "fd9f495328d542fb848b2f00ae98cae3": {
          "model_module": "jupyter-leaflet",
          "model_name": "LeafletTileLayerModel",
          "model_module_version": "^0.19",
          "state": {
            "_model_module": "jupyter-leaflet",
            "_model_module_version": "^0.19",
            "_model_name": "LeafletTileLayerModel",
            "_view_count": null,
            "_view_module": "jupyter-leaflet",
            "_view_module_version": "^0.19",
            "_view_name": "LeafletTileLayerView",
            "attribution": "Raster file served by <a href='https://github.com/banesullivan/localtileserver' target='_blank'>localtileserver</a>.",
            "base": false,
            "bottom": true,
            "bounds": [
              [
                29.6762,
                -95.3704
              ],
              [
                29.6775,
                -95.368
              ]
            ],
            "detect_retina": false,
            "loading": false,
            "max_native_zoom": 30,
            "max_zoom": 30,
            "min_native_zoom": null,
            "min_zoom": 0,
            "name": "Image",
            "no_wrap": false,
            "opacity": 1,
            "options": [
              "attribution",
              "bounds",
              "detect_retina",
              "max_native_zoom",
              "max_zoom",
              "min_native_zoom",
              "min_zoom",
              "no_wrap",
              "tile_size",
              "tms",
              "zoom_offset"
            ],
            "pane": "",
            "popup": null,
            "popup_max_height": null,
            "popup_max_width": 300,
            "popup_min_width": 50,
            "show_loading": true,
            "subitems": [],
            "tile_size": 256,
            "tms": false,
            "url": "http://localhost:45361/api/tiles/{z}/{x}/{y}.png?&filename=%2Fcontent%2Fsatellite.tif",
            "visible": true,
            "zoom_offset": 0
          }
        },
        "bc39d229815f42c2a13574c5c3840172": {
          "model_module": "@jupyter-widgets/controls",
          "model_name": "CheckboxModel",
          "model_module_version": "1.5.0",
          "state": {
            "_dom_classes": [],
            "_model_module": "@jupyter-widgets/controls",
            "_model_module_version": "1.5.0",
            "_model_name": "CheckboxModel",
            "_view_count": null,
            "_view_module": "@jupyter-widgets/controls",
            "_view_module_version": "1.5.0",
            "_view_name": "CheckboxView",
            "description": "OpenStreetMap",
            "description_tooltip": null,
            "disabled": false,
            "indent": false,
            "layout": "IPY_MODEL_62d588dccbaf49ce81ce29142d974b94",
            "style": "IPY_MODEL_5c73f799d6ce4d0ca7f88468f2be1b55",
            "value": true
          }
        },
        "1ef04095b67e4bf7920b6f220fc2002c": {
          "model_module": "@jupyter-widgets/controls",
          "model_name": "CheckboxModel",
          "model_module_version": "1.5.0",
          "state": {
            "_dom_classes": [],
            "_model_module": "@jupyter-widgets/controls",
            "_model_module_version": "1.5.0",
            "_model_name": "CheckboxModel",
            "_view_count": null,
            "_view_module": "@jupyter-widgets/controls",
            "_view_module_version": "1.5.0",
            "_view_name": "CheckboxView",
            "description": "Google Satellite",
            "description_tooltip": null,
            "disabled": false,
            "indent": false,
            "layout": "IPY_MODEL_879b01938f8144edabfcda3d45aaf02e",
            "style": "IPY_MODEL_050dd3cc8b644b989d9db0a802eb7cdc",
            "value": false
          }
        },
        "62d588dccbaf49ce81ce29142d974b94": {
          "model_module": "@jupyter-widgets/base",
          "model_name": "LayoutModel",
          "model_module_version": "1.2.0",
          "state": {
            "_model_module": "@jupyter-widgets/base",
            "_model_module_version": "1.2.0",
            "_model_name": "LayoutModel",
            "_view_count": null,
            "_view_module": "@jupyter-widgets/base",
            "_view_module_version": "1.2.0",
            "_view_name": "LayoutView",
            "align_content": null,
            "align_items": null,
            "align_self": null,
            "border": null,
            "bottom": null,
            "display": null,
            "flex": null,
            "flex_flow": null,
            "grid_area": null,
            "grid_auto_columns": null,
            "grid_auto_flow": null,
            "grid_auto_rows": null,
            "grid_column": null,
            "grid_gap": null,
            "grid_row": null,
            "grid_template_areas": null,
            "grid_template_columns": null,
            "grid_template_rows": null,
            "height": "18px",
            "justify_content": null,
            "justify_items": null,
            "left": null,
            "margin": null,
            "max_height": null,
            "max_width": null,
            "min_height": null,
            "min_width": null,
            "object_fit": null,
            "object_position": null,
            "order": null,
            "overflow": null,
            "overflow_x": null,
            "overflow_y": null,
            "padding": null,
            "right": null,
            "top": null,
            "visibility": null,
            "width": "25ex"
          }
        },
        "5c73f799d6ce4d0ca7f88468f2be1b55": {
          "model_module": "@jupyter-widgets/controls",
          "model_name": "DescriptionStyleModel",
          "model_module_version": "1.5.0",
          "state": {
            "_model_module": "@jupyter-widgets/controls",
            "_model_module_version": "1.5.0",
            "_model_name": "DescriptionStyleModel",
            "_view_count": null,
            "_view_module": "@jupyter-widgets/base",
            "_view_module_version": "1.2.0",
            "_view_name": "StyleView",
            "description_width": ""
          }
        },
        "879b01938f8144edabfcda3d45aaf02e": {
          "model_module": "@jupyter-widgets/base",
          "model_name": "LayoutModel",
          "model_module_version": "1.2.0",
          "state": {
            "_model_module": "@jupyter-widgets/base",
            "_model_module_version": "1.2.0",
            "_model_name": "LayoutModel",
            "_view_count": null,
            "_view_module": "@jupyter-widgets/base",
            "_view_module_version": "1.2.0",
            "_view_name": "LayoutView",
            "align_content": null,
            "align_items": null,
            "align_self": null,
            "border": null,
            "bottom": null,
            "display": null,
            "flex": null,
            "flex_flow": null,
            "grid_area": null,
            "grid_auto_columns": null,
            "grid_auto_flow": null,
            "grid_auto_rows": null,
            "grid_column": null,
            "grid_gap": null,
            "grid_row": null,
            "grid_template_areas": null,
            "grid_template_columns": null,
            "grid_template_rows": null,
            "height": "18px",
            "justify_content": null,
            "justify_items": null,
            "left": null,
            "margin": null,
            "max_height": null,
            "max_width": null,
            "min_height": null,
            "min_width": null,
            "object_fit": null,
            "object_position": null,
            "order": null,
            "overflow": null,
            "overflow_x": null,
            "overflow_y": null,
            "padding": null,
            "right": null,
            "top": null,
            "visibility": null,
            "width": "25ex"
          }
        },
        "050dd3cc8b644b989d9db0a802eb7cdc": {
          "model_module": "@jupyter-widgets/controls",
          "model_name": "DescriptionStyleModel",
          "model_module_version": "1.5.0",
          "state": {
            "_model_module": "@jupyter-widgets/controls",
            "_model_module_version": "1.5.0",
            "_model_name": "DescriptionStyleModel",
            "_view_count": null,
            "_view_module": "@jupyter-widgets/base",
            "_view_module_version": "1.2.0",
            "_view_name": "StyleView",
            "description_width": ""
          }
        },
        "32b0af7f599f4c42b20ac94f63d1ef4d": {
          "model_module": "@jupyter-widgets/controls",
          "model_name": "CheckboxModel",
          "model_module_version": "1.5.0",
          "state": {
            "_dom_classes": [],
            "_model_module": "@jupyter-widgets/controls",
            "_model_module_version": "1.5.0",
            "_model_name": "CheckboxModel",
            "_view_count": null,
            "_view_module": "@jupyter-widgets/controls",
            "_view_module_version": "1.5.0",
            "_view_name": "CheckboxView",
            "description": "Image",
            "description_tooltip": null,
            "disabled": false,
            "indent": false,
            "layout": "IPY_MODEL_8f33c937753842d3b9695fca64ae6dce",
            "style": "IPY_MODEL_28d84f56661b486c96e3fed9154ff0e5",
            "value": true
          }
        },
        "8f33c937753842d3b9695fca64ae6dce": {
          "model_module": "@jupyter-widgets/base",
          "model_name": "LayoutModel",
          "model_module_version": "1.2.0",
          "state": {
            "_model_module": "@jupyter-widgets/base",
            "_model_module_version": "1.2.0",
            "_model_name": "LayoutModel",
            "_view_count": null,
            "_view_module": "@jupyter-widgets/base",
            "_view_module_version": "1.2.0",
            "_view_name": "LayoutView",
            "align_content": null,
            "align_items": null,
            "align_self": null,
            "border": null,
            "bottom": null,
            "display": null,
            "flex": null,
            "flex_flow": null,
            "grid_area": null,
            "grid_auto_columns": null,
            "grid_auto_flow": null,
            "grid_auto_rows": null,
            "grid_column": null,
            "grid_gap": null,
            "grid_row": null,
            "grid_template_areas": null,
            "grid_template_columns": null,
            "grid_template_rows": null,
            "height": "18px",
            "justify_content": null,
            "justify_items": null,
            "left": null,
            "margin": null,
            "max_height": null,
            "max_width": null,
            "min_height": null,
            "min_width": null,
            "object_fit": null,
            "object_position": null,
            "order": null,
            "overflow": null,
            "overflow_x": null,
            "overflow_y": null,
            "padding": null,
            "right": null,
            "top": null,
            "visibility": null,
            "width": "25ex"
          }
        },
        "28d84f56661b486c96e3fed9154ff0e5": {
          "model_module": "@jupyter-widgets/controls",
          "model_name": "DescriptionStyleModel",
          "model_module_version": "1.5.0",
          "state": {
            "_model_module": "@jupyter-widgets/controls",
            "_model_module_version": "1.5.0",
            "_model_name": "DescriptionStyleModel",
            "_view_count": null,
            "_view_module": "@jupyter-widgets/base",
            "_view_module_version": "1.2.0",
            "_view_name": "StyleView",
            "description_width": ""
          }
        }
      }
    }
  },
  "nbformat": 4,
  "nbformat_minor": 0
}